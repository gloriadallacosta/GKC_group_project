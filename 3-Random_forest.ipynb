{
 "cells": [
  {
   "cell_type": "code",
   "execution_count": 1,
   "metadata": {
    "id": "z6ygcOuWnCL4"
   },
   "outputs": [],
   "source": [
    "# Import necessary libraries\n",
    "import pandas as pd\n",
    "from sklearn.impute import SimpleImputer\n",
    "import numpy as np\n",
    "from sklearn.preprocessing import StandardScaler\n",
    "from sklearn.model_selection import train_test_split,GridSearchCV\n",
    "from sklearn.metrics import mean_squared_error\n",
    "from sklearn.linear_model import LinearRegression\n",
    "from sklearn.linear_model import Lasso\n",
    "from sklearn.linear_model import ElasticNet\n",
    "from sklearn.ensemble import RandomForestRegressor\n",
    "from pandas import DataFrame\n",
    "\n",
    "import matplotlib.pyplot as plt\n",
    "# Magic word for producing visualizations in notebook\n",
    "%matplotlib inline"
   ]
  },
  {
   "cell_type": "code",
   "execution_count": 2,
   "metadata": {
    "id": "f6WXUYIJnEUf"
   },
   "outputs": [],
   "source": [
    "#read data in-1\n",
    "df = pd.read_csv(\"final.csv\")"
   ]
  },
  {
   "cell_type": "code",
   "execution_count": 3,
   "metadata": {
    "id": "Bkbf3qyUnOC2"
   },
   "outputs": [],
   "source": [
    "df = DataFrame(df, columns=['Reviews','Rating','Price','Revenue','Cuisine','NIL','lat','lng','restaurants_count','Population','Pricexm2'])"
   ]
  },
  {
   "cell_type": "code",
   "execution_count": 4,
   "metadata": {
    "id": "aMZDnpIjxh8I"
   },
   "outputs": [],
   "source": [
    "df['Revenue'] = df['Price'] * df['Reviews']"
   ]
  },
  {
   "cell_type": "code",
   "execution_count": 5,
   "metadata": {
    "colab": {
     "base_uri": "https://localhost:8080/"
    },
    "id": "gijzyiISoVux",
    "outputId": "2d0787b9-a99b-44ab-b89a-ff3f3a19b302"
   },
   "outputs": [
    {
     "name": "stdout",
     "output_type": "stream",
     "text": [
      "<class 'pandas.core.frame.DataFrame'>\n",
      "RangeIndex: 2265 entries, 0 to 2264\n",
      "Data columns (total 11 columns):\n",
      " #   Column             Non-Null Count  Dtype  \n",
      "---  ------             --------------  -----  \n",
      " 0   Reviews            2169 non-null   float64\n",
      " 1   Rating             2265 non-null   float64\n",
      " 2   Price              996 non-null    float64\n",
      " 3   Revenue            930 non-null    float64\n",
      " 4   Cuisine            2265 non-null   object \n",
      " 5   NIL                2265 non-null   object \n",
      " 6   lat                2265 non-null   float64\n",
      " 7   lng                2265 non-null   float64\n",
      " 8   restaurants_count  2265 non-null   int64  \n",
      " 9   Population         2265 non-null   int64  \n",
      " 10  Pricexm2           2265 non-null   int64  \n",
      "dtypes: float64(6), int64(3), object(2)\n",
      "memory usage: 194.8+ KB\n"
     ]
    }
   ],
   "source": [
    "df.info()"
   ]
  },
  {
   "cell_type": "code",
   "execution_count": 6,
   "metadata": {
    "colab": {
     "base_uri": "https://localhost:8080/",
     "height": 434
    },
    "id": "wHMHE_kysxsV",
    "outputId": "96e3cd78-a689-47c7-9c4f-0fe56cbdbadf"
   },
   "outputs": [
    {
     "data": {
      "text/html": [
       "<div>\n",
       "<style scoped>\n",
       "    .dataframe tbody tr th:only-of-type {\n",
       "        vertical-align: middle;\n",
       "    }\n",
       "\n",
       "    .dataframe tbody tr th {\n",
       "        vertical-align: top;\n",
       "    }\n",
       "\n",
       "    .dataframe thead th {\n",
       "        text-align: right;\n",
       "    }\n",
       "</style>\n",
       "<table border=\"1\" class=\"dataframe\">\n",
       "  <thead>\n",
       "    <tr style=\"text-align: right;\">\n",
       "      <th></th>\n",
       "      <th>Reviews</th>\n",
       "      <th>Rating</th>\n",
       "      <th>Price</th>\n",
       "      <th>Revenue</th>\n",
       "      <th>Cuisine</th>\n",
       "      <th>NIL</th>\n",
       "      <th>lat</th>\n",
       "      <th>lng</th>\n",
       "      <th>restaurants_count</th>\n",
       "      <th>Population</th>\n",
       "      <th>Pricexm2</th>\n",
       "    </tr>\n",
       "  </thead>\n",
       "  <tbody>\n",
       "    <tr>\n",
       "      <th>0</th>\n",
       "      <td>368.0</td>\n",
       "      <td>5.0</td>\n",
       "      <td>8.0</td>\n",
       "      <td>2944.0</td>\n",
       "      <td>Filipino, Healthy</td>\n",
       "      <td>BRERA</td>\n",
       "      <td>45.47940</td>\n",
       "      <td>9.18209</td>\n",
       "      <td>114</td>\n",
       "      <td>18492</td>\n",
       "      <td>6250</td>\n",
       "    </tr>\n",
       "    <tr>\n",
       "      <th>1</th>\n",
       "      <td>236.0</td>\n",
       "      <td>5.0</td>\n",
       "      <td>NaN</td>\n",
       "      <td>NaN</td>\n",
       "      <td>Middle Eastern, Turkish, Pub, Bar, Internation...</td>\n",
       "      <td>XXII MARZO</td>\n",
       "      <td>45.46201</td>\n",
       "      <td>9.21903</td>\n",
       "      <td>89</td>\n",
       "      <td>31720</td>\n",
       "      <td>4100</td>\n",
       "    </tr>\n",
       "    <tr>\n",
       "      <th>2</th>\n",
       "      <td>174.0</td>\n",
       "      <td>5.0</td>\n",
       "      <td>53.5</td>\n",
       "      <td>9309.0</td>\n",
       "      <td>Italian, Steakhouse, Barbecue</td>\n",
       "      <td>FORZE ARMATE</td>\n",
       "      <td>45.46848</td>\n",
       "      <td>9.12568</td>\n",
       "      <td>8</td>\n",
       "      <td>24871</td>\n",
       "      <td>1700</td>\n",
       "    </tr>\n",
       "    <tr>\n",
       "      <th>3</th>\n",
       "      <td>168.0</td>\n",
       "      <td>5.0</td>\n",
       "      <td>9.5</td>\n",
       "      <td>1596.0</td>\n",
       "      <td>Italian, Street Food, Fast Food</td>\n",
       "      <td>DUOMO</td>\n",
       "      <td>45.46162</td>\n",
       "      <td>9.19556</td>\n",
       "      <td>204</td>\n",
       "      <td>16765</td>\n",
       "      <td>4950</td>\n",
       "    </tr>\n",
       "    <tr>\n",
       "      <th>4</th>\n",
       "      <td>665.0</td>\n",
       "      <td>5.0</td>\n",
       "      <td>11.5</td>\n",
       "      <td>7647.5</td>\n",
       "      <td>Italian, Mediterranean, Deli, Street Food, Apu...</td>\n",
       "      <td>PORTA VIGENTINA - PORTA LODOVICA</td>\n",
       "      <td>45.45179</td>\n",
       "      <td>9.18687</td>\n",
       "      <td>44</td>\n",
       "      <td>13686</td>\n",
       "      <td>3300</td>\n",
       "    </tr>\n",
       "  </tbody>\n",
       "</table>\n",
       "</div>"
      ],
      "text/plain": [
       "   Reviews  Rating  Price  Revenue  \\\n",
       "0    368.0     5.0    8.0   2944.0   \n",
       "1    236.0     5.0    NaN      NaN   \n",
       "2    174.0     5.0   53.5   9309.0   \n",
       "3    168.0     5.0    9.5   1596.0   \n",
       "4    665.0     5.0   11.5   7647.5   \n",
       "\n",
       "                                             Cuisine  \\\n",
       "0                                  Filipino, Healthy   \n",
       "1  Middle Eastern, Turkish, Pub, Bar, Internation...   \n",
       "2                      Italian, Steakhouse, Barbecue   \n",
       "3                    Italian, Street Food, Fast Food   \n",
       "4  Italian, Mediterranean, Deli, Street Food, Apu...   \n",
       "\n",
       "                                NIL       lat      lng  restaurants_count  \\\n",
       "0                             BRERA  45.47940  9.18209                114   \n",
       "1                        XXII MARZO  45.46201  9.21903                 89   \n",
       "2                      FORZE ARMATE  45.46848  9.12568                  8   \n",
       "3                             DUOMO  45.46162  9.19556                204   \n",
       "4  PORTA VIGENTINA - PORTA LODOVICA  45.45179  9.18687                 44   \n",
       "\n",
       "   Population  Pricexm2  \n",
       "0       18492      6250  \n",
       "1       31720      4100  \n",
       "2       24871      1700  \n",
       "3       16765      4950  \n",
       "4       13686      3300  "
      ]
     },
     "execution_count": 6,
     "metadata": {},
     "output_type": "execute_result"
    }
   ],
   "source": [
    "df.head()"
   ]
  },
  {
   "cell_type": "markdown",
   "metadata": {
    "id": "LtS_5g4NntpZ"
   },
   "source": [
    "**Handling missing data**"
   ]
  },
  {
   "cell_type": "code",
   "execution_count": 7,
   "metadata": {
    "colab": {
     "base_uri": "https://localhost:8080/"
    },
    "id": "oApljc7nns77",
    "outputId": "cd9f77d1-8a07-40e4-ec43-156234fde781"
   },
   "outputs": [
    {
     "data": {
      "text/plain": [
       "0"
      ]
     },
     "execution_count": 7,
     "metadata": {},
     "output_type": "execute_result"
    }
   ],
   "source": [
    "# Impute categorical variables with the most frequent,\n",
    "# because this method is better for replace null values of categorical variables \n",
    "imp_obj= SimpleImputer(missing_values=np.nan, strategy='most_frequent')\n",
    "obj_cols = df.select_dtypes(include=['object']).columns\n",
    "df[obj_cols]= pd.DataFrame(data=imp_obj.fit_transform(df[obj_cols]),\n",
    "                                         index=df[obj_cols].index, columns=obj_cols)\n",
    "df[obj_cols].isnull().sum().sum()"
   ]
  },
  {
   "cell_type": "code",
   "execution_count": 8,
   "metadata": {
    "colab": {
     "base_uri": "https://localhost:8080/"
    },
    "id": "sf2lqJsnn7fB",
    "outputId": "62a397ef-29d1-40c1-f1cf-236a5811abfb"
   },
   "outputs": [
    {
     "data": {
      "text/plain": [
       "0"
      ]
     },
     "execution_count": 8,
     "metadata": {},
     "output_type": "execute_result"
    }
   ],
   "source": [
    "# Impute numeric values with mean\n",
    "# because this method has better result than imputation with median\n",
    "imp_num= SimpleImputer(missing_values=np.nan, strategy='mean')\n",
    "num_cols = df.drop(columns=['Reviews']).select_dtypes(include=['float64', 'int64']).columns\n",
    "df[num_cols]= pd.DataFrame(data=imp_num.fit_transform(df[num_cols]),\n",
    "                                         index=df[num_cols].index, columns=num_cols)\n",
    "df[num_cols].isnull().sum().sum()"
   ]
  },
  {
   "cell_type": "code",
   "execution_count": 9,
   "metadata": {
    "id": "TclcuJKvoUJb"
   },
   "outputs": [],
   "source": [
    "# Deleting rows with missing outcomes\n",
    "df = df.dropna()"
   ]
  },
  {
   "cell_type": "markdown",
   "metadata": {
    "id": "Bhz5eV6AoklQ"
   },
   "source": [
    "**Encode categorical features**"
   ]
  },
  {
   "cell_type": "code",
   "execution_count": 10,
   "metadata": {
    "colab": {
     "base_uri": "https://localhost:8080/"
    },
    "id": "ZgUHweO_oqfK",
    "outputId": "20bcc88e-0055-43ca-e46b-90135f833779"
   },
   "outputs": [
    {
     "name": "stdout",
     "output_type": "stream",
     "text": [
      "<class 'pandas.core.frame.DataFrame'>\n",
      "Int64Index: 2169 entries, 0 to 2264\n",
      "Data columns (total 11 columns):\n",
      " #   Column             Non-Null Count  Dtype  \n",
      "---  ------             --------------  -----  \n",
      " 0   Reviews            2169 non-null   float64\n",
      " 1   Rating             2169 non-null   float64\n",
      " 2   Price              2169 non-null   float64\n",
      " 3   Revenue            2169 non-null   float64\n",
      " 4   Cuisine            2169 non-null   object \n",
      " 5   NIL                2169 non-null   object \n",
      " 6   lat                2169 non-null   float64\n",
      " 7   lng                2169 non-null   float64\n",
      " 8   restaurants_count  2169 non-null   float64\n",
      " 9   Population         2169 non-null   float64\n",
      " 10  Pricexm2           2169 non-null   float64\n",
      "dtypes: float64(9), object(2)\n",
      "memory usage: 203.3+ KB\n"
     ]
    }
   ],
   "source": [
    "df.info()"
   ]
  },
  {
   "cell_type": "code",
   "execution_count": 11,
   "metadata": {
    "colab": {
     "base_uri": "https://localhost:8080/",
     "height": 967
    },
    "id": "ZlF6tRLeon6T",
    "outputId": "f58a69e3-408b-4e8c-a2e5-a2393f06c7e5"
   },
   "outputs": [
    {
     "data": {
      "text/html": [
       "<div>\n",
       "<style scoped>\n",
       "    .dataframe tbody tr th:only-of-type {\n",
       "        vertical-align: middle;\n",
       "    }\n",
       "\n",
       "    .dataframe tbody tr th {\n",
       "        vertical-align: top;\n",
       "    }\n",
       "\n",
       "    .dataframe thead th {\n",
       "        text-align: right;\n",
       "    }\n",
       "</style>\n",
       "<table border=\"1\" class=\"dataframe\">\n",
       "  <thead>\n",
       "    <tr style=\"text-align: right;\">\n",
       "      <th></th>\n",
       "      <th>Reviews</th>\n",
       "      <th>Rating</th>\n",
       "      <th>Price</th>\n",
       "      <th>Revenue</th>\n",
       "      <th>Cuisine</th>\n",
       "      <th>lat</th>\n",
       "      <th>lng</th>\n",
       "      <th>restaurants_count</th>\n",
       "      <th>Population</th>\n",
       "      <th>Pricexm2</th>\n",
       "      <th>...</th>\n",
       "      <th>NIL_STEPHENSON</th>\n",
       "      <th>NIL_TALIEDO - MORSENCHIO - Q.RE FORLANINI</th>\n",
       "      <th>NIL_TIBALDI</th>\n",
       "      <th>NIL_TRE TORRI</th>\n",
       "      <th>NIL_TRENNO</th>\n",
       "      <th>NIL_TRIULZO SUPERIORE</th>\n",
       "      <th>NIL_UMBRIA - MOLISE - CALVAIRATE</th>\n",
       "      <th>NIL_VIGENTINO - Q.RE FATIMA</th>\n",
       "      <th>NIL_VILLAPIZZONE - CAGNOLA - BOLDINASCO</th>\n",
       "      <th>NIL_XXII MARZO</th>\n",
       "    </tr>\n",
       "  </thead>\n",
       "  <tbody>\n",
       "    <tr>\n",
       "      <th>0</th>\n",
       "      <td>368.0</td>\n",
       "      <td>5.0</td>\n",
       "      <td>8.000000</td>\n",
       "      <td>2944.000000</td>\n",
       "      <td>Filipino, Healthy</td>\n",
       "      <td>45.47940</td>\n",
       "      <td>9.18209</td>\n",
       "      <td>114.0</td>\n",
       "      <td>18492.0</td>\n",
       "      <td>6250.0</td>\n",
       "      <td>...</td>\n",
       "      <td>0</td>\n",
       "      <td>0</td>\n",
       "      <td>0</td>\n",
       "      <td>0</td>\n",
       "      <td>0</td>\n",
       "      <td>0</td>\n",
       "      <td>0</td>\n",
       "      <td>0</td>\n",
       "      <td>0</td>\n",
       "      <td>0</td>\n",
       "    </tr>\n",
       "    <tr>\n",
       "      <th>1</th>\n",
       "      <td>236.0</td>\n",
       "      <td>5.0</td>\n",
       "      <td>23.519076</td>\n",
       "      <td>5140.875269</td>\n",
       "      <td>Middle Eastern, Turkish, Pub, Bar, Internation...</td>\n",
       "      <td>45.46201</td>\n",
       "      <td>9.21903</td>\n",
       "      <td>89.0</td>\n",
       "      <td>31720.0</td>\n",
       "      <td>4100.0</td>\n",
       "      <td>...</td>\n",
       "      <td>0</td>\n",
       "      <td>0</td>\n",
       "      <td>0</td>\n",
       "      <td>0</td>\n",
       "      <td>0</td>\n",
       "      <td>0</td>\n",
       "      <td>0</td>\n",
       "      <td>0</td>\n",
       "      <td>0</td>\n",
       "      <td>1</td>\n",
       "    </tr>\n",
       "    <tr>\n",
       "      <th>2</th>\n",
       "      <td>174.0</td>\n",
       "      <td>5.0</td>\n",
       "      <td>53.500000</td>\n",
       "      <td>9309.000000</td>\n",
       "      <td>Italian, Steakhouse, Barbecue</td>\n",
       "      <td>45.46848</td>\n",
       "      <td>9.12568</td>\n",
       "      <td>8.0</td>\n",
       "      <td>24871.0</td>\n",
       "      <td>1700.0</td>\n",
       "      <td>...</td>\n",
       "      <td>0</td>\n",
       "      <td>0</td>\n",
       "      <td>0</td>\n",
       "      <td>0</td>\n",
       "      <td>0</td>\n",
       "      <td>0</td>\n",
       "      <td>0</td>\n",
       "      <td>0</td>\n",
       "      <td>0</td>\n",
       "      <td>0</td>\n",
       "    </tr>\n",
       "    <tr>\n",
       "      <th>3</th>\n",
       "      <td>168.0</td>\n",
       "      <td>5.0</td>\n",
       "      <td>9.500000</td>\n",
       "      <td>1596.000000</td>\n",
       "      <td>Italian, Street Food, Fast Food</td>\n",
       "      <td>45.46162</td>\n",
       "      <td>9.19556</td>\n",
       "      <td>204.0</td>\n",
       "      <td>16765.0</td>\n",
       "      <td>4950.0</td>\n",
       "      <td>...</td>\n",
       "      <td>0</td>\n",
       "      <td>0</td>\n",
       "      <td>0</td>\n",
       "      <td>0</td>\n",
       "      <td>0</td>\n",
       "      <td>0</td>\n",
       "      <td>0</td>\n",
       "      <td>0</td>\n",
       "      <td>0</td>\n",
       "      <td>0</td>\n",
       "    </tr>\n",
       "    <tr>\n",
       "      <th>4</th>\n",
       "      <td>665.0</td>\n",
       "      <td>5.0</td>\n",
       "      <td>11.500000</td>\n",
       "      <td>7647.500000</td>\n",
       "      <td>Italian, Mediterranean, Deli, Street Food, Apu...</td>\n",
       "      <td>45.45179</td>\n",
       "      <td>9.18687</td>\n",
       "      <td>44.0</td>\n",
       "      <td>13686.0</td>\n",
       "      <td>3300.0</td>\n",
       "      <td>...</td>\n",
       "      <td>0</td>\n",
       "      <td>0</td>\n",
       "      <td>0</td>\n",
       "      <td>0</td>\n",
       "      <td>0</td>\n",
       "      <td>0</td>\n",
       "      <td>0</td>\n",
       "      <td>0</td>\n",
       "      <td>0</td>\n",
       "      <td>0</td>\n",
       "    </tr>\n",
       "    <tr>\n",
       "      <th>5</th>\n",
       "      <td>966.0</td>\n",
       "      <td>4.5</td>\n",
       "      <td>24.000000</td>\n",
       "      <td>23184.000000</td>\n",
       "      <td>Italian, Pizza, Mediterranean, Neapolitan, Cam...</td>\n",
       "      <td>45.45298</td>\n",
       "      <td>9.17189</td>\n",
       "      <td>74.0</td>\n",
       "      <td>17030.0</td>\n",
       "      <td>4000.0</td>\n",
       "      <td>...</td>\n",
       "      <td>0</td>\n",
       "      <td>0</td>\n",
       "      <td>0</td>\n",
       "      <td>0</td>\n",
       "      <td>0</td>\n",
       "      <td>0</td>\n",
       "      <td>0</td>\n",
       "      <td>0</td>\n",
       "      <td>0</td>\n",
       "      <td>0</td>\n",
       "    </tr>\n",
       "    <tr>\n",
       "      <th>6</th>\n",
       "      <td>137.0</td>\n",
       "      <td>5.0</td>\n",
       "      <td>38.500000</td>\n",
       "      <td>5274.500000</td>\n",
       "      <td>Sushi, Italian, Bar, Mediterranean, Healthy</td>\n",
       "      <td>45.45381</td>\n",
       "      <td>9.16346</td>\n",
       "      <td>56.0</td>\n",
       "      <td>15228.0</td>\n",
       "      <td>4550.0</td>\n",
       "      <td>...</td>\n",
       "      <td>0</td>\n",
       "      <td>0</td>\n",
       "      <td>0</td>\n",
       "      <td>0</td>\n",
       "      <td>0</td>\n",
       "      <td>0</td>\n",
       "      <td>0</td>\n",
       "      <td>0</td>\n",
       "      <td>0</td>\n",
       "      <td>0</td>\n",
       "    </tr>\n",
       "    <tr>\n",
       "      <th>7</th>\n",
       "      <td>507.0</td>\n",
       "      <td>4.5</td>\n",
       "      <td>149.500000</td>\n",
       "      <td>75796.500000</td>\n",
       "      <td>Italian, Cafe, Contemporary, Dining bars</td>\n",
       "      <td>45.47149</td>\n",
       "      <td>9.18479</td>\n",
       "      <td>114.0</td>\n",
       "      <td>18492.0</td>\n",
       "      <td>6250.0</td>\n",
       "      <td>...</td>\n",
       "      <td>0</td>\n",
       "      <td>0</td>\n",
       "      <td>0</td>\n",
       "      <td>0</td>\n",
       "      <td>0</td>\n",
       "      <td>0</td>\n",
       "      <td>0</td>\n",
       "      <td>0</td>\n",
       "      <td>0</td>\n",
       "      <td>0</td>\n",
       "    </tr>\n",
       "    <tr>\n",
       "      <th>8</th>\n",
       "      <td>844.0</td>\n",
       "      <td>4.5</td>\n",
       "      <td>6.000000</td>\n",
       "      <td>5064.000000</td>\n",
       "      <td>Italian, Fast Food, Healthy, Emilian, Northern...</td>\n",
       "      <td>45.48343</td>\n",
       "      <td>9.21540</td>\n",
       "      <td>193.0</td>\n",
       "      <td>62347.0</td>\n",
       "      <td>4750.0</td>\n",
       "      <td>...</td>\n",
       "      <td>0</td>\n",
       "      <td>0</td>\n",
       "      <td>0</td>\n",
       "      <td>0</td>\n",
       "      <td>0</td>\n",
       "      <td>0</td>\n",
       "      <td>0</td>\n",
       "      <td>0</td>\n",
       "      <td>0</td>\n",
       "      <td>0</td>\n",
       "    </tr>\n",
       "    <tr>\n",
       "      <th>10</th>\n",
       "      <td>226.0</td>\n",
       "      <td>5.0</td>\n",
       "      <td>10.000000</td>\n",
       "      <td>2260.000000</td>\n",
       "      <td>Italian, Cafe, European, Contemporary, Street ...</td>\n",
       "      <td>45.44910</td>\n",
       "      <td>9.17987</td>\n",
       "      <td>81.0</td>\n",
       "      <td>20008.0</td>\n",
       "      <td>4000.0</td>\n",
       "      <td>...</td>\n",
       "      <td>0</td>\n",
       "      <td>0</td>\n",
       "      <td>0</td>\n",
       "      <td>0</td>\n",
       "      <td>0</td>\n",
       "      <td>0</td>\n",
       "      <td>0</td>\n",
       "      <td>0</td>\n",
       "      <td>0</td>\n",
       "      <td>0</td>\n",
       "    </tr>\n",
       "  </tbody>\n",
       "</table>\n",
       "<p>10 rows × 89 columns</p>\n",
       "</div>"
      ],
      "text/plain": [
       "    Reviews  Rating       Price       Revenue  \\\n",
       "0     368.0     5.0    8.000000   2944.000000   \n",
       "1     236.0     5.0   23.519076   5140.875269   \n",
       "2     174.0     5.0   53.500000   9309.000000   \n",
       "3     168.0     5.0    9.500000   1596.000000   \n",
       "4     665.0     5.0   11.500000   7647.500000   \n",
       "5     966.0     4.5   24.000000  23184.000000   \n",
       "6     137.0     5.0   38.500000   5274.500000   \n",
       "7     507.0     4.5  149.500000  75796.500000   \n",
       "8     844.0     4.5    6.000000   5064.000000   \n",
       "10    226.0     5.0   10.000000   2260.000000   \n",
       "\n",
       "                                              Cuisine       lat      lng  \\\n",
       "0                                   Filipino, Healthy  45.47940  9.18209   \n",
       "1   Middle Eastern, Turkish, Pub, Bar, Internation...  45.46201  9.21903   \n",
       "2                       Italian, Steakhouse, Barbecue  45.46848  9.12568   \n",
       "3                     Italian, Street Food, Fast Food  45.46162  9.19556   \n",
       "4   Italian, Mediterranean, Deli, Street Food, Apu...  45.45179  9.18687   \n",
       "5   Italian, Pizza, Mediterranean, Neapolitan, Cam...  45.45298  9.17189   \n",
       "6         Sushi, Italian, Bar, Mediterranean, Healthy  45.45381  9.16346   \n",
       "7            Italian, Cafe, Contemporary, Dining bars  45.47149  9.18479   \n",
       "8   Italian, Fast Food, Healthy, Emilian, Northern...  45.48343  9.21540   \n",
       "10  Italian, Cafe, European, Contemporary, Street ...  45.44910  9.17987   \n",
       "\n",
       "    restaurants_count  Population  Pricexm2  ...  NIL_STEPHENSON  \\\n",
       "0               114.0     18492.0    6250.0  ...               0   \n",
       "1                89.0     31720.0    4100.0  ...               0   \n",
       "2                 8.0     24871.0    1700.0  ...               0   \n",
       "3               204.0     16765.0    4950.0  ...               0   \n",
       "4                44.0     13686.0    3300.0  ...               0   \n",
       "5                74.0     17030.0    4000.0  ...               0   \n",
       "6                56.0     15228.0    4550.0  ...               0   \n",
       "7               114.0     18492.0    6250.0  ...               0   \n",
       "8               193.0     62347.0    4750.0  ...               0   \n",
       "10               81.0     20008.0    4000.0  ...               0   \n",
       "\n",
       "    NIL_TALIEDO - MORSENCHIO - Q.RE FORLANINI  NIL_TIBALDI  NIL_TRE TORRI  \\\n",
       "0                                           0            0              0   \n",
       "1                                           0            0              0   \n",
       "2                                           0            0              0   \n",
       "3                                           0            0              0   \n",
       "4                                           0            0              0   \n",
       "5                                           0            0              0   \n",
       "6                                           0            0              0   \n",
       "7                                           0            0              0   \n",
       "8                                           0            0              0   \n",
       "10                                          0            0              0   \n",
       "\n",
       "    NIL_TRENNO  NIL_TRIULZO SUPERIORE  NIL_UMBRIA - MOLISE - CALVAIRATE  \\\n",
       "0            0                      0                                 0   \n",
       "1            0                      0                                 0   \n",
       "2            0                      0                                 0   \n",
       "3            0                      0                                 0   \n",
       "4            0                      0                                 0   \n",
       "5            0                      0                                 0   \n",
       "6            0                      0                                 0   \n",
       "7            0                      0                                 0   \n",
       "8            0                      0                                 0   \n",
       "10           0                      0                                 0   \n",
       "\n",
       "    NIL_VIGENTINO - Q.RE FATIMA  NIL_VILLAPIZZONE - CAGNOLA - BOLDINASCO  \\\n",
       "0                             0                                        0   \n",
       "1                             0                                        0   \n",
       "2                             0                                        0   \n",
       "3                             0                                        0   \n",
       "4                             0                                        0   \n",
       "5                             0                                        0   \n",
       "6                             0                                        0   \n",
       "7                             0                                        0   \n",
       "8                             0                                        0   \n",
       "10                            0                                        0   \n",
       "\n",
       "    NIL_XXII MARZO  \n",
       "0                0  \n",
       "1                1  \n",
       "2                0  \n",
       "3                0  \n",
       "4                0  \n",
       "5                0  \n",
       "6                0  \n",
       "7                0  \n",
       "8                0  \n",
       "10               0  \n",
       "\n",
       "[10 rows x 89 columns]"
      ]
     },
     "execution_count": 11,
     "metadata": {},
     "output_type": "execute_result"
    }
   ],
   "source": [
    "# Dummy the categorical variables\n",
    "cat_vars = ['NIL']\n",
    "\n",
    "for var in  cat_vars:\n",
    "    df = pd.concat([df.drop(var, axis=1), \n",
    "                                    pd.get_dummies(df[var], prefix=var, prefix_sep='_', drop_first=False)],\n",
    "                                   axis=1)\n",
    "df.head(10)"
   ]
  },
  {
   "cell_type": "code",
   "execution_count": 12,
   "metadata": {
    "colab": {
     "base_uri": "https://localhost:8080/"
    },
    "id": "gQKirS2jqKOt",
    "outputId": "e179e5a9-a419-4762-a3b1-bc541f33d208"
   },
   "outputs": [
    {
     "data": {
      "text/plain": [
       "array([list(['Filipino', ' Healthy']),\n",
       "       list(['Middle Eastern', ' Turkish', ' Pub', ' Bar', ' International', ' Dining bars']),\n",
       "       list(['Italian', ' Steakhouse', ' Barbecue']), ...,\n",
       "       list(['Asian', ' Nepali']),\n",
       "       list(['Chinese', ' Cafe', ' Fast Food', ' Sushi', ' Middle Eastern']),\n",
       "       list(['Chinese', ' Japanese', ' Sushi', ' Asian'])], dtype=object)"
      ]
     },
     "execution_count": 12,
     "metadata": {},
     "output_type": "execute_result"
    }
   ],
   "source": [
    "# Remove unwanted characters from cuisines feature and split it to rows, then conver them into array \n",
    "cuisine = np.array(df['Cuisine'].map(lambda a: a.strip('{}').replace('\"', '').split(',')))\n",
    "cuisine"
   ]
  },
  {
   "cell_type": "code",
   "execution_count": 13,
   "metadata": {
    "colab": {
     "base_uri": "https://localhost:8080/"
    },
    "id": "1QmX0nY2qSq8",
    "outputId": "5d706759-9910-4f3e-a022-ea7d7b35777c"
   },
   "outputs": [
    {
     "data": {
      "text/plain": [
       "array([' African', ' American', ' Apulian', ' Arabic', ' Argentinean',\n",
       "       ' Asian', ' Australian', ' Austrian', ' Bar', ' Barbecue',\n",
       "       ' Beer restaurants', ' Beijing cuisine', ' Brazilian', ' Brew Pub',\n",
       "       ' British', ' Cafe', ' Campania', ' Caribbean', ' Catalan',\n",
       "       ' Central American', ' Central Asian', ' Central European',\n",
       "       ' Central-Italian', ' Chinese', ' Colombian', ' Contemporary',\n",
       "       ' Deli', ' Diner', ' Dining bars', ' Eastern European',\n",
       "       ' Ecuadorean', ' Egyptian', ' Emilian', ' Ethiopian', ' European',\n",
       "       ' Fast Food', ' Filipino', ' French', ' Fujian', ' Fusion',\n",
       "       ' Gastropub', ' German', ' Greek', ' Grill', ' Hawaiian',\n",
       "       ' Healthy', ' Indian', ' International', ' Israeli', ' Italian',\n",
       "       ' Japanese', ' Japanese Fusion', ' Japanese sweets parlour',\n",
       "       ' Korean', ' Latin', ' Lazio', ' Lebanese', ' Ligurian',\n",
       "       ' Lombard', ' Mediterranean', ' Mexican', ' Middle Eastern',\n",
       "       ' Moroccan', ' Neapolitan', ' Nepali', ' Northern-Italian',\n",
       "       ' Pakistani', ' Persian', ' Peruvian', ' Pizza', ' Pub',\n",
       "       ' Romagna', ' Romana', ' Russian', ' Sardinian', ' Scandinavian',\n",
       "       ' Seafood', ' Sicilian', ' Singaporean', ' Soups',\n",
       "       ' South American', ' Southern-Italian', ' Southwestern',\n",
       "       ' Spanish', ' Sri Lankan', ' Steakhouse', ' Street Food', ' Sushi',\n",
       "       ' Swedish', ' Taiwanese', ' Thai', ' Turkish', ' Tuscan',\n",
       "       ' Ukrainian', ' Uzbek', ' Venezuelan', ' Vietnamese', ' Wine Bar',\n",
       "       'African', 'American', 'Arabic', 'Argentinean', 'Asian',\n",
       "       'Austrian', 'Bar', 'Barbecue', 'Brazilian', 'Brew Pub', 'Cafe',\n",
       "       'Campania', 'Caribbean', 'Caucasian', 'Central Asian', 'Chinese',\n",
       "       'Contemporary', 'Deli', 'Dining bars', 'Dutch', 'Eastern European',\n",
       "       'Emilian', 'European', 'Fast Food', 'Filipino', 'French', 'Fusion',\n",
       "       'Gastropub', 'German', 'Greek', 'Hawaiian', 'Healthy', 'Indian',\n",
       "       'International', 'Italian', 'Japanese', 'Korean', 'Latin',\n",
       "       'Lebanese', 'Lombard', 'Mediterranean', 'Mexican',\n",
       "       'Middle Eastern', 'Neapolitan', 'Northern-Italian', 'Peruvian',\n",
       "       'Pizza', 'Portuguese', 'Pub', 'Romana', 'Russian', 'Seafood',\n",
       "       'Sicilian', 'Soups', 'South American', 'Southern-Italian',\n",
       "       'Spanish', 'Steakhouse', 'Street Food', 'Sushi', 'Turkish',\n",
       "       'Tuscan', 'Wine Bar'], dtype='<U24')"
      ]
     },
     "execution_count": 13,
     "metadata": {},
     "output_type": "execute_result"
    }
   ],
   "source": [
    "# Get all unique values from cuisine, then conver them into array\n",
    "cuisine_groups = np.unique(np.concatenate(cuisine))[1:]\n",
    "cuisine_groups"
   ]
  },
  {
   "cell_type": "code",
   "execution_count": 14,
   "metadata": {
    "colab": {
     "base_uri": "https://localhost:8080/"
    },
    "id": "hKnXWxAVqaCb",
    "outputId": "c86ec075-a9d7-45fb-a6c6-2e728c136c33",
    "scrolled": true
   },
   "outputs": [
    {
     "data": {
      "text/plain": [
       "array([[0., 0., 0., ..., 0., 0., 0.],\n",
       "       [0., 0., 0., ..., 0., 0., 0.],\n",
       "       [0., 0., 0., ..., 0., 0., 0.],\n",
       "       ...,\n",
       "       [0., 0., 0., ..., 0., 0., 0.],\n",
       "       [0., 0., 0., ..., 0., 0., 0.],\n",
       "       [0., 0., 0., ..., 0., 0., 0.]])"
      ]
     },
     "execution_count": 14,
     "metadata": {},
     "output_type": "execute_result"
    }
   ],
   "source": [
    "def convert_amenties_to_boolean(cuisine_groups, cuisine):\n",
    "    \n",
    "    '''\n",
    "    INPUT\n",
    "    amenities_groups - an array containing all unique values of amenities\n",
    "    amenities - an array containing all values of amenities\n",
    "    \n",
    "    OUTPUT\n",
    "    amenties_boolean - an array containing boolean values of amenities\n",
    "    \n",
    "    Perform to obtain the correct X and y objects\n",
    "    This function cleans df using the following steps to produce X and y:\n",
    "    1. Create an empty array with all zeros\n",
    "    2. substitute with 1 if value of amenities_groups is found in amenities rows and vice versa\n",
    "    '''\n",
    "    amenties_boolean = np.empty((cuisine.shape[0], cuisine_groups.shape[0]))\n",
    "    for i, row in enumerate(cuisine):\n",
    "        amns = cuisine_groups.copy()\n",
    "        for j, amn in enumerate(amns):\n",
    "            if amn in cuisine[i]:\n",
    "                amenties_boolean[i,j] = True\n",
    "            else:\n",
    "                amenties_boolean[i,j] = False\n",
    "    return amenties_boolean\n",
    "\n",
    "#Use the function to convert values to 0 or 1\n",
    "cuisine= convert_amenties_to_boolean(cuisine_groups, cuisine)\n",
    "cuisine"
   ]
  },
  {
   "cell_type": "code",
   "execution_count": 15,
   "metadata": {
    "id": "U8X4vCoZq5mw"
   },
   "outputs": [],
   "source": [
    "# Reset index of the the dataframe\n",
    "df = df.reset_index(drop=True)"
   ]
  },
  {
   "cell_type": "code",
   "execution_count": 16,
   "metadata": {
    "id": "I2dMcleHq9db"
   },
   "outputs": [],
   "source": [
    "# Add cuisine to the dataframe\n",
    "df = pd.concat([df.drop('Cuisine', axis=1), \n",
    "                              pd.DataFrame(data=cuisine, columns=cuisine_groups)], axis=1)"
   ]
  },
  {
   "cell_type": "code",
   "execution_count": 17,
   "metadata": {
    "id": "JsCz1cGWr0Mr"
   },
   "outputs": [],
   "source": [
    "# Change the type of columns with uint8 to float, to apply feature scaling without any future warning \n",
    "uint8_cols = df.select_dtypes(include=['uint8']).columns\n",
    "df[uint8_cols]=df[uint8_cols].astype('float64')"
   ]
  },
  {
   "cell_type": "code",
   "execution_count": 18,
   "metadata": {
    "colab": {
     "base_uri": "https://localhost:8080/",
     "height": 342
    },
    "id": "KPJZmvLxyNMM",
    "outputId": "4d4e8235-4233-4cca-b1e5-e430162b72a8"
   },
   "outputs": [
    {
     "data": {
      "text/html": [
       "<div>\n",
       "<style scoped>\n",
       "    .dataframe tbody tr th:only-of-type {\n",
       "        vertical-align: middle;\n",
       "    }\n",
       "\n",
       "    .dataframe tbody tr th {\n",
       "        vertical-align: top;\n",
       "    }\n",
       "\n",
       "    .dataframe thead th {\n",
       "        text-align: right;\n",
       "    }\n",
       "</style>\n",
       "<table border=\"1\" class=\"dataframe\">\n",
       "  <thead>\n",
       "    <tr style=\"text-align: right;\">\n",
       "      <th></th>\n",
       "      <th>Reviews</th>\n",
       "      <th>Rating</th>\n",
       "      <th>Price</th>\n",
       "      <th>Revenue</th>\n",
       "      <th>lat</th>\n",
       "      <th>lng</th>\n",
       "      <th>restaurants_count</th>\n",
       "      <th>Population</th>\n",
       "      <th>Pricexm2</th>\n",
       "      <th>NIL_ADRIANO</th>\n",
       "      <th>...</th>\n",
       "      <th>Soups</th>\n",
       "      <th>South American</th>\n",
       "      <th>Southern-Italian</th>\n",
       "      <th>Spanish</th>\n",
       "      <th>Steakhouse</th>\n",
       "      <th>Street Food</th>\n",
       "      <th>Sushi</th>\n",
       "      <th>Turkish</th>\n",
       "      <th>Tuscan</th>\n",
       "      <th>Wine Bar</th>\n",
       "    </tr>\n",
       "  </thead>\n",
       "  <tbody>\n",
       "    <tr>\n",
       "      <th>0</th>\n",
       "      <td>368.0</td>\n",
       "      <td>5.0</td>\n",
       "      <td>8.000000</td>\n",
       "      <td>2944.000000</td>\n",
       "      <td>45.47940</td>\n",
       "      <td>9.18209</td>\n",
       "      <td>114.0</td>\n",
       "      <td>18492.0</td>\n",
       "      <td>6250.0</td>\n",
       "      <td>0.0</td>\n",
       "      <td>...</td>\n",
       "      <td>0.0</td>\n",
       "      <td>0.0</td>\n",
       "      <td>0.0</td>\n",
       "      <td>0.0</td>\n",
       "      <td>0.0</td>\n",
       "      <td>0.0</td>\n",
       "      <td>0.0</td>\n",
       "      <td>0.0</td>\n",
       "      <td>0.0</td>\n",
       "      <td>0.0</td>\n",
       "    </tr>\n",
       "    <tr>\n",
       "      <th>1</th>\n",
       "      <td>236.0</td>\n",
       "      <td>5.0</td>\n",
       "      <td>23.519076</td>\n",
       "      <td>5140.875269</td>\n",
       "      <td>45.46201</td>\n",
       "      <td>9.21903</td>\n",
       "      <td>89.0</td>\n",
       "      <td>31720.0</td>\n",
       "      <td>4100.0</td>\n",
       "      <td>0.0</td>\n",
       "      <td>...</td>\n",
       "      <td>0.0</td>\n",
       "      <td>0.0</td>\n",
       "      <td>0.0</td>\n",
       "      <td>0.0</td>\n",
       "      <td>0.0</td>\n",
       "      <td>0.0</td>\n",
       "      <td>0.0</td>\n",
       "      <td>0.0</td>\n",
       "      <td>0.0</td>\n",
       "      <td>0.0</td>\n",
       "    </tr>\n",
       "    <tr>\n",
       "      <th>2</th>\n",
       "      <td>174.0</td>\n",
       "      <td>5.0</td>\n",
       "      <td>53.500000</td>\n",
       "      <td>9309.000000</td>\n",
       "      <td>45.46848</td>\n",
       "      <td>9.12568</td>\n",
       "      <td>8.0</td>\n",
       "      <td>24871.0</td>\n",
       "      <td>1700.0</td>\n",
       "      <td>0.0</td>\n",
       "      <td>...</td>\n",
       "      <td>0.0</td>\n",
       "      <td>0.0</td>\n",
       "      <td>0.0</td>\n",
       "      <td>0.0</td>\n",
       "      <td>0.0</td>\n",
       "      <td>0.0</td>\n",
       "      <td>0.0</td>\n",
       "      <td>0.0</td>\n",
       "      <td>0.0</td>\n",
       "      <td>0.0</td>\n",
       "    </tr>\n",
       "    <tr>\n",
       "      <th>3</th>\n",
       "      <td>168.0</td>\n",
       "      <td>5.0</td>\n",
       "      <td>9.500000</td>\n",
       "      <td>1596.000000</td>\n",
       "      <td>45.46162</td>\n",
       "      <td>9.19556</td>\n",
       "      <td>204.0</td>\n",
       "      <td>16765.0</td>\n",
       "      <td>4950.0</td>\n",
       "      <td>0.0</td>\n",
       "      <td>...</td>\n",
       "      <td>0.0</td>\n",
       "      <td>0.0</td>\n",
       "      <td>0.0</td>\n",
       "      <td>0.0</td>\n",
       "      <td>0.0</td>\n",
       "      <td>0.0</td>\n",
       "      <td>0.0</td>\n",
       "      <td>0.0</td>\n",
       "      <td>0.0</td>\n",
       "      <td>0.0</td>\n",
       "    </tr>\n",
       "    <tr>\n",
       "      <th>4</th>\n",
       "      <td>665.0</td>\n",
       "      <td>5.0</td>\n",
       "      <td>11.500000</td>\n",
       "      <td>7647.500000</td>\n",
       "      <td>45.45179</td>\n",
       "      <td>9.18687</td>\n",
       "      <td>44.0</td>\n",
       "      <td>13686.0</td>\n",
       "      <td>3300.0</td>\n",
       "      <td>0.0</td>\n",
       "      <td>...</td>\n",
       "      <td>0.0</td>\n",
       "      <td>0.0</td>\n",
       "      <td>0.0</td>\n",
       "      <td>0.0</td>\n",
       "      <td>0.0</td>\n",
       "      <td>0.0</td>\n",
       "      <td>0.0</td>\n",
       "      <td>0.0</td>\n",
       "      <td>0.0</td>\n",
       "      <td>0.0</td>\n",
       "    </tr>\n",
       "  </tbody>\n",
       "</table>\n",
       "<p>5 rows × 249 columns</p>\n",
       "</div>"
      ],
      "text/plain": [
       "   Reviews  Rating      Price      Revenue       lat      lng  \\\n",
       "0    368.0     5.0   8.000000  2944.000000  45.47940  9.18209   \n",
       "1    236.0     5.0  23.519076  5140.875269  45.46201  9.21903   \n",
       "2    174.0     5.0  53.500000  9309.000000  45.46848  9.12568   \n",
       "3    168.0     5.0   9.500000  1596.000000  45.46162  9.19556   \n",
       "4    665.0     5.0  11.500000  7647.500000  45.45179  9.18687   \n",
       "\n",
       "   restaurants_count  Population  Pricexm2  NIL_ADRIANO  ...  Soups  \\\n",
       "0              114.0     18492.0    6250.0          0.0  ...    0.0   \n",
       "1               89.0     31720.0    4100.0          0.0  ...    0.0   \n",
       "2                8.0     24871.0    1700.0          0.0  ...    0.0   \n",
       "3              204.0     16765.0    4950.0          0.0  ...    0.0   \n",
       "4               44.0     13686.0    3300.0          0.0  ...    0.0   \n",
       "\n",
       "   South American  Southern-Italian  Spanish  Steakhouse  Street Food  Sushi  \\\n",
       "0             0.0               0.0      0.0         0.0          0.0    0.0   \n",
       "1             0.0               0.0      0.0         0.0          0.0    0.0   \n",
       "2             0.0               0.0      0.0         0.0          0.0    0.0   \n",
       "3             0.0               0.0      0.0         0.0          0.0    0.0   \n",
       "4             0.0               0.0      0.0         0.0          0.0    0.0   \n",
       "\n",
       "   Turkish  Tuscan  Wine Bar  \n",
       "0      0.0     0.0       0.0  \n",
       "1      0.0     0.0       0.0  \n",
       "2      0.0     0.0       0.0  \n",
       "3      0.0     0.0       0.0  \n",
       "4      0.0     0.0       0.0  \n",
       "\n",
       "[5 rows x 249 columns]"
      ]
     },
     "execution_count": 18,
     "metadata": {},
     "output_type": "execute_result"
    }
   ],
   "source": [
    "df.head()"
   ]
  },
  {
   "cell_type": "markdown",
   "metadata": {
    "id": "0ZR7b8pgr66L"
   },
   "source": [
    "**Model**"
   ]
  },
  {
   "cell_type": "code",
   "execution_count": 19,
   "metadata": {
    "id": "bbzgsVgozJur"
   },
   "outputs": [],
   "source": [
    "df = df.dropna()"
   ]
  },
  {
   "cell_type": "code",
   "execution_count": 20,
   "metadata": {
    "id": "7MtFCjQjr83W"
   },
   "outputs": [],
   "source": [
    "# Create X variable with all features without price\n",
    "X= df.drop(columns=['Revenue','Reviews','Rating','lat','lng'])\n",
    "\n",
    "# Create Y variable with only price feature\n",
    "y= df['Reviews']"
   ]
  },
  {
   "cell_type": "code",
   "execution_count": 21,
   "metadata": {
    "id": "wfmeRQeeyxb0"
   },
   "outputs": [],
   "source": [
    "# Apply feature scaling to the listings data.\n",
    "st_scaler= StandardScaler()\n",
    "X= pd.DataFrame(data=st_scaler.fit_transform(X), index=X.index, columns=X.columns)"
   ]
  },
  {
   "cell_type": "code",
   "execution_count": 22,
   "metadata": {
    "id": "bbXA2s5_yyXS"
   },
   "outputs": [],
   "source": [
    "# Create train and test sets\n",
    "X_train, X_test, y_train, y_test = train_test_split(X, y, test_size= 0.25, random_state=42)"
   ]
  },
  {
   "cell_type": "markdown",
   "metadata": {
    "id": "jCzjcbqFy4UN"
   },
   "source": [
    "**Train model**"
   ]
  },
  {
   "cell_type": "code",
   "execution_count": 23,
   "metadata": {
    "id": "DpP_5Tmyy1Q1"
   },
   "outputs": [],
   "source": [
    "def get_RMSE(model):\n",
    "        \n",
    "    '''\n",
    "    INPUT\n",
    "    model - training model\n",
    "    \n",
    "    OUTPUT\n",
    "    model_rmse - RMSE value of the given model\n",
    "    \n",
    "    Perform to obtain RMSE value\n",
    "    This function cleans df using the following steps to produce X and y:\n",
    "    1. predict value of training data\n",
    "    2. calculate MSE \n",
    "    3. Calculate RMSE\n",
    "    '''\n",
    "    y_predict = model.predict(X_train)\n",
    "    model_mse = mean_squared_error(y_train, y_predict)\n",
    "    model_rmse = np.sqrt(model_mse)\n",
    "    \n",
    "    return model_rmse"
   ]
  },
  {
   "cell_type": "markdown",
   "metadata": {
    "id": "HR9CFp7Jy-Nb"
   },
   "source": [
    "Linear regression"
   ]
  },
  {
   "cell_type": "code",
   "execution_count": 24,
   "metadata": {
    "colab": {
     "base_uri": "https://localhost:8080/"
    },
    "id": "YEglon7Fy__b",
    "outputId": "39d1d3c0-ca24-4292-a379-1964e19b5c55"
   },
   "outputs": [
    {
     "name": "stdout",
     "output_type": "stream",
     "text": [
      "RMSE: 3.495e+15\n"
     ]
    }
   ],
   "source": [
    "# Create linear regression model\n",
    "lin_reg = LinearRegression(normalize=True)\n",
    "\n",
    "# Fit the model\n",
    "lin_reg.fit(X_train, y_train)\n",
    "\n",
    "# Get RMSE value\n",
    "lin_reg_rmse= get_RMSE(lin_reg)\n",
    "\n",
    "print('RMSE: {:.4}'.format(lin_reg_rmse))"
   ]
  },
  {
   "cell_type": "code",
   "execution_count": 25,
   "metadata": {
    "colab": {
     "base_uri": "https://localhost:8080/"
    },
    "id": "lEnWRYlkzZ0-",
    "outputId": "e0928ba2-0214-41ff-9044-dc286582da39"
   },
   "outputs": [
    {
     "name": "stdout",
     "output_type": "stream",
     "text": [
      "RMSE: 152.9\n"
     ]
    }
   ],
   "source": [
    "# Create linear regression model with lasso regularization.\n",
    "lasso_reg = Lasso()\n",
    "\n",
    "# Fit the model\n",
    "lasso_reg.fit(X_train, y_train)\n",
    "\n",
    "# Get RMSE value\n",
    "lasso_reg_rmse= get_RMSE(lasso_reg)\n",
    "\n",
    "print('RMSE: {:.4}'.format(lasso_reg_rmse))"
   ]
  },
  {
   "cell_type": "code",
   "execution_count": 26,
   "metadata": {
    "colab": {
     "base_uri": "https://localhost:8080/"
    },
    "id": "IoS996Oczdjp",
    "outputId": "da680027-8dd8-443c-c7df-70ccb77f077a"
   },
   "outputs": [
    {
     "name": "stdout",
     "output_type": "stream",
     "text": [
      "RMSE: 157.5\n"
     ]
    }
   ],
   "source": [
    "# Create linear regression model with ElasticNet regularization\n",
    "elas_reg = ElasticNet()\n",
    "\n",
    "# Fit the model\n",
    "elas_reg.fit(X_train, y_train)\n",
    "\n",
    "# Get RMSE value\n",
    "elas_reg_rmse= get_RMSE(elas_reg)\n",
    "\n",
    "print('RMSE: {:.4}'.format(elas_reg_rmse))"
   ]
  },
  {
   "cell_type": "code",
   "execution_count": 27,
   "metadata": {
    "colab": {
     "base_uri": "https://localhost:8080/"
    },
    "id": "CJ7088Qwzjpb",
    "outputId": "07151b0e-ba83-40ed-b0b8-4aab9bc513a0"
   },
   "outputs": [
    {
     "name": "stdout",
     "output_type": "stream",
     "text": [
      "RMSE: 86.56\n"
     ]
    }
   ],
   "source": [
    "# Create RandomForest Regression model\n",
    "forest_reg = RandomForestRegressor(n_estimators=10)\n",
    "\n",
    "# Fit the model\n",
    "forest_reg.fit(X_train, y_train)\n",
    "\n",
    "# Get RMSE value\n",
    "forest_reg_rmse= get_RMSE(forest_reg)\n",
    "\n",
    "print('RMSE: {:.4}'.format(forest_reg_rmse))"
   ]
  },
  {
   "cell_type": "markdown",
   "metadata": {
    "id": "BtE2Tpnozmns"
   },
   "source": [
    "The best model is RF as it has the lowest RMSE"
   ]
  },
  {
   "cell_type": "code",
   "execution_count": 28,
   "metadata": {
    "colab": {
     "base_uri": "https://localhost:8080/"
    },
    "id": "6cLCwOoAzysa",
    "outputId": "bcad1fd3-dc3b-41d0-d45b-c5303abd371d"
   },
   "outputs": [
    {
     "data": {
      "text/plain": [
       "GridSearchCV(cv=3, estimator=RandomForestRegressor(n_estimators=10),\n",
       "             param_grid={'bootstrap': [True, False], 'max_depth': [10, 20, 30],\n",
       "                         'max_features': ['auto', 'sqrt'],\n",
       "                         'min_samples_leaf': [1, 2, 4],\n",
       "                         'min_samples_split': [2, 5, 10],\n",
       "                         'n_estimators': [50, 100, 200]})"
      ]
     },
     "execution_count": 28,
     "metadata": {},
     "output_type": "execute_result"
    }
   ],
   "source": [
    "# Set GridSearchCV parameters \n",
    "parameters = {\n",
    "    'bootstrap': [True, False],\n",
    "    'n_estimators': [50, 100, 200],\n",
    "    'max_features': ['auto', 'sqrt'],\n",
    "    'max_depth' : [10, 20, 30],\n",
    "    'min_samples_split': [2, 5, 10],\n",
    "    'min_samples_leaf': [1, 2, 4]\n",
    "    \n",
    "}\n",
    "\n",
    "# Create GridSearchCV\n",
    "forest_reg_cv= GridSearchCV(forest_reg, parameters,cv=3)\n",
    "\n",
    "# Fit model\n",
    "forest_reg_cv.fit(X_train, y_train)"
   ]
  },
  {
   "cell_type": "code",
   "execution_count": 29,
   "metadata": {
    "colab": {
     "base_uri": "https://localhost:8080/"
    },
    "id": "CZLjDgL3z3f3",
    "outputId": "8ecf1b39-e4b0-42b2-e669-dc4f12585851"
   },
   "outputs": [
    {
     "data": {
      "text/plain": [
       "RandomForestRegressor(bootstrap=False, max_depth=30, max_features='sqrt',\n",
       "                      min_samples_leaf=2, min_samples_split=10)"
      ]
     },
     "execution_count": 29,
     "metadata": {},
     "output_type": "execute_result"
    }
   ],
   "source": [
    "# Get best parameter\n",
    "forest_reg_cv.best_estimator_"
   ]
  },
  {
   "cell_type": "code",
   "execution_count": 30,
   "metadata": {
    "colab": {
     "base_uri": "https://localhost:8080/"
    },
    "id": "QyuwxHG3086_",
    "outputId": "e832e2d8-90a3-4645-a703-3240047f3891"
   },
   "outputs": [
    {
     "name": "stdout",
     "output_type": "stream",
     "text": [
      "RMSE: 189.9\n"
     ]
    }
   ],
   "source": [
    "# Create RandomForest Regression model with best parameter\n",
    "forest_reg_imp = forest_reg_cv.best_estimator_\n",
    "y_predict_imp = forest_reg_imp.predict(X_test)\n",
    "\n",
    "# Get RMSE value\n",
    "forest_reg_mse_imp = mean_squared_error(y_test, y_predict_imp)\n",
    "forest_reg_rmse_imp = np.sqrt(forest_reg_mse_imp)\n",
    "\n",
    "print('RMSE: {:.4}'.format(forest_reg_rmse_imp))"
   ]
  },
  {
   "cell_type": "markdown",
   "metadata": {
    "id": "-isMFVyX2pLN"
   },
   "source": [
    "**Visualize**"
   ]
  },
  {
   "cell_type": "code",
   "execution_count": 31,
   "metadata": {
    "colab": {
     "base_uri": "https://localhost:8080/"
    },
    "id": "pDbFwsNA2oeA",
    "outputId": "af273c79-af2b-4c98-e300-8542b20ab24f"
   },
   "outputs": [
    {
     "data": {
      "text/plain": [
       "Price                0.095410\n",
       " European            0.089850\n",
       " Mediterranean       0.079397\n",
       " Campania            0.062077\n",
       " Seafood             0.044535\n",
       " Lombard             0.041426\n",
       " Northern-Italian    0.041216\n",
       " Neapolitan          0.038568\n",
       " Southern-Italian    0.036037\n",
       " Barbecue            0.034732\n",
       "Name: 0, dtype: float64"
      ]
     },
     "execution_count": 31,
     "metadata": {},
     "output_type": "execute_result"
    }
   ],
   "source": [
    "# Get feature_importances of model\n",
    "feature_importances = forest_reg_cv.best_estimator_.feature_importances_\n",
    "\n",
    "# Sort feature importance and get the first 20 features\n",
    "feature_importances_df= pd.DataFrame(data=feature_importances, index=X.columns) \n",
    "feature_importances_sorted=feature_importances_df[0].sort_values(ascending=False)\n",
    "feature_importances_sorted_10=feature_importances_sorted[:10]\n",
    "feature_importances_sorted_10"
   ]
  },
  {
   "cell_type": "code",
   "execution_count": 32,
   "metadata": {
    "colab": {
     "base_uri": "https://localhost:8080/",
     "height": 398
    },
    "id": "YZQP9Nf92slf",
    "outputId": "22720bd0-a712-473f-85ee-e41ee7c2c67a",
    "scrolled": true
   },
   "outputs": [
    {
     "data": {
      "image/png": "[encoded data removed]",
      "text/plain": [
       "<Figure size 1440x504 with 1 Axes>"
      ]
     },
     "metadata": {
      "needs_background": "light"
     },
     "output_type": "display_data"
    }
   ],
   "source": [
    "# Plot The most important features in predicting price\n",
    "plt.figure(figsize=(20,7))\n",
    "plt.bar(feature_importances_sorted_10.index,feature_importances_sorted_10)\n",
    "plt.xticks(rotation=90)\n",
    "plt.xlabel('Features')\n",
    "plt.ylabel('Feature_importances')\n",
    "plt.title('The most important features in predicting the number of reviews')\n",
    "plt.show()"
   ]
  },
  {
   "cell_type": "markdown",
   "metadata": {
    "id": "cU6o8s4CZ2-y"
   },
   "source": [
    "Trying to predict where it's best to buy a 30 m^2 commercial property to start an italian restaurant having 100000 as initial investment"
   ]
  },
  {
   "cell_type": "code",
   "execution_count": 122,
   "metadata": {
    "id": "OqBofzaNtmPI"
   },
   "outputs": [],
   "source": [
    "#read data in-1\n",
    "df = pd.read_csv(\"final.csv\")"
   ]
  },
  {
   "cell_type": "code",
   "execution_count": 123,
   "metadata": {
    "id": "ptjM2lIgtmI5"
   },
   "outputs": [],
   "source": [
    "df = DataFrame(df, columns=['Reviews','Rating','Price','Revenue','Cuisine','NIL','lat','lng','restaurants_count','Population','Pricexm2'])"
   ]
  },
  {
   "cell_type": "code",
   "execution_count": 124,
   "metadata": {
    "id": "gjferOPKtmCk"
   },
   "outputs": [],
   "source": [
    "df['Category'] = df['Cuisine'].str.partition(',')[0]"
   ]
  },
  {
   "cell_type": "code",
   "execution_count": 125,
   "metadata": {
    "id": "8OIaYkBgtl0g"
   },
   "outputs": [
    {
     "data": {
      "text/plain": [
       "0"
      ]
     },
     "execution_count": 125,
     "metadata": {},
     "output_type": "execute_result"
    }
   ],
   "source": [
    "# Impute categorical variables with the most frequent,\n",
    "# because this method is better for replace null values of categorical variables \n",
    "imp_obj= SimpleImputer(missing_values=np.nan, strategy='most_frequent')\n",
    "obj_cols = df.select_dtypes(include=['object']).columns\n",
    "df[obj_cols]= pd.DataFrame(data=imp_obj.fit_transform(df[obj_cols]),\n",
    "                                         index=df[obj_cols].index, columns=obj_cols)\n",
    "df[obj_cols].isnull().sum().sum()"
   ]
  },
  {
   "cell_type": "code",
   "execution_count": 126,
   "metadata": {
    "id": "GK9s-2UgtwQl"
   },
   "outputs": [
    {
     "data": {
      "text/plain": [
       "0"
      ]
     },
     "execution_count": 126,
     "metadata": {},
     "output_type": "execute_result"
    }
   ],
   "source": [
    "# Impute numeric values with mean\n",
    "# because this method has better result than imputation with median\n",
    "imp_num= SimpleImputer(missing_values=np.nan, strategy='mean')\n",
    "num_cols = df.drop(columns=['Reviews']).select_dtypes(include=['float64', 'int64']).columns\n",
    "df[num_cols]= pd.DataFrame(data=imp_num.fit_transform(df[num_cols]),\n",
    "                                         index=df[num_cols].index, columns=num_cols)\n",
    "df[num_cols].isnull().sum().sum()"
   ]
  },
  {
   "cell_type": "code",
   "execution_count": 127,
   "metadata": {
    "id": "gWoOdFp9twN0"
   },
   "outputs": [],
   "source": [
    "# Deleting rows with missing outcomes\n",
    "df = df.dropna()"
   ]
  },
  {
   "cell_type": "code",
   "execution_count": 128,
   "metadata": {
    "id": "PqBt1E1otwEw"
   },
   "outputs": [
    {
     "data": {
      "text/plain": [
       "array([list(['Filipino', ' Healthy']),\n",
       "       list(['Middle Eastern', ' Turkish', ' Pub', ' Bar', ' International', ' Dining bars']),\n",
       "       list(['Italian', ' Steakhouse', ' Barbecue']), ...,\n",
       "       list(['Asian', ' Nepali']),\n",
       "       list(['Chinese', ' Cafe', ' Fast Food', ' Sushi', ' Middle Eastern']),\n",
       "       list(['Chinese', ' Japanese', ' Sushi', ' Asian'])], dtype=object)"
      ]
     },
     "execution_count": 128,
     "metadata": {},
     "output_type": "execute_result"
    }
   ],
   "source": [
    "# Remove unwanted characters from cuisines feature and split it to rows, then conver them into array \n",
    "cuisine = np.array(df['Cuisine'].map(lambda a: a.strip('{}').replace('\"', '').split(',')))\n",
    "cuisine"
   ]
  },
  {
   "cell_type": "code",
   "execution_count": 129,
   "metadata": {
    "id": "cAEGeFTRtwBy"
   },
   "outputs": [
    {
     "data": {
      "text/plain": [
       "array([' African', ' American', ' Apulian', ' Arabic', ' Argentinean',\n",
       "       ' Asian', ' Australian', ' Austrian', ' Bar', ' Barbecue',\n",
       "       ' Beer restaurants', ' Beijing cuisine', ' Brazilian', ' Brew Pub',\n",
       "       ' British', ' Cafe', ' Campania', ' Caribbean', ' Catalan',\n",
       "       ' Central American', ' Central Asian', ' Central European',\n",
       "       ' Central-Italian', ' Chinese', ' Colombian', ' Contemporary',\n",
       "       ' Deli', ' Diner', ' Dining bars', ' Eastern European',\n",
       "       ' Ecuadorean', ' Egyptian', ' Emilian', ' Ethiopian', ' European',\n",
       "       ' Fast Food', ' Filipino', ' French', ' Fujian', ' Fusion',\n",
       "       ' Gastropub', ' German', ' Greek', ' Grill', ' Hawaiian',\n",
       "       ' Healthy', ' Indian', ' International', ' Israeli', ' Italian',\n",
       "       ' Japanese', ' Japanese Fusion', ' Japanese sweets parlour',\n",
       "       ' Korean', ' Latin', ' Lazio', ' Lebanese', ' Ligurian',\n",
       "       ' Lombard', ' Mediterranean', ' Mexican', ' Middle Eastern',\n",
       "       ' Moroccan', ' Neapolitan', ' Nepali', ' Northern-Italian',\n",
       "       ' Pakistani', ' Persian', ' Peruvian', ' Pizza', ' Pub',\n",
       "       ' Romagna', ' Romana', ' Russian', ' Sardinian', ' Scandinavian',\n",
       "       ' Seafood', ' Sicilian', ' Singaporean', ' Soups',\n",
       "       ' South American', ' Southern-Italian', ' Southwestern',\n",
       "       ' Spanish', ' Sri Lankan', ' Steakhouse', ' Street Food', ' Sushi',\n",
       "       ' Swedish', ' Taiwanese', ' Thai', ' Turkish', ' Tuscan',\n",
       "       ' Ukrainian', ' Uzbek', ' Venezuelan', ' Vietnamese', ' Wine Bar',\n",
       "       'African', 'American', 'Arabic', 'Argentinean', 'Asian',\n",
       "       'Austrian', 'Bar', 'Barbecue', 'Brazilian', 'Brew Pub', 'Cafe',\n",
       "       'Campania', 'Caribbean', 'Caucasian', 'Central Asian', 'Chinese',\n",
       "       'Contemporary', 'Deli', 'Dining bars', 'Dutch', 'Eastern European',\n",
       "       'Emilian', 'European', 'Fast Food', 'Filipino', 'French', 'Fusion',\n",
       "       'Gastropub', 'German', 'Greek', 'Hawaiian', 'Healthy', 'Indian',\n",
       "       'International', 'Italian', 'Japanese', 'Korean', 'Latin',\n",
       "       'Lebanese', 'Lombard', 'Mediterranean', 'Mexican',\n",
       "       'Middle Eastern', 'Neapolitan', 'Northern-Italian', 'Peruvian',\n",
       "       'Pizza', 'Portuguese', 'Pub', 'Romana', 'Russian', 'Seafood',\n",
       "       'Sicilian', 'Soups', 'South American', 'Southern-Italian',\n",
       "       'Spanish', 'Steakhouse', 'Street Food', 'Sushi', 'Turkish',\n",
       "       'Tuscan', 'Wine Bar'], dtype='<U24')"
      ]
     },
     "execution_count": 129,
     "metadata": {},
     "output_type": "execute_result"
    }
   ],
   "source": [
    "# Get all unique values from cuisine, then conver them into array\n",
    "cuisine_groups = np.unique(np.concatenate(cuisine))[1:]\n",
    "cuisine_groups"
   ]
  },
  {
   "cell_type": "code",
   "execution_count": 130,
   "metadata": {
    "id": "vuE0PQ9Dtv-8"
   },
   "outputs": [
    {
     "data": {
      "text/plain": [
       "array([[0., 0., 0., ..., 0., 0., 0.],\n",
       "       [0., 0., 0., ..., 0., 0., 0.],\n",
       "       [0., 0., 0., ..., 0., 0., 0.],\n",
       "       ...,\n",
       "       [0., 0., 0., ..., 0., 0., 0.],\n",
       "       [0., 0., 0., ..., 0., 0., 0.],\n",
       "       [0., 0., 0., ..., 0., 0., 0.]])"
      ]
     },
     "execution_count": 130,
     "metadata": {},
     "output_type": "execute_result"
    }
   ],
   "source": [
    "def convert_amenties_to_boolean(cuisine_groups, cuisine):\n",
    "    \n",
    "    '''\n",
    "    INPUT\n",
    "    amenities_groups - an array containing all unique values of amenities\n",
    "    amenities - an array containing all values of amenities\n",
    "    \n",
    "    OUTPUT\n",
    "    amenties_boolean - an array containing boolean values of amenities\n",
    "    \n",
    "    Perform to obtain the correct X and y objects\n",
    "    This function cleans df using the following steps to produce X and y:\n",
    "    1. Create an empty array with all zeros\n",
    "    2. substitute with 1 if value of amenities_groups is found in amenities rows and vice versa\n",
    "    '''\n",
    "    amenties_boolean = np.empty((cuisine.shape[0], cuisine_groups.shape[0]))\n",
    "    for i, row in enumerate(cuisine):\n",
    "        amns = cuisine_groups.copy()\n",
    "        for j, amn in enumerate(amns):\n",
    "            if amn in cuisine[i]:\n",
    "                amenties_boolean[i,j] = True\n",
    "            else:\n",
    "                amenties_boolean[i,j] = False\n",
    "    return amenties_boolean\n",
    "\n",
    "#Use the function to convert values to 0 or 1\n",
    "cuisine= convert_amenties_to_boolean(cuisine_groups, cuisine)\n",
    "cuisine"
   ]
  },
  {
   "cell_type": "code",
   "execution_count": 131,
   "metadata": {
    "id": "5FgtRgvKtv7a"
   },
   "outputs": [],
   "source": [
    "# Reset index of the the dataframe\n",
    "df = df.reset_index(drop=True)"
   ]
  },
  {
   "cell_type": "code",
   "execution_count": 132,
   "metadata": {
    "id": "GllrTdR2tv1Q"
   },
   "outputs": [],
   "source": [
    "# Add cuisine to the dataframe\n",
    "df = pd.concat([df, pd.DataFrame(data=cuisine, columns=cuisine_groups)], axis=1)\n"
   ]
  },
  {
   "cell_type": "code",
   "execution_count": 133,
   "metadata": {
    "id": "BRrj18y0uGmu"
   },
   "outputs": [],
   "source": [
    "# Dummy the areas\n",
    "var = 'NIL'\n",
    "\n",
    "dummies = pd.get_dummies(df[var], prefix=var, prefix_sep='_', drop_first=False)\n",
    "# we need to remember the dummy columns of the different regions \n",
    "dummy_columns = dummies.columns\n",
    "\n",
    "# we need to remember all the regions\n",
    "unique_NIL = df[var].unique()\n",
    "\n",
    "# we will need this table to fill up the varible that depend on NIL \n",
    "nil_vars = df.drop_duplicates(subset=\"NIL\", keep=\"first\").loc[:, [\"NIL\", \"restaurants_count\", \"Population\", \"Pricexm2\"]].set_index(\"NIL\", drop=True)\n",
    "\n",
    "# We will make hypotetical predictions on all the examples with italian cuisine\n",
    "df = df.loc[df.Cuisine.eq(\"Italian\"), :]\n",
    "df.drop('Cuisine', axis=1, inplace=True)\n",
    "\n",
    "\n",
    "df = pd.concat([df.drop(var, axis=1), dummies], axis=1)"
   ]
  },
  {
   "cell_type": "code",
   "execution_count": 135,
   "metadata": {
    "id": "FFMdQ-kNuGlA"
   },
   "outputs": [],
   "source": [
    "# Change the type of columns with uint8 to float, to apply feature scaling without any future warning \n",
    "uint8_cols = df.select_dtypes(include=['uint8']).columns\n",
    "df[uint8_cols]=df[uint8_cols].astype('float64')"
   ]
  },
  {
   "cell_type": "code",
   "execution_count": 136,
   "metadata": {
    "id": "lGuGEffAuGh0"
   },
   "outputs": [],
   "source": [
    "df = df.dropna()"
   ]
  },
  {
   "cell_type": "code",
   "execution_count": 137,
   "metadata": {
    "id": "CkYrZJwXuGe1"
   },
   "outputs": [],
   "source": [
    "df.to_csv('test.csv')"
   ]
  },
  {
   "cell_type": "code",
   "execution_count": 138,
   "metadata": {
    "id": "1tZr5y54PUbh"
   },
   "outputs": [],
   "source": [
    "test = df"
   ]
  },
  {
   "cell_type": "code",
   "execution_count": 139,
   "metadata": {
    "id": "lJAItYXAngIK"
   },
   "outputs": [],
   "source": [
    "# Create X variable with all features \n",
    "X= test.drop(columns=['Category','Revenue','Reviews','Rating','lat','lng'])"
   ]
  },
  {
   "cell_type": "code",
   "execution_count": 144,
   "metadata": {
    "id": "djIeeiIznryj"
   },
   "outputs": [
    {
     "name": "stdout",
     "output_type": "stream",
     "text": [
      "200 200 200\n",
      "Region BRERA: 125.02\n",
      "200 200 200\n",
      "Region XXII MARZO: 125.02\n",
      "200 200 200\n",
      "Region FORZE ARMATE: 125.02\n",
      "200 200 200\n",
      "Region DUOMO: 125.02\n",
      "200 200 200\n",
      "Region PORTA VIGENTINA - PO: 125.02\n",
      "200 200 200\n",
      "Region PORTA TICINESE - CON: 125.02\n",
      "200 200 200\n",
      "Region PORTA GENOVA: 125.02\n",
      "200 200 200\n",
      "Region BUENOS AIRES - PORTA: 125.02\n",
      "200 200 200\n",
      "Region PORTA TICINESE - CON: 125.02\n",
      "200 200 200\n",
      "Region TRIULZO SUPERIORE: 125.02\n",
      "200 200 200\n",
      "Region DE ANGELI - MONTE RO: 125.02\n",
      "200 200 200\n",
      "Region STAZIONE CENTRALE - : 125.02\n",
      "200 200 200\n",
      "Region SARPI: 125.02\n",
      "200 200 200\n",
      "Region ISOLA: 125.02\n",
      "200 200 200\n",
      "Region TALIEDO - MORSENCHIO: 125.02\n",
      "200 200 200\n",
      "Region LORETO - CASORETTO -: 125.02\n",
      "200 200 200\n",
      "Region VILLAPIZZONE - CAGNO: 125.02\n",
      "200 200 200\n",
      "Region AFFORI: 125.02\n",
      "200 200 200\n",
      "Region SAN SIRO: 125.02\n",
      "200 200 200\n",
      "Region GIAMBELLINO: 125.02\n",
      "200 200 200\n",
      "Region PORTA GARIBALDI - PO: 125.02\n",
      "200 200 200\n",
      "Region CORSICA: 125.02\n",
      "200 200 200\n",
      "Region GUASTALLA: 125.02\n",
      "200 200 200\n",
      "Region PORTELLO: 125.02\n",
      "200 200 200\n",
      "Region BICOCCA: 125.02\n",
      "200 200 200\n",
      "Region MACIACHINI - MAGGIOL: 125.02\n",
      "200 200 200\n",
      "Region GORLA - PRECOTTO: 125.02\n",
      "200 200 200\n",
      "Region GRECO - SEGNANO: 125.02\n",
      "200 200 200\n",
      "Region PTA ROMANA: 125.02\n",
      "200 200 200\n",
      "Region TRE TORRI: 125.02\n",
      "200 200 200\n",
      "Region BANDE NERE: 125.02\n",
      "200 200 200\n",
      "Region PAGANO: 125.02\n",
      "200 200 200\n",
      "Region DERGANO: 125.02\n",
      "200 200 200\n",
      "Region PORTA MAGENTA: 125.02\n",
      "200 200 200\n",
      "Region VIGENTINO - Q.RE FAT: 125.02\n",
      "200 200 200\n",
      "Region BAGGIO - Q.RE DEGLI : 125.02\n",
      "200 200 200\n",
      "Region GHISOLFA: 125.02\n",
      "200 200 200\n",
      "Region MORIVIONE: 125.02\n",
      "200 200 200\n",
      "Region LODI - CORVETTO: 125.02\n",
      "200 200 200\n",
      "Region BOVISA: 125.02\n",
      "200 200 200\n",
      "Region Q.RE GALLARATESE - Q: 125.02\n",
      "200 200 200\n",
      "Region QUARTO CAGNINO: 125.02\n",
      "200 200 200\n",
      "Region MAGENTA - S. VITTORE: 125.02\n",
      "200 200 200\n",
      "Region PADOVA - TURRO - CRE: 125.02\n",
      "200 200 200\n",
      "Region LAMBRATE - ORTICA: 125.02\n",
      "200 200 200\n",
      "Region TIBALDI: 125.02\n",
      "200 200 200\n",
      "Region CITTA' STUDI: 125.02\n",
      "200 200 200\n",
      "Region FARINI: 125.02\n",
      "200 200 200\n",
      "Region MONCUCCO - SAN CRIST: 125.02\n",
      "200 200 200\n",
      "Region NIGUARDA - CA' GRAND: 125.02\n",
      "200 200 200\n",
      "Region UMBRIA - MOLISE - CA: 125.02\n",
      "200 200 200\n",
      "Region QUARTO OGGIARO - VIA: 125.02\n",
      "200 200 200\n",
      "Region PARCO FORLANINI - CA: 125.02\n",
      "200 200 200\n",
      "Region STADIO - IPPODROMI: 125.02\n",
      "200 200 200\n",
      "Region STADERA - CHIESA ROS: 125.02\n",
      "200 200 200\n",
      "Region LORENTEGGIO: 125.02\n",
      "200 200 200\n",
      "Region PARCO DELLE ABBAZIE: 125.02\n",
      "200 200 200\n",
      "Region CIMIANO - ROTTOLE - : 125.02\n",
      "200 200 200\n",
      "Region RONCHETTO SUL NAVIGL: 125.02\n",
      "200 200 200\n",
      "Region QT 8: 125.02\n",
      "200 200 200\n",
      "Region SCALO ROMANA: 125.02\n",
      "200 200 200\n",
      "Region MONLUE' - PONTE LAMB: 125.02\n",
      "200 200 200\n",
      "Region ROGOREDO - SANTA GIU: 125.02\n",
      "200 200 200\n",
      "Region BOVISASCA: 125.02\n",
      "200 200 200\n",
      "Region ADRIANO: 125.02\n",
      "200 200 200\n",
      "Region BARONA: 125.02\n",
      "200 200 200\n",
      "Region FIGINO: 125.02\n",
      "200 200 200\n",
      "Region ASSIANO: 125.02\n",
      "200 200 200\n",
      "Region TRENNO: 125.02\n",
      "200 200 200\n",
      "Region MAGGIORE - MUSOCCO -: 125.02\n",
      "200 200 200\n",
      "Region PARCO BOSCO IN CITTA: 125.02\n",
      "200 200 200\n",
      "Region STEPHENSON: 125.02\n",
      "200 200 200\n",
      "Region GRATOSOGLIO - Q.RE M: 125.02\n",
      "200 200 200\n",
      "Region CANTALUPA: 125.02\n",
      "200 200 200\n",
      "Region ORTOMERCATO: 125.02\n",
      "200 200 200\n",
      "Region COMASINA: 125.02\n",
      "200 200 200\n",
      "Region QUINTO ROMANO: 125.02\n",
      "200 200 200\n",
      "Region BRUZZANO: 125.02\n",
      "200 200 200\n",
      "Region ROSERIO: 125.02\n"
     ]
    }
   ],
   "source": [
    "st_scaler= StandardScaler()\n",
    "\n",
    "# where we will insert the region predictions\n",
    "original = pd.DataFrame()\n",
    "\n",
    "for nil in unique_NIL:\n",
    "    nil_dummy = \"NIL_\" + nil\n",
    "    # we reset all the NIL dummies to zero\n",
    "    X[dummy_columns] = 0\n",
    "    # all of the current hypotetical region are set to 1\n",
    "    X[nil_dummy] = 1\n",
    "    print(len(X), X[dummy_columns].sum().sum(), X[nil_dummy].sum())\n",
    "    original_add = {\"NIL\" : nil}\n",
    "    \n",
    "    # restaurants_count, Population, Pricexm2 depend on the NIL\n",
    "    # we have to set this values accordingly\n",
    "    for c in nil_vars.columns:\n",
    "        X[c] = nil_vars.loc[nil, c]\n",
    "        original_add[c] = nil_vars.loc[nil, c]\n",
    "    print(X)\n",
    "    # Apply feature scaling to the listings data.\n",
    "    X= pd.DataFrame(data=st_scaler.fit_transform(X), index=X.index, columns=X.columns)\n",
    "    y_pred = forest_reg_imp.predict(X)\n",
    "    \n",
    "    # we add the averaged prediction\n",
    "    original_add[\"predicted\"] = np.mean(y_pred)\n",
    "    original = original.append(original_add, ignore_index=True)\n",
    "    \n",
    "    print(f\"Region {nil:.20}: {np.mean(y_pred):.2f}\")"
   ]
  },
  {
   "cell_type": "code",
   "execution_count": null,
   "metadata": {
    "id": "4APmT3WSqOUr"
   },
   "outputs": [],
   "source": [
    "# Create the entries for which we need a prediction\n",
    "X_pred = X"
   ]
  },
  {
   "cell_type": "code",
   "execution_count": null,
   "metadata": {
    "id": "S7A0QSELr8RX"
   },
   "outputs": [],
   "source": [
    "y_pred = forest_reg_imp.predict(X_pred)"
   ]
  },
  {
   "cell_type": "code",
   "execution_count": null,
   "metadata": {
    "id": "T5DxxQQzrhHJ"
   },
   "outputs": [],
   "source": [
    "y_pred = DataFrame(y_pred)"
   ]
  },
  {
   "cell_type": "code",
   "execution_count": null,
   "metadata": {
    "id": "ivjGSbZisbVp"
   },
   "outputs": [],
   "source": [
    "original['predicted']=y_pred"
   ]
  },
  {
   "cell_type": "code",
   "execution_count": null,
   "metadata": {
    "id": "bIwr9iYxui5e"
   },
   "outputs": [],
   "source": [
    "price = 100000/30"
   ]
  },
  {
   "cell_type": "code",
   "execution_count": null,
   "metadata": {
    "id": "vVU1Abt2uxYs"
   },
   "outputs": [],
   "source": [
    "original=original.loc[original['Pricexm2'] < price]"
   ]
  },
  {
   "cell_type": "code",
   "execution_count": null,
   "metadata": {
    "colab": {
     "base_uri": "https://localhost:8080/",
     "height": 411
    },
    "id": "K-JU9od4u-wI",
    "outputId": "8f92043f-26bd-4e58-a476-c12cb4ada659"
   },
   "outputs": [],
   "source": [
    "for c in original.columns:\n",
    "    print(c)"
   ]
  },
  {
   "cell_type": "code",
   "execution_count": null,
   "metadata": {
    "colab": {
     "base_uri": "https://localhost:8080/"
    },
    "id": "b-I12Xfev-J8",
    "outputId": "4b1aebf4-fb4c-4507-c0d9-ac2c21fbb3db"
   },
   "outputs": [],
   "source": [
    "!pip install geopandas\n",
    "!pip install rtree\n",
    "!pip install pygeos\n",
    "\n",
    "!sudo apt install libspatialindex-dev\n",
    "!pip install --upgrade geopandas"
   ]
  },
  {
   "cell_type": "code",
   "execution_count": null,
   "metadata": {},
   "outputs": [],
   "source": [
    "import pygeos\n",
    "import rtree\n",
    "import geopandas as gpd"
   ]
  },
  {
   "cell_type": "code",
   "execution_count": null,
   "metadata": {
    "id": "qme6llkyvyQs"
   },
   "outputs": [],
   "source": [
    "milan_areas = gpd.read_file('ds964_nil_wm.geojson')"
   ]
  },
  {
   "cell_type": "code",
   "execution_count": null,
   "metadata": {
    "id": "zzzY6m1wwzWK"
   },
   "outputs": [],
   "source": [
    "import matplotlib.pyplot as plt"
   ]
  },
  {
   "cell_type": "code",
   "execution_count": null,
   "metadata": {
    "colab": {
     "base_uri": "https://localhost:8080/",
     "height": 283
    },
    "id": "MQL7_B02w2KD",
    "outputId": "f69cddad-f6ac-40cd-91eb-a449aeaed989"
   },
   "outputs": [],
   "source": [
    "milan_areas.plot()"
   ]
  },
  {
   "cell_type": "code",
   "execution_count": null,
   "metadata": {
    "id": "Dgr8yXNXxC59"
   },
   "outputs": [],
   "source": [
    "merged = original.merge(milan_areas, on='NIL', how='left')"
   ]
  },
  {
   "cell_type": "code",
   "execution_count": null,
   "metadata": {
    "id": "Qp-IiVXRxdK3"
   },
   "outputs": [],
   "source": [
    "from geopandas import GeoDataFrame\n",
    "merged = GeoDataFrame(merged)"
   ]
  },
  {
   "cell_type": "code",
   "execution_count": null,
   "metadata": {
    "colab": {
     "base_uri": "https://localhost:8080/",
     "height": 367
    },
    "id": "NQ8U7T5XvT-3",
    "outputId": "fb8ef967-6158-40d4-ce90-8b8dd3cae578"
   },
   "outputs": [],
   "source": [
    "variable = 'predicted'\n",
    "vmin, vmax = 0, 1000\n",
    "fig, ax = plt.subplots(1, figsize=(10, 6))\n",
    "merged.plot(column=variable, cmap='Blues', linewidth=0.8, ax=ax, edgecolor='0.8')\n",
    "ax.axis('off')\n",
    "sm = plt.cm.ScalarMappable(cmap='Blues', norm=plt.Normalize(vmin=vmin, vmax=vmax))\n",
    "# empty array for the data range\n",
    "sm._A = []\n",
    "# add the colorbar to the figure\n",
    "cbar = fig.colorbar(sm)"
   ]
  },
  {
   "cell_type": "code",
   "execution_count": null,
   "metadata": {
    "id": "76zazADSxr_g"
   },
   "outputs": [],
   "source": [
    "best = merged[merged.predicted == merged.predicted.max()]"
   ]
  },
  {
   "cell_type": "code",
   "execution_count": null,
   "metadata": {
    "colab": {
     "base_uri": "https://localhost:8080/"
    },
    "id": "g_rVxmGHy3OI",
    "outputId": "83495476-1793-443b-de88-215a6e9e1ec9"
   },
   "outputs": [],
   "source": [
    "print(best['NIL'])"
   ]
  }
 ],
 "metadata": {
  "colab": {
   "collapsed_sections": [],
   "name": "Untitled10.ipynb",
   "provenance": []
  },
  "kernelspec": {
   "display_name": "Python 3 (ipykernel)",
   "language": "python",
   "name": "python3"
  },
  "language_info": {
   "codemirror_mode": {
    "name": "ipython",
    "version": 3
   },
   "file_extension": ".py",
   "mimetype": "text/x-python",
   "name": "python",
   "nbconvert_exporter": "python",
   "pygments_lexer": "ipython3",
   "version": "3.7.10"
  }
 },
 "nbformat": 4,
 "nbformat_minor": 1
}
