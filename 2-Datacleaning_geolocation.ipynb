{
  "nbformat": 4,
  "nbformat_minor": 0,
  "metadata": {
    "colab": {
      "name": "Geojson14921.ipynb",
      "provenance": [],
      "collapsed_sections": []
    },
    "kernelspec": {
      "name": "python3",
      "display_name": "Python 3"
    },
    "language_info": {
      "name": "python"
    },
    "widgets": {
      "application/vnd.jupyter.widget-state+json": {
        "88c65b1fb17b4dc4921948de63a8dc9c": {
          "model_module": "@jupyter-widgets/controls",
          "model_name": "HBoxModel",
          "model_module_version": "1.5.0",
          "state": {
            "_view_name": "HBoxView",
            "_dom_classes": [],
            "_model_name": "HBoxModel",
            "_view_module": "@jupyter-widgets/controls",
            "_model_module_version": "1.5.0",
            "_view_count": null,
            "_view_module_version": "1.5.0",
            "box_style": "",
            "layout": "IPY_MODEL_93ea776e115542c9998df3883c7b0b29",
            "_model_module": "@jupyter-widgets/controls",
            "children": [
              "IPY_MODEL_d2df2070253f42c5bcedbb27eb443039",
              "IPY_MODEL_c2ac24ffabe7477fb9c9a6ed8f258ff5",
              "IPY_MODEL_74dd03ca7d264e39b11d7102a4bfd1ef"
            ]
          }
        },
        "93ea776e115542c9998df3883c7b0b29": {
          "model_module": "@jupyter-widgets/base",
          "model_name": "LayoutModel",
          "model_module_version": "1.2.0",
          "state": {
            "_view_name": "LayoutView",
            "grid_template_rows": null,
            "right": null,
            "justify_content": null,
            "_view_module": "@jupyter-widgets/base",
            "overflow": null,
            "_model_module_version": "1.2.0",
            "_view_count": null,
            "flex_flow": null,
            "width": null,
            "min_width": null,
            "border": null,
            "align_items": null,
            "bottom": null,
            "_model_module": "@jupyter-widgets/base",
            "top": null,
            "grid_column": null,
            "overflow_y": null,
            "overflow_x": null,
            "grid_auto_flow": null,
            "grid_area": null,
            "grid_template_columns": null,
            "flex": null,
            "_model_name": "LayoutModel",
            "justify_items": null,
            "grid_row": null,
            "max_height": null,
            "align_content": null,
            "visibility": null,
            "align_self": null,
            "height": null,
            "min_height": null,
            "padding": null,
            "grid_auto_rows": null,
            "grid_gap": null,
            "max_width": null,
            "order": null,
            "_view_module_version": "1.2.0",
            "grid_template_areas": null,
            "object_position": null,
            "object_fit": null,
            "grid_auto_columns": null,
            "margin": null,
            "display": null,
            "left": null
          }
        },
        "d2df2070253f42c5bcedbb27eb443039": {
          "model_module": "@jupyter-widgets/controls",
          "model_name": "HTMLModel",
          "model_module_version": "1.5.0",
          "state": {
            "_view_name": "HTMLView",
            "style": "IPY_MODEL_161d331515ee4534a7a927ef33b838d9",
            "_dom_classes": [],
            "description": "",
            "_model_name": "HTMLModel",
            "placeholder": "​",
            "_view_module": "@jupyter-widgets/controls",
            "_model_module_version": "1.5.0",
            "value": "100%",
            "_view_count": null,
            "_view_module_version": "1.5.0",
            "description_tooltip": null,
            "_model_module": "@jupyter-widgets/controls",
            "layout": "IPY_MODEL_1a1b0215b43a498b8ceb69701d2504ea"
          }
        },
        "c2ac24ffabe7477fb9c9a6ed8f258ff5": {
          "model_module": "@jupyter-widgets/controls",
          "model_name": "FloatProgressModel",
          "model_module_version": "1.5.0",
          "state": {
            "_view_name": "ProgressView",
            "style": "IPY_MODEL_b9ac37ff64894d33a20052ad60153d5f",
            "_dom_classes": [],
            "description": "",
            "_model_name": "FloatProgressModel",
            "bar_style": "success",
            "max": 2392,
            "_view_module": "@jupyter-widgets/controls",
            "_model_module_version": "1.5.0",
            "value": 2392,
            "_view_count": null,
            "_view_module_version": "1.5.0",
            "orientation": "horizontal",
            "min": 0,
            "description_tooltip": null,
            "_model_module": "@jupyter-widgets/controls",
            "layout": "IPY_MODEL_b61816b1149240729b8491ad0b6903d7"
          }
        },
        "74dd03ca7d264e39b11d7102a4bfd1ef": {
          "model_module": "@jupyter-widgets/controls",
          "model_name": "HTMLModel",
          "model_module_version": "1.5.0",
          "state": {
            "_view_name": "HTMLView",
            "style": "IPY_MODEL_b005a266a7c14551a3200ea4e95cf1bd",
            "_dom_classes": [],
            "description": "",
            "_model_name": "HTMLModel",
            "placeholder": "​",
            "_view_module": "@jupyter-widgets/controls",
            "_model_module_version": "1.5.0",
            "value": " 2392/2392 [14:29&lt;00:00,  3.29it/s]",
            "_view_count": null,
            "_view_module_version": "1.5.0",
            "description_tooltip": null,
            "_model_module": "@jupyter-widgets/controls",
            "layout": "IPY_MODEL_f3428b90c8ea47a2ba2f1ae42fa97a14"
          }
        },
        "161d331515ee4534a7a927ef33b838d9": {
          "model_module": "@jupyter-widgets/controls",
          "model_name": "DescriptionStyleModel",
          "model_module_version": "1.5.0",
          "state": {
            "_view_name": "StyleView",
            "_model_name": "DescriptionStyleModel",
            "description_width": "",
            "_view_module": "@jupyter-widgets/base",
            "_model_module_version": "1.5.0",
            "_view_count": null,
            "_view_module_version": "1.2.0",
            "_model_module": "@jupyter-widgets/controls"
          }
        },
        "1a1b0215b43a498b8ceb69701d2504ea": {
          "model_module": "@jupyter-widgets/base",
          "model_name": "LayoutModel",
          "model_module_version": "1.2.0",
          "state": {
            "_view_name": "LayoutView",
            "grid_template_rows": null,
            "right": null,
            "justify_content": null,
            "_view_module": "@jupyter-widgets/base",
            "overflow": null,
            "_model_module_version": "1.2.0",
            "_view_count": null,
            "flex_flow": null,
            "width": null,
            "min_width": null,
            "border": null,
            "align_items": null,
            "bottom": null,
            "_model_module": "@jupyter-widgets/base",
            "top": null,
            "grid_column": null,
            "overflow_y": null,
            "overflow_x": null,
            "grid_auto_flow": null,
            "grid_area": null,
            "grid_template_columns": null,
            "flex": null,
            "_model_name": "LayoutModel",
            "justify_items": null,
            "grid_row": null,
            "max_height": null,
            "align_content": null,
            "visibility": null,
            "align_self": null,
            "height": null,
            "min_height": null,
            "padding": null,
            "grid_auto_rows": null,
            "grid_gap": null,
            "max_width": null,
            "order": null,
            "_view_module_version": "1.2.0",
            "grid_template_areas": null,
            "object_position": null,
            "object_fit": null,
            "grid_auto_columns": null,
            "margin": null,
            "display": null,
            "left": null
          }
        },
        "b9ac37ff64894d33a20052ad60153d5f": {
          "model_module": "@jupyter-widgets/controls",
          "model_name": "ProgressStyleModel",
          "model_module_version": "1.5.0",
          "state": {
            "_view_name": "StyleView",
            "_model_name": "ProgressStyleModel",
            "description_width": "",
            "_view_module": "@jupyter-widgets/base",
            "_model_module_version": "1.5.0",
            "_view_count": null,
            "_view_module_version": "1.2.0",
            "bar_color": null,
            "_model_module": "@jupyter-widgets/controls"
          }
        },
        "b61816b1149240729b8491ad0b6903d7": {
          "model_module": "@jupyter-widgets/base",
          "model_name": "LayoutModel",
          "model_module_version": "1.2.0",
          "state": {
            "_view_name": "LayoutView",
            "grid_template_rows": null,
            "right": null,
            "justify_content": null,
            "_view_module": "@jupyter-widgets/base",
            "overflow": null,
            "_model_module_version": "1.2.0",
            "_view_count": null,
            "flex_flow": null,
            "width": null,
            "min_width": null,
            "border": null,
            "align_items": null,
            "bottom": null,
            "_model_module": "@jupyter-widgets/base",
            "top": null,
            "grid_column": null,
            "overflow_y": null,
            "overflow_x": null,
            "grid_auto_flow": null,
            "grid_area": null,
            "grid_template_columns": null,
            "flex": null,
            "_model_name": "LayoutModel",
            "justify_items": null,
            "grid_row": null,
            "max_height": null,
            "align_content": null,
            "visibility": null,
            "align_self": null,
            "height": null,
            "min_height": null,
            "padding": null,
            "grid_auto_rows": null,
            "grid_gap": null,
            "max_width": null,
            "order": null,
            "_view_module_version": "1.2.0",
            "grid_template_areas": null,
            "object_position": null,
            "object_fit": null,
            "grid_auto_columns": null,
            "margin": null,
            "display": null,
            "left": null
          }
        },
        "b005a266a7c14551a3200ea4e95cf1bd": {
          "model_module": "@jupyter-widgets/controls",
          "model_name": "DescriptionStyleModel",
          "model_module_version": "1.5.0",
          "state": {
            "_view_name": "StyleView",
            "_model_name": "DescriptionStyleModel",
            "description_width": "",
            "_view_module": "@jupyter-widgets/base",
            "_model_module_version": "1.5.0",
            "_view_count": null,
            "_view_module_version": "1.2.0",
            "_model_module": "@jupyter-widgets/controls"
          }
        },
        "f3428b90c8ea47a2ba2f1ae42fa97a14": {
          "model_module": "@jupyter-widgets/base",
          "model_name": "LayoutModel",
          "model_module_version": "1.2.0",
          "state": {
            "_view_name": "LayoutView",
            "grid_template_rows": null,
            "right": null,
            "justify_content": null,
            "_view_module": "@jupyter-widgets/base",
            "overflow": null,
            "_model_module_version": "1.2.0",
            "_view_count": null,
            "flex_flow": null,
            "width": null,
            "min_width": null,
            "border": null,
            "align_items": null,
            "bottom": null,
            "_model_module": "@jupyter-widgets/base",
            "top": null,
            "grid_column": null,
            "overflow_y": null,
            "overflow_x": null,
            "grid_auto_flow": null,
            "grid_area": null,
            "grid_template_columns": null,
            "flex": null,
            "_model_name": "LayoutModel",
            "justify_items": null,
            "grid_row": null,
            "max_height": null,
            "align_content": null,
            "visibility": null,
            "align_self": null,
            "height": null,
            "min_height": null,
            "padding": null,
            "grid_auto_rows": null,
            "grid_gap": null,
            "max_width": null,
            "order": null,
            "_view_module_version": "1.2.0",
            "grid_template_areas": null,
            "object_position": null,
            "object_fit": null,
            "grid_auto_columns": null,
            "margin": null,
            "display": null,
            "left": null
          }
        }
      }
    }
  },
  "cells": [
    {
      "cell_type": "markdown",
      "metadata": {
        "id": "3zIlUzatuIBO"
      },
      "source": [
        "This script takes as inputs: \n",
        "- file geojson of Milan areas\n",
        "- output.csv with all the restaurants scraped (restaurant_id is set to be equal to the row number)\n",
        "- nil.csv file with the population per area of Milan\n",
        "\n",
        "It produces three datasets:\n",
        "- output_cleaned, with restaurant_id, location, revenue (where missing, the mean value for the same category of restaurant was imputed), category, reviews, rating\n",
        "- rest_locationinfo.csv,  dataset with restaurant_id, lat, long, ID_NIL (Milan area ID), NIL (Milan area)\n",
        "- quartieri.csv, with ID_NIL, population for NIL, density or restaurants per NIL"
      ]
    },
    {
      "cell_type": "markdown",
      "metadata": {
        "id": "W1S5SkI5UioO"
      },
      "source": [
        "**Cleaning dataset**"
      ]
    },
    {
      "cell_type": "code",
      "metadata": {
        "id": "XEDzm2ibUyw2"
      },
      "source": [
        "import time\n",
        "import requests\n",
        "import json\n",
        "from tqdm import tqdm_notebook as tqdm\n",
        "import pandas as pd\n",
        "from pandas import DataFrame"
      ],
      "execution_count": 1,
      "outputs": []
    },
    {
      "cell_type": "code",
      "metadata": {
        "colab": {
          "base_uri": "https://localhost:8080/"
        },
        "id": "qIiqJcXqUrNu",
        "outputId": "3a90ff01-cbce-423e-9478-0372134f062a"
      },
      "source": [
        "df = pd.read_csv(\"output.csv\")\n",
        "df['restaurant_id']= df.reset_index().index\n",
        "df=df.set_index('restaurant_id')\n",
        "print(df.head(10))"
      ],
      "execution_count": 2,
      "outputs": [
        {
          "output_type": "stream",
          "name": "stdout",
          "text": [
            "                                                             URL  ...                                            Cuisine\n",
            "restaurant_id                                                     ...                                                   \n",
            "0              https://www.tripadvisor.com/Restaurant_Review-...  ...                                  Filipino, Healthy\n",
            "1              https://www.tripadvisor.com/Restaurant_Review-...  ...  Middle Eastern, Turkish, Pub, Bar, Internation...\n",
            "2              https://www.tripadvisor.com/Restaurant_Review-...  ...                      Italian, Steakhouse, Barbecue\n",
            "3              https://www.tripadvisor.com/Restaurant_Review-...  ...                    Italian, Street Food, Fast Food\n",
            "4              https://www.tripadvisor.com/Restaurant_Review-...  ...  Italian, Mediterranean, Deli, Street Food, Apu...\n",
            "5              https://www.tripadvisor.com/Restaurant_Review-...  ...  Italian, Pizza, Mediterranean, Neapolitan, Cam...\n",
            "6              https://www.tripadvisor.com/Restaurant_Review-...  ...        Sushi, Italian, Bar, Mediterranean, Healthy\n",
            "7              https://www.tripadvisor.com/Restaurant_Review-...  ...           Italian, Cafe, Contemporary, Dining bars\n",
            "8              https://www.tripadvisor.com/Restaurant_Review-...  ...  Italian, Fast Food, Healthy, Emilian, Northern...\n",
            "9              https://www.tripadvisor.com/Restaurant_Review-...  ...  Seafood, Sushi, Asian, Fusion, Soups, Japanese...\n",
            "\n",
            "[10 rows x 7 columns]\n"
          ]
        }
      ]
    },
    {
      "cell_type": "code",
      "metadata": {
        "colab": {
          "base_uri": "https://localhost:8080/",
          "height": 371
        },
        "id": "vcV7Fk75VCJK",
        "outputId": "3b39f2d9-e431-45c3-8a03-b80a083a8eb3"
      },
      "source": [
        "df = DataFrame(df, columns=['URL','Title','Location','No. of Reviews','Rating','Price Range','Cuisine'])\n",
        "df = df.rename(columns={'No. of Reviews': 'Reviews', 'Price Range': 'Price'})\n",
        "df.head()"
      ],
      "execution_count": 3,
      "outputs": [
        {
          "output_type": "execute_result",
          "data": {
            "text/html": [
              "<div>\n",
              "<style scoped>\n",
              "    .dataframe tbody tr th:only-of-type {\n",
              "        vertical-align: middle;\n",
              "    }\n",
              "\n",
              "    .dataframe tbody tr th {\n",
              "        vertical-align: top;\n",
              "    }\n",
              "\n",
              "    .dataframe thead th {\n",
              "        text-align: right;\n",
              "    }\n",
              "</style>\n",
              "<table border=\"1\" class=\"dataframe\">\n",
              "  <thead>\n",
              "    <tr style=\"text-align: right;\">\n",
              "      <th></th>\n",
              "      <th>URL</th>\n",
              "      <th>Title</th>\n",
              "      <th>Location</th>\n",
              "      <th>Reviews</th>\n",
              "      <th>Rating</th>\n",
              "      <th>Price</th>\n",
              "      <th>Cuisine</th>\n",
              "    </tr>\n",
              "    <tr>\n",
              "      <th>restaurant_id</th>\n",
              "      <th></th>\n",
              "      <th></th>\n",
              "      <th></th>\n",
              "      <th></th>\n",
              "      <th></th>\n",
              "      <th></th>\n",
              "      <th></th>\n",
              "    </tr>\n",
              "  </thead>\n",
              "  <tbody>\n",
              "    <tr>\n",
              "      <th>0</th>\n",
              "      <td>https://www.tripadvisor.com/Restaurant_Review-...</td>\n",
              "      <td>Mabuhay Restaurant</td>\n",
              "      <td>Bastioni di Porta Volta 9, 20121 Milan Italy</td>\n",
              "      <td>368</td>\n",
              "      <td>5.0</td>\n",
              "      <td>$2 - $14</td>\n",
              "      <td>Filipino, Healthy</td>\n",
              "    </tr>\n",
              "    <tr>\n",
              "      <th>1</th>\n",
              "      <td>https://www.tripadvisor.com/Restaurant_Review-...</td>\n",
              "      <td>Star Zagros Kebabbar</td>\n",
              "      <td>Corso 22 Marzo, 38, 20135 Milan Italy</td>\n",
              "      <td>236</td>\n",
              "      <td>5.0</td>\n",
              "      <td>NaN</td>\n",
              "      <td>Middle Eastern, Turkish, Pub, Bar, Internation...</td>\n",
              "    </tr>\n",
              "    <tr>\n",
              "      <th>2</th>\n",
              "      <td>https://www.tripadvisor.com/Restaurant_Review-...</td>\n",
              "      <td>Shabby Grill Restaurant</td>\n",
              "      <td>Via Domokos 4, 20147 Milan Italy</td>\n",
              "      <td>174</td>\n",
              "      <td>5.0</td>\n",
              "      <td>$48 - $59</td>\n",
              "      <td>Italian, Steakhouse, Barbecue</td>\n",
              "    </tr>\n",
              "    <tr>\n",
              "      <th>3</th>\n",
              "      <td>https://www.tripadvisor.com/Restaurant_Review-...</td>\n",
              "      <td>Il Panino del Laghetto</td>\n",
              "      <td>Via Laghetto 7, 20122 Milan Italy</td>\n",
              "      <td>168</td>\n",
              "      <td>5.0</td>\n",
              "      <td>$5 - $14</td>\n",
              "      <td>Italian, Street Food, Fast Food</td>\n",
              "    </tr>\n",
              "    <tr>\n",
              "      <th>4</th>\n",
              "      <td>https://www.tripadvisor.com/Restaurant_Review-...</td>\n",
              "      <td>Panzarotti</td>\n",
              "      <td>Viale Bligny 1/A Piazzale di Porta Lodovica, 2...</td>\n",
              "      <td>665</td>\n",
              "      <td>5.0</td>\n",
              "      <td>$5 - $18</td>\n",
              "      <td>Italian, Mediterranean, Deli, Street Food, Apu...</td>\n",
              "    </tr>\n",
              "  </tbody>\n",
              "</table>\n",
              "</div>"
            ],
            "text/plain": [
              "                                                             URL  ...                                            Cuisine\n",
              "restaurant_id                                                     ...                                                   \n",
              "0              https://www.tripadvisor.com/Restaurant_Review-...  ...                                  Filipino, Healthy\n",
              "1              https://www.tripadvisor.com/Restaurant_Review-...  ...  Middle Eastern, Turkish, Pub, Bar, Internation...\n",
              "2              https://www.tripadvisor.com/Restaurant_Review-...  ...                      Italian, Steakhouse, Barbecue\n",
              "3              https://www.tripadvisor.com/Restaurant_Review-...  ...                    Italian, Street Food, Fast Food\n",
              "4              https://www.tripadvisor.com/Restaurant_Review-...  ...  Italian, Mediterranean, Deli, Street Food, Apu...\n",
              "\n",
              "[5 rows x 7 columns]"
            ]
          },
          "metadata": {},
          "execution_count": 3
        }
      ]
    },
    {
      "cell_type": "code",
      "metadata": {
        "colab": {
          "base_uri": "https://localhost:8080/"
        },
        "id": "e8guAdTKYRqj",
        "outputId": "9e515dd5-e303-441c-cee8-53db1cd71524"
      },
      "source": [
        "df['A'], df['B'] = df['Price'].str.split('-', 1).str\n",
        "df.head()\n",
        "df.info()"
      ],
      "execution_count": 4,
      "outputs": [
        {
          "output_type": "stream",
          "name": "stdout",
          "text": [
            "<class 'pandas.core.frame.DataFrame'>\n",
            "Int64Index: 2443 entries, 0 to 2442\n",
            "Data columns (total 9 columns):\n",
            " #   Column    Non-Null Count  Dtype  \n",
            "---  ------    --------------  -----  \n",
            " 0   URL       2443 non-null   object \n",
            " 1   Title     2443 non-null   object \n",
            " 2   Location  2443 non-null   object \n",
            " 3   Reviews   2443 non-null   object \n",
            " 4   Rating    2443 non-null   float64\n",
            " 5   Price     1059 non-null   object \n",
            " 6   Cuisine   2392 non-null   object \n",
            " 7   A         1059 non-null   object \n",
            " 8   B         1059 non-null   object \n",
            "dtypes: float64(1), object(8)\n",
            "memory usage: 190.9+ KB\n"
          ]
        },
        {
          "output_type": "stream",
          "name": "stderr",
          "text": [
            "/usr/local/lib/python3.7/dist-packages/ipykernel_launcher.py:1: FutureWarning: Columnar iteration over characters will be deprecated in future releases.\n",
            "  \"\"\"Entry point for launching an IPython kernel.\n"
          ]
        }
      ]
    },
    {
      "cell_type": "code",
      "metadata": {
        "id": "lC9xf22VaLx7"
      },
      "source": [
        "df['A'] = pd.to_numeric(df['A'].astype(str).str.replace('$', ''), errors='coerce')\n",
        "df['B'] = pd.to_numeric(df['B'].astype(str).str.replace('$', ''), errors='coerce')\n",
        "df['Price'] = (df['A']+df['B'])/2\n",
        "df['Reviews'] = pd.to_numeric(df['Reviews'], errors='coerce')\n",
        "df['Revenue'] = df['Price'] * df['Reviews']\n",
        "del df['A']\n",
        "del df['B']"
      ],
      "execution_count": 5,
      "outputs": []
    },
    {
      "cell_type": "code",
      "metadata": {
        "id": "khW6tHJlhFvL",
        "colab": {
          "base_uri": "https://localhost:8080/"
        },
        "outputId": "e29f5b16-9cf1-4719-d23e-d122cf1a0c07"
      },
      "source": [
        "df['Category'] = df['Cuisine'].str.partition(',')[0]\n",
        "df=df.dropna(subset = ['Category'])\n",
        "df[\"Revenue\"] = df.groupby(\"Category\").transform(lambda x: x.fillna(x.mean()))\n",
        "df[\"Price\"] = df.groupby(\"Category\").transform(lambda x: x.fillna(x.mean()))\n",
        "df.to_csv('output_cleaned.csv') "
      ],
      "execution_count": 7,
      "outputs": [
        {
          "output_type": "stream",
          "name": "stderr",
          "text": [
            "/usr/local/lib/python3.7/dist-packages/ipykernel_launcher.py:3: SettingWithCopyWarning: \n",
            "A value is trying to be set on a copy of a slice from a DataFrame.\n",
            "Try using .loc[row_indexer,col_indexer] = value instead\n",
            "\n",
            "See the caveats in the documentation: https://pandas.pydata.org/pandas-docs/stable/user_guide/indexing.html#returning-a-view-versus-a-copy\n",
            "  This is separate from the ipykernel package so we can avoid doing imports until\n"
          ]
        }
      ]
    },
    {
      "cell_type": "markdown",
      "metadata": {
        "id": "gyN4qvudRfiU"
      },
      "source": [
        "Adding Lat and Long to addresses in the Scraped Df"
      ]
    },
    {
      "cell_type": "code",
      "metadata": {
        "colab": {
          "base_uri": "https://localhost:8080/",
          "height": 122,
          "referenced_widgets": [
            "88c65b1fb17b4dc4921948de63a8dc9c",
            "93ea776e115542c9998df3883c7b0b29",
            "d2df2070253f42c5bcedbb27eb443039",
            "c2ac24ffabe7477fb9c9a6ed8f258ff5",
            "74dd03ca7d264e39b11d7102a4bfd1ef",
            "161d331515ee4534a7a927ef33b838d9",
            "1a1b0215b43a498b8ceb69701d2504ea",
            "b9ac37ff64894d33a20052ad60153d5f",
            "b61816b1149240729b8491ad0b6903d7",
            "b005a266a7c14551a3200ea4e95cf1bd",
            "f3428b90c8ea47a2ba2f1ae42fa97a14"
          ]
        },
        "id": "2Xag1op4Iuvr",
        "outputId": "a2be2ff5-f4cc-4499-ee8a-68907239e1f1"
      },
      "source": [
        "restaurant_location = []\n",
        "for restaurant_id, restaurant in tqdm(df.iterrows(), total=df.shape[0]):\n",
        "  address = restaurant['Location']\n",
        "  if(address is None):\n",
        "    print(str(restaurant_id) + \"- \" + restaurant['location'])\n",
        "  else:\n",
        "    key = \"0btw1lSfowFGAKb5of9Os2XpzRsk8G7Y\"\n",
        "    try:\n",
        "      geocode_url = f\"http://www.mapquestapi.com/geocoding/v1/address?key={key}&location={address}\"\n",
        "      response = requests.get(geocode_url)\n",
        "      if(response.status_code == 200):\n",
        "        geo = json.loads(response.text)\n",
        "        lat = geo['results'][0]['locations'][0]['latLng']['lat']\n",
        "        lng = geo['results'][0]['locations'][0]['latLng']['lng']\n",
        "        restaurant_location.append({\n",
        "              \"restaurant_id\": restaurant_id,\n",
        "              \"lat\": lat,\n",
        "              \"lng\": lng\n",
        "            })\n",
        "    except Exception as e:\n",
        "      print(e)"
      ],
      "execution_count": 16,
      "outputs": [
        {
          "output_type": "stream",
          "name": "stderr",
          "text": [
            "/usr/local/lib/python3.7/dist-packages/ipykernel_launcher.py:2: TqdmDeprecationWarning: This function will be removed in tqdm==5.0.0\n",
            "Please use `tqdm.notebook.tqdm` instead of `tqdm.tqdm_notebook`\n",
            "  \n"
          ]
        },
        {
          "output_type": "display_data",
          "data": {
            "application/vnd.jupyter.widget-view+json": {
              "model_id": "88c65b1fb17b4dc4921948de63a8dc9c",
              "version_minor": 0,
              "version_major": 2
            },
            "text/plain": [
              "  0%|          | 0/2392 [00:00<?, ?it/s]"
            ]
          },
          "metadata": {}
        }
      ]
    },
    {
      "cell_type": "code",
      "metadata": {
        "colab": {
          "base_uri": "https://localhost:8080/"
        },
        "id": "_kLugJ5Kg1uo",
        "outputId": "682816d3-fb4c-4487-96f6-c426e46e2d72"
      },
      "source": [
        "print(restaurant_location)"
      ],
      "execution_count": 17,
      "outputs": [
        {
          "output_type": "stream",
          "name": "stdout",
          "text": [
            "[{'restaurant_id': 0, 'lat': 45.4794, 'lng': 9.18209}, {'restaurant_id': 1, 'lat': 45.46201, 'lng': 9.21903}, {'restaurant_id': 2, 'lat': 45.46848, 'lng': 9.12568}, {'restaurant_id': 3, 'lat': 45.46162, 'lng': 9.19556}, {'restaurant_id': 4, 'lat': 45.45179, 'lng': 9.18687}, {'restaurant_id': 5, 'lat': 45.45298, 'lng': 9.17189}, {'restaurant_id': 6, 'lat': 45.45381, 'lng': 9.16346}, {'restaurant_id': 7, 'lat': 45.47149, 'lng': 9.18479}, {'restaurant_id': 8, 'lat': 45.48343, 'lng': 9.2154}, {'restaurant_id': 9, 'lat': 45.45984, 'lng': 9.19142}, {'restaurant_id': 10, 'lat': 45.4491, 'lng': 9.17987}, {'restaurant_id': 11, 'lat': 45.4265, 'lng': 9.25098}, {'restaurant_id': 12, 'lat': 45.45874, 'lng': 9.17814}, {'restaurant_id': 13, 'lat': 45.46753, 'lng': 9.15077}, {'restaurant_id': 14, 'lat': 45.4906, 'lng': 9.20296}, {'restaurant_id': 15, 'lat': 45.4777, 'lng': 9.19893}, {'restaurant_id': 16, 'lat': 45.47585, 'lng': 9.18945}, {'restaurant_id': 17, 'lat': 45.46245, 'lng': 9.18544}, {'restaurant_id': 18, 'lat': 45.48632, 'lng': 9.16012}, {'restaurant_id': 19, 'lat': 45.45876, 'lng': 9.18099}, {'restaurant_id': 20, 'lat': 39.390897, 'lng': -99.066067}, {'restaurant_id': 21, 'lat': 45.48971, 'lng': 9.18891}, {'restaurant_id': 22, 'lat': 45.45614, 'lng': 9.23822}, {'restaurant_id': 23, 'lat': 45.48681, 'lng': 9.23321}, {'restaurant_id': 24, 'lat': 45.45562, 'lng': 9.1968}, {'restaurant_id': 25, 'lat': 45.48561, 'lng': 9.1628}, {'restaurant_id': 26, 'lat': 45.49206, 'lng': 9.15417}, {'restaurant_id': 27, 'lat': 45.51212, 'lng': 9.17027}, {'restaurant_id': 28, 'lat': 45.5544, 'lng': 9.22945}, {'restaurant_id': 29, 'lat': 45.46224, 'lng': 9.13763}, {'restaurant_id': 30, 'lat': 45.47102, 'lng': 9.14076}, {'restaurant_id': 31, 'lat': 45.4514, 'lng': 9.18878}, {'restaurant_id': 32, 'lat': 45.44916, 'lng': 9.1776}, {'restaurant_id': 33, 'lat': 45.46631, 'lng': 9.1923}, {'restaurant_id': 34, 'lat': 45.48366, 'lng': 9.17058}, {'restaurant_id': 35, 'lat': 45.46948, 'lng': 9.18211}, {'restaurant_id': 36, 'lat': 45.45832, 'lng': 9.21048}, {'restaurant_id': 37, 'lat': 45.47369, 'lng': 9.21214}, {'restaurant_id': 38, 'lat': 45.48546, 'lng': 9.18961}, {'restaurant_id': 39, 'lat': 45.44882, 'lng': 9.13371}, {'restaurant_id': 40, 'lat': 45.47907, 'lng': 9.17373}, {'restaurant_id': 41, 'lat': 45.4684, 'lng': 9.18049}, {'restaurant_id': 42, 'lat': 45.48246, 'lng': 9.197}, {'restaurant_id': 43, 'lat': 45.46192, 'lng': 9.1859}, {'restaurant_id': 44, 'lat': 45.46198, 'lng': 9.22821}, {'restaurant_id': 45, 'lat': 45.46199, 'lng': 9.19406}, {'restaurant_id': 46, 'lat': 45.44726, 'lng': 9.15494}, {'restaurant_id': 47, 'lat': 45.46162, 'lng': 9.18517}, {'restaurant_id': 48, 'lat': 45.44376, 'lng': 9.21596}, {'restaurant_id': 49, 'lat': 45.45583, 'lng': 9.20441}, {'restaurant_id': 50, 'lat': 45.47789, 'lng': 9.18899}, {'restaurant_id': 51, 'lat': 45.48288, 'lng': 9.15863}, {'restaurant_id': 52, 'lat': 45.39044, 'lng': 8.91277}, {'restaurant_id': 53, 'lat': 45.49493, 'lng': 9.14667}, {'restaurant_id': 54, 'lat': 45.48579, 'lng': 9.16307}, {'restaurant_id': 55, 'lat': 45.48847, 'lng': 9.19461}, {'restaurant_id': 56, 'lat': 45.46164, 'lng': 9.18771}, {'restaurant_id': 57, 'lat': 45.46024, 'lng': 9.17655}, {'restaurant_id': 58, 'lat': 45.51546, 'lng': 9.21115}, {'restaurant_id': 59, 'lat': 45.45486, 'lng': 9.19842}, {'restaurant_id': 60, 'lat': 45.49519, 'lng': 9.20715}, {'restaurant_id': 61, 'lat': 45.47765, 'lng': 9.17021}, {'restaurant_id': 62, 'lat': 45.4786, 'lng': 9.18827}, {'restaurant_id': 63, 'lat': 45.46002, 'lng': 9.18653}, {'restaurant_id': 64, 'lat': 45.46465, 'lng': 8.88959}, {'restaurant_id': 65, 'lat': 45.43689, 'lng': 9.20196}, {'restaurant_id': 66, 'lat': 45.47697, 'lng': 9.2042}, {'restaurant_id': 67, 'lat': 45.45598, 'lng': 9.21599}, {'restaurant_id': 68, 'lat': 45.4656, 'lng': 9.17969}, {'restaurant_id': 69, 'lat': 45.47576, 'lng': 9.20455}, {'restaurant_id': 70, 'lat': 45.45039, 'lng': 9.1696}, {'restaurant_id': 71, 'lat': 45.50487, 'lng': 9.22304}, {'restaurant_id': 72, 'lat': 45.45478, 'lng': 9.17174}, {'restaurant_id': 73, 'lat': 45.55522, 'lng': 9.13661}, {'restaurant_id': 74, 'lat': 45.45575, 'lng': 9.16645}, {'restaurant_id': 75, 'lat': 45.50922, 'lng': 9.20269}, {'restaurant_id': 76, 'lat': 45.47737, 'lng': 9.20601}, {'restaurant_id': 77, 'lat': 45.47772, 'lng': 9.21557}, {'restaurant_id': 78, 'lat': 45.45202, 'lng': 9.18532}, {'restaurant_id': 79, 'lat': 45.49266, 'lng': 9.20653}, {'restaurant_id': 80, 'lat': 45.60168, 'lng': 8.92281}, {'restaurant_id': 81, 'lat': 45.4878, 'lng': 9.18944}, {'restaurant_id': 82, 'lat': 45.45934, 'lng': 9.20659}, {'restaurant_id': 83, 'lat': 45.48994, 'lng': 9.21764}, {'restaurant_id': 84, 'lat': 45.45549, 'lng': 9.16424}, {'restaurant_id': 85, 'lat': 45.44807, 'lng': 9.19768}, {'restaurant_id': 86, 'lat': 45.48745, 'lng': 9.18815}, {'restaurant_id': 87, 'lat': 45.5114, 'lng': 9.17556}, {'restaurant_id': 88, 'lat': 45.47818, 'lng': 9.18426}, {'restaurant_id': 89, 'lat': 45.45189, 'lng': 9.20478}, {'restaurant_id': 90, 'lat': 45.48555, 'lng': 9.19762}, {'restaurant_id': 91, 'lat': 39.390897, 'lng': -99.066067}, {'restaurant_id': 92, 'lat': 45.45884, 'lng': 8.8522}, {'restaurant_id': 93, 'lat': 45.48396, 'lng': 9.20999}, {'restaurant_id': 94, 'lat': 45.48133, 'lng': 9.17441}, {'restaurant_id': 95, 'lat': 45.47974, 'lng': 9.20441}, {'restaurant_id': 96, 'lat': 45.4775, 'lng': 9.17041}, {'restaurant_id': 97, 'lat': 45.48514, 'lng': 9.19876}, {'restaurant_id': 98, 'lat': 45.47712, 'lng': 9.15169}, {'restaurant_id': 99, 'lat': 45.51561, 'lng': 9.22577}, {'restaurant_id': 100, 'lat': 45.48164, 'lng': 9.21959}, {'restaurant_id': 101, 'lat': 45.47818, 'lng': 9.20554}, {'restaurant_id': 102, 'lat': 45.46698, 'lng': 9.14474}, {'restaurant_id': 103, 'lat': 45.48487, 'lng': 9.16473}, {'restaurant_id': 104, 'lat': 45.49218, 'lng': 9.20626}, {'restaurant_id': 105, 'lat': 45.4616, 'lng': 9.21435}, {'restaurant_id': 106, 'lat': 45.46737, 'lng': 9.14274}, {'restaurant_id': 107, 'lat': 45.51435, 'lng': 9.21172}, {'restaurant_id': 108, 'lat': 45.44805, 'lng': 9.17737}, {'restaurant_id': 109, 'lat': 45.49689, 'lng': 9.19032}, {'restaurant_id': 110, 'lat': 45.45757, 'lng': 9.20437}, {'restaurant_id': 111, 'lat': 45.47379, 'lng': 9.18365}, {'restaurant_id': 112, 'lat': 45.46751, 'lng': 9.15399}, {'restaurant_id': 113, 'lat': 45.48999, 'lng': 9.18352}, {'restaurant_id': 114, 'lat': 45.4819, 'lng': 9.21338}, {'restaurant_id': 115, 'lat': 45.49767, 'lng': 9.22523}, {'restaurant_id': 116, 'lat': 45.48, 'lng': 9.21949}, {'restaurant_id': 117, 'lat': 45.48117, 'lng': 9.16174}, {'restaurant_id': 118, 'lat': 45.48429, 'lng': 9.15708}, {'restaurant_id': 119, 'lat': 45.45057, 'lng': 9.19923}, {'restaurant_id': 120, 'lat': 45.45882, 'lng': 9.17963}, {'restaurant_id': 121, 'lat': 45.48622, 'lng': 9.23296}, {'restaurant_id': 122, 'lat': 45.4567, 'lng': 9.16987}, {'restaurant_id': 123, 'lat': 45.46478, 'lng': 9.17539}, {'restaurant_id': 124, 'lat': 45.46336, 'lng': 9.20822}, {'restaurant_id': 125, 'lat': 45.48354, 'lng': 9.17022}, {'restaurant_id': 126, 'lat': 45.48189, 'lng': 9.20952}, {'restaurant_id': 127, 'lat': 45.45524, 'lng': 9.17286}, {'restaurant_id': 128, 'lat': 45.46956, 'lng': 9.18673}, {'restaurant_id': 129, 'lat': 45.47491, 'lng': 9.21129}, {'restaurant_id': 130, 'lat': 45.46568, 'lng': 9.16005}, {'restaurant_id': 131, 'lat': 45.48104, 'lng': 9.16688}, {'restaurant_id': 132, 'lat': 45.44624, 'lng': 9.17913}, {'restaurant_id': 133, 'lat': 45.45279, 'lng': 9.17449}, {'restaurant_id': 134, 'lat': 45.46314, 'lng': 9.18616}, {'restaurant_id': 135, 'lat': 45.52548, 'lng': 9.21451}, {'restaurant_id': 136, 'lat': 45.4757, 'lng': 9.21447}, {'restaurant_id': 137, 'lat': 45.47855, 'lng': 9.20634}, {'restaurant_id': 138, 'lat': 45.48063, 'lng': 9.16867}, {'restaurant_id': 139, 'lat': 45.45158, 'lng': 9.20525}, {'restaurant_id': 140, 'lat': 45.47886, 'lng': 9.18435}, {'restaurant_id': 141, 'lat': 45.47494, 'lng': 9.20907}, {'restaurant_id': 142, 'lat': 45.51819, 'lng': 9.20836}, {'restaurant_id': 143, 'lat': 45.44936, 'lng': 9.20676}, {'restaurant_id': 144, 'lat': 45.50003, 'lng': 9.1816}, {'restaurant_id': 145, 'lat': 45.47528, 'lng': 9.14262}, {'restaurant_id': 146, 'lat': 45.46535, 'lng': 9.22162}, {'restaurant_id': 147, 'lat': 45.47835, 'lng': 9.20674}, {'restaurant_id': 148, 'lat': 45.47919, 'lng': 9.21457}, {'restaurant_id': 149, 'lat': 45.48035, 'lng': 9.20168}, {'restaurant_id': 150, 'lat': 45.48353, 'lng': 9.19815}, {'restaurant_id': 151, 'lat': 45.4831, 'lng': 9.1993}, {'restaurant_id': 152, 'lat': 45.44686, 'lng': 9.17964}, {'restaurant_id': 153, 'lat': 45.47854, 'lng': 9.20274}, {'restaurant_id': 154, 'lat': 45.45957, 'lng': 9.1572}, {'restaurant_id': 155, 'lat': 45.42158, 'lng': 9.20401}, {'restaurant_id': 156, 'lat': 45.47596, 'lng': 9.20268}, {'restaurant_id': 157, 'lat': 45.46797, 'lng': 9.15143}, {'restaurant_id': 158, 'lat': 45.48153, 'lng': 9.18492}, {'restaurant_id': 159, 'lat': 45.44737, 'lng': 9.15869}, {'restaurant_id': 160, 'lat': 45.4777, 'lng': 9.1753}, {'restaurant_id': 161, 'lat': 45.48966, 'lng': 9.22383}, {'restaurant_id': 162, 'lat': 45.48124, 'lng': 9.2056}, {'restaurant_id': 163, 'lat': 43.47034, 'lng': 12.23184}, {'restaurant_id': 164, 'lat': 45.48015, 'lng': 9.20302}, {'restaurant_id': 165, 'lat': 45.49393, 'lng': 9.18521}, {'restaurant_id': 166, 'lat': 45.46091, 'lng': 9.09114}, {'restaurant_id': 167, 'lat': 45.46701, 'lng': 9.18166}, {'restaurant_id': 168, 'lat': 45.49486, 'lng': 9.18707}, {'restaurant_id': 169, 'lat': 45.48799, 'lng': 9.15924}, {'restaurant_id': 170, 'lat': 45.47895, 'lng': 9.16037}, {'restaurant_id': 171, 'lat': 45.46716, 'lng': 9.18593}, {'restaurant_id': 172, 'lat': 45.4412, 'lng': 9.19023}, {'restaurant_id': 173, 'lat': 45.46946, 'lng': 9.15373}, {'restaurant_id': 174, 'lat': 45.48224, 'lng': 9.2163}, {'restaurant_id': 175, 'lat': 45.44124, 'lng': 9.21613}, {'restaurant_id': 176, 'lat': 45.48909, 'lng': 9.1885}, {'restaurant_id': 177, 'lat': 45.45251, 'lng': 9.15493}, {'restaurant_id': 178, 'lat': 45.4382, 'lng': 8.60415}, {'restaurant_id': 179, 'lat': 45.45104, 'lng': 9.19356}, {'restaurant_id': 180, 'lat': 45.49793, 'lng': 9.16993}, {'restaurant_id': 181, 'lat': 45.45118, 'lng': 9.18873}, {'restaurant_id': 182, 'lat': 45.4861, 'lng': 9.21877}, {'restaurant_id': 183, 'lat': 45.51529, 'lng': 9.21169}, {'restaurant_id': 184, 'lat': 45.47434, 'lng': 9.18338}, {'restaurant_id': 185, 'lat': 45.45353, 'lng': 9.14979}, {'restaurant_id': 186, 'lat': 45.48592, 'lng': 9.22287}, {'restaurant_id': 187, 'lat': 45.48834, 'lng': 9.20495}, {'restaurant_id': 188, 'lat': 45.48968, 'lng': 9.1638}, {'restaurant_id': 189, 'lat': 44.42662, 'lng': 8.95084}, {'restaurant_id': 190, 'lat': 45.45391, 'lng': 9.16895}, {'restaurant_id': 191, 'lat': 45.45996, 'lng': 9.18794}, {'restaurant_id': 192, 'lat': 45.4755, 'lng': 9.21455}, {'restaurant_id': 193, 'lat': 45.46703, 'lng': 9.21009}, {'restaurant_id': 194, 'lat': 45.4682, 'lng': 9.15126}, {'restaurant_id': 195, 'lat': 45.47708, 'lng': 9.20207}, {'restaurant_id': 196, 'lat': 45.48334, 'lng': 9.19807}, {'restaurant_id': 197, 'lat': 45.44869, 'lng': 9.1643}, {'restaurant_id': 198, 'lat': 45.49006, 'lng': 9.18938}, {'restaurant_id': 199, 'lat': 45.48205, 'lng': 9.21091}, {'restaurant_id': 200, 'lat': 45.45316, 'lng': 9.17241}, {'restaurant_id': 201, 'lat': 45.46267, 'lng': 9.18439}, {'restaurant_id': 202, 'lat': 45.48014, 'lng': 9.18676}, {'restaurant_id': 203, 'lat': 45.48085, 'lng': 9.19347}, {'restaurant_id': 204, 'lat': 45.48674, 'lng': 9.19837}, {'restaurant_id': 205, 'lat': 45.49885, 'lng': 9.11119}, {'restaurant_id': 206, 'lat': 45.4495, 'lng': 9.13525}, {'restaurant_id': 207, 'lat': 45.46636, 'lng': 9.19537}, {'restaurant_id': 208, 'lat': 45.48841, 'lng': 9.19325}, {'restaurant_id': 209, 'lat': 45.48977, 'lng': 9.21292}, {'restaurant_id': 210, 'lat': 45.03978, 'lng': 8.57082}, {'restaurant_id': 211, 'lat': 45.51195, 'lng': 9.2247}, {'restaurant_id': 212, 'lat': 45.47212, 'lng': 9.14217}, {'restaurant_id': 213, 'lat': 45.4597, 'lng': 9.18867}, {'restaurant_id': 214, 'lat': 45.45654, 'lng': 9.17477}, {'restaurant_id': 215, 'lat': 45.45833, 'lng': 9.2076}, {'restaurant_id': 216, 'lat': 45.44724, 'lng': 9.17715}, {'restaurant_id': 217, 'lat': 45.47707, 'lng': 9.2044}, {'restaurant_id': 218, 'lat': 45.47707, 'lng': 9.2044}, {'restaurant_id': 219, 'lat': 45.47693, 'lng': 9.15592}, {'restaurant_id': 220, 'lat': 45.49813, 'lng': 9.20829}, {'restaurant_id': 221, 'lat': 45.45606, 'lng': 9.17679}, {'restaurant_id': 222, 'lat': 45.45793, 'lng': 9.15448}, {'restaurant_id': 223, 'lat': 45.47752, 'lng': 9.2155}, {'restaurant_id': 224, 'lat': 45.45183, 'lng': 9.17598}, {'restaurant_id': 225, 'lat': 45.48758, 'lng': 9.21845}, {'restaurant_id': 226, 'lat': 45.4816, 'lng': 9.21843}, {'restaurant_id': 227, 'lat': 45.48605, 'lng': 9.15959}, {'restaurant_id': 228, 'lat': 45.51487, 'lng': 9.20589}, {'restaurant_id': 229, 'lat': 45.48746, 'lng': 9.16997}, {'restaurant_id': 230, 'lat': 45.47022, 'lng': 9.1509}, {'restaurant_id': 231, 'lat': 45.47297, 'lng': 9.211}, {'restaurant_id': 232, 'lat': 45.45919, 'lng': 9.21352}, {'restaurant_id': 233, 'lat': 45.47918, 'lng': 9.10292}, {'restaurant_id': 234, 'lat': 45.4531, 'lng': 9.17325}, {'restaurant_id': 235, 'lat': 45.4659, 'lng': 9.16625}, {'restaurant_id': 236, 'lat': 45.45109, 'lng': 9.17243}, {'restaurant_id': 238, 'lat': 45.45941, 'lng': 9.17773}, {'restaurant_id': 239, 'lat': 45.44725, 'lng': 9.17867}, {'restaurant_id': 240, 'lat': 45.45281, 'lng': 9.19646}, {'restaurant_id': 241, 'lat': 45.46782, 'lng': 9.14606}, {'restaurant_id': 242, 'lat': 45.50434, 'lng': 9.23879}, {'restaurant_id': 243, 'lat': 45.45851, 'lng': 9.1314}, {'restaurant_id': 244, 'lat': 45.45993, 'lng': 9.18169}, {'restaurant_id': 245, 'lat': 45.48159, 'lng': 9.19727}, {'restaurant_id': 246, 'lat': 45.48507, 'lng': 9.16086}, {'restaurant_id': 247, 'lat': 45.4795, 'lng': 9.18357}, {'restaurant_id': 248, 'lat': 45.46596, 'lng': 9.1919}, {'restaurant_id': 249, 'lat': 45.48713, 'lng': 9.21785}, {'restaurant_id': 250, 'lat': 39.390897, 'lng': -99.066067}, {'restaurant_id': 251, 'lat': 45.48725, 'lng': 9.20093}, {'restaurant_id': 252, 'lat': 45.45298, 'lng': 9.20107}, {'restaurant_id': 253, 'lat': 45.46305, 'lng': 9.18912}, {'restaurant_id': 254, 'lat': 45.48393, 'lng': 9.24061}, {'restaurant_id': 255, 'lat': 45.47834, 'lng': 9.2113}, {'restaurant_id': 256, 'lat': 45.48647, 'lng': 8.91407}, {'restaurant_id': 257, 'lat': 45.47651, 'lng': 9.21684}, {'restaurant_id': 258, 'lat': 45.48082, 'lng': 9.2168}, {'restaurant_id': 259, 'lat': 45.51927, 'lng': 9.16982}, {'restaurant_id': 260, 'lat': 45.45512, 'lng': 9.2015}, {'restaurant_id': 261, 'lat': 45.46172, 'lng': 9.22132}, {'restaurant_id': 262, 'lat': 45.48163, 'lng': 9.20241}, {'restaurant_id': 263, 'lat': 45.49749, 'lng': 9.23904}, {'restaurant_id': 264, 'lat': 45.44761, 'lng': 9.1776}, {'restaurant_id': 265, 'lat': 45.4764, 'lng': 9.18861}, {'restaurant_id': 266, 'lat': 45.48377, 'lng': 9.16397}, {'restaurant_id': 267, 'lat': 45.46281, 'lng': 9.18923}, {'restaurant_id': 268, 'lat': 45.49997, 'lng': 9.2229}, {'restaurant_id': 269, 'lat': 45.48296, 'lng': 9.1639}, {'restaurant_id': 270, 'lat': 45.46429, 'lng': 9.17933}, {'restaurant_id': 271, 'lat': 45.48092, 'lng': 9.18883}, {'restaurant_id': 272, 'lat': 45.45273, 'lng': 9.17537}, {'restaurant_id': 273, 'lat': 45.48341, 'lng': 9.20228}, {'restaurant_id': 274, 'lat': 45.45314, 'lng': 9.15576}, {'restaurant_id': 275, 'lat': 45.46602, 'lng': 9.19173}, {'restaurant_id': 276, 'lat': 45.45587, 'lng': 9.13654}, {'restaurant_id': 277, 'lat': 45.46006, 'lng': 9.09759}, {'restaurant_id': 278, 'lat': 45.45311, 'lng': 9.20294}, {'restaurant_id': 279, 'lat': 45.45729, 'lng': 9.1936}, {'restaurant_id': 280, 'lat': 45.48254, 'lng': 9.19931}, {'restaurant_id': 281, 'lat': 45.46167, 'lng': 9.21355}, {'restaurant_id': 282, 'lat': 45.43864, 'lng': 9.18356}, {'restaurant_id': 283, 'lat': 45.47116, 'lng': 9.24169}, {'restaurant_id': 284, 'lat': 45.48016, 'lng': 9.18311}, {'restaurant_id': 285, 'lat': 45.49721, 'lng': 9.13352}, {'restaurant_id': 286, 'lat': 45.47533, 'lng': 9.22406}, {'restaurant_id': 287, 'lat': 45.45609, 'lng': 9.16498}, {'restaurant_id': 288, 'lat': 45.47977, 'lng': 9.21121}, {'restaurant_id': 289, 'lat': 45.45524, 'lng': 9.16786}, {'restaurant_id': 290, 'lat': 45.56392, 'lng': 9.13546}, {'restaurant_id': 291, 'lat': 45.457, 'lng': 9.20259}, {'restaurant_id': 292, 'lat': 45.45081, 'lng': 9.19989}, {'restaurant_id': 293, 'lat': 45.49561, 'lng': 9.1773}, {'restaurant_id': 294, 'lat': 45.46117, 'lng': 9.20744}, {'restaurant_id': 295, 'lat': 45.48874, 'lng': 9.21727}, {'restaurant_id': 296, 'lat': 45.46237, 'lng': 9.19474}, {'restaurant_id': 297, 'lat': 45.44977, 'lng': 9.14162}, {'restaurant_id': 298, 'lat': 45.48778, 'lng': 9.1673}, {'restaurant_id': 299, 'lat': 45.4472, 'lng': 9.15411}, {'restaurant_id': 300, 'lat': 45.46116, 'lng': 9.21427}, {'restaurant_id': 301, 'lat': 45.46837, 'lng': 9.19869}, {'restaurant_id': 302, 'lat': 45.44816, 'lng': 9.16024}, {'restaurant_id': 303, 'lat': 45.45766, 'lng': 9.13108}, {'restaurant_id': 304, 'lat': 45.47733, 'lng': 9.21632}, {'restaurant_id': 305, 'lat': 45.50717, 'lng': 9.20379}, {'restaurant_id': 306, 'lat': 45.50282, 'lng': 9.16665}, {'restaurant_id': 307, 'lat': 45.46357, 'lng': 9.18709}, {'restaurant_id': 308, 'lat': 45.49053, 'lng': 9.22197}, {'restaurant_id': 309, 'lat': 45.49889, 'lng': 9.19683}, {'restaurant_id': 310, 'lat': 45.47629, 'lng': 9.15088}, {'restaurant_id': 311, 'lat': 40.71545, 'lng': 13.89776}, {'restaurant_id': 312, 'lat': 45.45185, 'lng': 9.20706}, {'restaurant_id': 313, 'lat': 45.47765, 'lng': 9.20925}, {'restaurant_id': 314, 'lat': 45.48892, 'lng': 9.21085}, {'restaurant_id': 315, 'lat': 45.48884, 'lng': 9.2177}, {'restaurant_id': 316, 'lat': 45.45889, 'lng': 9.19092}, {'restaurant_id': 317, 'lat': 45.47438, 'lng': 9.20893}, {'restaurant_id': 318, 'lat': 45.47116, 'lng': 9.24169}, {'restaurant_id': 319, 'lat': 45.50026, 'lng': 9.49544}, {'restaurant_id': 320, 'lat': 45.46702, 'lng': 9.20123}, {'restaurant_id': 321, 'lat': 45.48307, 'lng': 9.21728}, {'restaurant_id': 322, 'lat': 45.47496, 'lng': 9.15936}, {'restaurant_id': 323, 'lat': 45.4661, 'lng': 9.15123}, {'restaurant_id': 324, 'lat': 45.45398, 'lng': 9.18035}, {'restaurant_id': 325, 'lat': 45.46621, 'lng': 9.18721}, {'restaurant_id': 326, 'lat': 45.45964, 'lng': 9.18105}, {'restaurant_id': 327, 'lat': 45.4668, 'lng': 9.19812}, {'restaurant_id': 328, 'lat': 45.51615, 'lng': 9.20907}, {'restaurant_id': 329, 'lat': 45.47723, 'lng': 9.20389}, {'restaurant_id': 330, 'lat': 45.45307, 'lng': 9.17081}, {'restaurant_id': 331, 'lat': 45.45182, 'lng': 9.17065}, {'restaurant_id': 332, 'lat': 45.44913, 'lng': 9.18143}, {'restaurant_id': 333, 'lat': 45.48138, 'lng': 9.16689}, {'restaurant_id': 334, 'lat': 45.50884, 'lng': 9.20036}, {'restaurant_id': 335, 'lat': 45.45081, 'lng': 9.19989}, {'restaurant_id': 336, 'lat': 45.47272, 'lng': 9.18391}, {'restaurant_id': 337, 'lat': 45.45435, 'lng': 9.15281}, {'restaurant_id': 338, 'lat': 45.45069, 'lng': 9.19614}, {'restaurant_id': 339, 'lat': 45.48381, 'lng': 9.21921}, {'restaurant_id': 340, 'lat': 45.4496, 'lng': 9.15146}, {'restaurant_id': 341, 'lat': 45.44436, 'lng': 9.2164}, {'restaurant_id': 342, 'lat': 45.48976, 'lng': 9.1672}, {'restaurant_id': 343, 'lat': 45.45189, 'lng': 9.17624}, {'restaurant_id': 344, 'lat': 45.45105, 'lng': 9.19518}, {'restaurant_id': 345, 'lat': 45.48332, 'lng': 9.19755}, {'restaurant_id': 346, 'lat': 45.47363, 'lng': 9.23277}, {'restaurant_id': 347, 'lat': 45.5003, 'lng': 9.18333}, {'restaurant_id': 348, 'lat': 45.4456, 'lng': 9.15507}, {'restaurant_id': 349, 'lat': 45.4822, 'lng': 9.24014}, {'restaurant_id': 350, 'lat': 45.60278, 'lng': 9.51941}, {'restaurant_id': 351, 'lat': 45.43915, 'lng': 9.22536}, {'restaurant_id': 352, 'lat': 45.47438, 'lng': 9.20767}, {'restaurant_id': 353, 'lat': 45.48105, 'lng': 9.20391}, {'restaurant_id': 354, 'lat': 45.4704, 'lng': 9.18682}, {'restaurant_id': 355, 'lat': 45.45549, 'lng': 9.16424}, {'restaurant_id': 356, 'lat': 45.45105, 'lng': 9.1946}, {'restaurant_id': 357, 'lat': 45.49306, 'lng': 9.18832}, {'restaurant_id': 358, 'lat': 45.45617, 'lng': 9.21203}, {'restaurant_id': 359, 'lat': 45.46973, 'lng': 9.18496}, {'restaurant_id': 360, 'lat': 45.46066, 'lng': 9.21116}, {'restaurant_id': 361, 'lat': 45.45031, 'lng': 9.16903}, {'restaurant_id': 362, 'lat': 45.46186, 'lng': 9.18468}, {'restaurant_id': 363, 'lat': 45.46662, 'lng': 9.15113}, {'restaurant_id': 364, 'lat': 45.47496, 'lng': 9.20595}, {'restaurant_id': 365, 'lat': 45.48052, 'lng': 9.19265}, {'restaurant_id': 366, 'lat': 45.45964, 'lng': 9.18105}, {'restaurant_id': 367, 'lat': 45.47183, 'lng': 9.18342}, {'restaurant_id': 368, 'lat': 45.49018, 'lng': 9.18302}, {'restaurant_id': 369, 'lat': 45.47882, 'lng': 9.18457}, {'restaurant_id': 370, 'lat': 45.47088, 'lng': 9.19237}, {'restaurant_id': 371, 'lat': 45.45836, 'lng': 9.20633}, {'restaurant_id': 372, 'lat': 45.4767, 'lng': 9.20506}, {'restaurant_id': 373, 'lat': 45.45253, 'lng': 9.20827}, {'restaurant_id': 374, 'lat': 45.44188, 'lng': 9.22075}, {'restaurant_id': 375, 'lat': 45.45207, 'lng': 9.18208}, {'restaurant_id': 376, 'lat': 45.45679, 'lng': 9.18094}, {'restaurant_id': 377, 'lat': 45.4372, 'lng': 9.23057}, {'restaurant_id': 378, 'lat': 45.48935, 'lng': 9.21}, {'restaurant_id': 379, 'lat': 45.482, 'lng': 9.17235}, {'restaurant_id': 380, 'lat': 45.47645, 'lng': 9.17071}, {'restaurant_id': 381, 'lat': 45.51637, 'lng': 9.1895}, {'restaurant_id': 382, 'lat': 45.44261, 'lng': 9.17616}, {'restaurant_id': 383, 'lat': 45.47531, 'lng': 9.18471}, {'restaurant_id': 384, 'lat': 45.47742, 'lng': 9.18848}, {'restaurant_id': 385, 'lat': 45.46572, 'lng': 9.2092}, {'restaurant_id': 386, 'lat': 45.45726, 'lng': 9.18026}, {'restaurant_id': 387, 'lat': 45.46953, 'lng': 9.21453}, {'restaurant_id': 388, 'lat': 45.45046, 'lng': 9.19603}, {'restaurant_id': 389, 'lat': 45.50196, 'lng': 9.16593}, {'restaurant_id': 390, 'lat': 45.50814, 'lng': 9.19701}, {'restaurant_id': 391, 'lat': 45.47771, 'lng': 9.17326}, {'restaurant_id': 392, 'lat': 45.48063, 'lng': 9.20901}, {'restaurant_id': 393, 'lat': 45.43692, 'lng': 9.23503}, {'restaurant_id': 394, 'lat': 45.48335, 'lng': 9.20381}, {'restaurant_id': 395, 'lat': 45.45124, 'lng': 9.17155}, {'restaurant_id': 396, 'lat': 39.390897, 'lng': -99.066067}, {'restaurant_id': 397, 'lat': 45.4592, 'lng': 9.19001}, {'restaurant_id': 398, 'lat': 45.51957, 'lng': 9.17028}, {'restaurant_id': 399, 'lat': 45.48092, 'lng': 9.17076}, {'restaurant_id': 400, 'lat': 45.45303, 'lng': 9.1742}, {'restaurant_id': 401, 'lat': 45.4838, 'lng': 9.20445}, {'restaurant_id': 402, 'lat': 45.48092, 'lng': 9.17076}, {'restaurant_id': 403, 'lat': 45.45509, 'lng': 9.19968}, {'restaurant_id': 404, 'lat': 45.51615, 'lng': 9.22598}, {'restaurant_id': 405, 'lat': 45.48962, 'lng': 9.18336}, {'restaurant_id': 406, 'lat': 45.4771, 'lng': 9.20622}, {'restaurant_id': 407, 'lat': 45.63137, 'lng': 13.79198}, {'restaurant_id': 408, 'lat': 45.77241, 'lng': 12.99198}, {'restaurant_id': 409, 'lat': 45.49035, 'lng': 9.20593}, {'restaurant_id': 410, 'lat': 45.48292, 'lng': 9.20333}, {'restaurant_id': 411, 'lat': 45.44922, 'lng': 9.20751}, {'restaurant_id': 412, 'lat': 45.46125, 'lng': 9.22796}, {'restaurant_id': 413, 'lat': 45.50683, 'lng': 9.20148}, {'restaurant_id': 414, 'lat': 45.48066, 'lng': 9.1709}, {'restaurant_id': 415, 'lat': 45.45315, 'lng': 9.16698}, {'restaurant_id': 416, 'lat': 45.46244, 'lng': 9.18763}, {'restaurant_id': 417, 'lat': 45.44064, 'lng': 9.17996}, {'restaurant_id': 418, 'lat': 45.48481, 'lng': 9.15131}, {'restaurant_id': 419, 'lat': 45.483, 'lng': 9.19877}, {'restaurant_id': 420, 'lat': 45.47946, 'lng': 9.2119}, {'restaurant_id': 421, 'lat': 45.48922, 'lng': 9.18919}, {'restaurant_id': 422, 'lat': 45.46201, 'lng': 9.21903}, {'restaurant_id': 423, 'lat': 45.4886, 'lng': 9.18911}, {'restaurant_id': 424, 'lat': 45.47565, 'lng': 9.2052}, {'restaurant_id': 425, 'lat': 45.41628, 'lng': 9.05123}, {'restaurant_id': 426, 'lat': 45.48818, 'lng': 9.18984}, {'restaurant_id': 427, 'lat': 45.46202, 'lng': 9.1514}, {'restaurant_id': 428, 'lat': 45.47322, 'lng': 9.14465}, {'restaurant_id': 429, 'lat': 45.47091, 'lng': 9.21645}, {'restaurant_id': 430, 'lat': 45.48036, 'lng': 9.2183}, {'restaurant_id': 431, 'lat': 45.46771, 'lng': 9.18696}, {'restaurant_id': 432, 'lat': 45.48728, 'lng': 9.16152}, {'restaurant_id': 433, 'lat': 45.47815, 'lng': 9.20248}, {'restaurant_id': 434, 'lat': 45.44825, 'lng': 9.21638}, {'restaurant_id': 435, 'lat': 45.48396, 'lng': 9.19777}, {'restaurant_id': 436, 'lat': 45.43953, 'lng': 9.18305}, {'restaurant_id': 437, 'lat': 45.47768, 'lng': 9.18811}, {'restaurant_id': 438, 'lat': 45.4656, 'lng': 9.17969}, {'restaurant_id': 439, 'lat': 45.46703, 'lng': 9.21009}, {'restaurant_id': 440, 'lat': 45.48912, 'lng': 9.18809}, {'restaurant_id': 441, 'lat': 45.50002, 'lng': 9.2216}, {'restaurant_id': 442, 'lat': 45.47526, 'lng': 9.2048}, {'restaurant_id': 443, 'lat': 45.46437, 'lng': 9.33969}, {'restaurant_id': 444, 'lat': 45.52, 'lng': 9.22339}, {'restaurant_id': 445, 'lat': 45.45185, 'lng': 9.15185}, {'restaurant_id': 446, 'lat': 45.44372, 'lng': 9.12756}, {'restaurant_id': 447, 'lat': 45.45698, 'lng': 9.15777}, {'restaurant_id': 448, 'lat': 45.48632, 'lng': 9.16012}, {'restaurant_id': 449, 'lat': 45.48388, 'lng': 9.182}, {'restaurant_id': 450, 'lat': 45.47696, 'lng': 9.19582}, {'restaurant_id': 451, 'lat': 45.49126, 'lng': 9.23005}, {'restaurant_id': 452, 'lat': 45.47734, 'lng': 9.21213}, {'restaurant_id': 453, 'lat': 45.45115, 'lng': 9.20059}, {'restaurant_id': 454, 'lat': 45.48732, 'lng': 9.17158}, {'restaurant_id': 455, 'lat': 45.48869, 'lng': 9.22557}, {'restaurant_id': 456, 'lat': 45.44367, 'lng': 9.21615}, {'restaurant_id': 457, 'lat': 45.4682, 'lng': 9.15126}, {'restaurant_id': 458, 'lat': 45.48106, 'lng': 9.17094}, {'restaurant_id': 459, 'lat': 45.45363, 'lng': 9.21555}, {'restaurant_id': 460, 'lat': 45.48743, 'lng': 9.21727}, {'restaurant_id': 461, 'lat': 45.48186, 'lng': 9.16895}, {'restaurant_id': 462, 'lat': 45.49321, 'lng': 9.14408}, {'restaurant_id': 463, 'lat': 45.45028, 'lng': 9.17979}, {'restaurant_id': 464, 'lat': 45.46233, 'lng': 9.1927}, {'restaurant_id': 465, 'lat': 45.48658, 'lng': 9.22378}, {'restaurant_id': 466, 'lat': 45.45711, 'lng': 9.1943}, {'restaurant_id': 467, 'lat': 45.49124, 'lng': 9.24451}, {'restaurant_id': 468, 'lat': 45.48265, 'lng': 9.18432}, {'restaurant_id': 469, 'lat': 45.48151, 'lng': 9.21013}, {'restaurant_id': 470, 'lat': 45.45931, 'lng': 9.2071}, {'restaurant_id': 471, 'lat': 45.51396, 'lng': 9.14688}, {'restaurant_id': 472, 'lat': 45.47122, 'lng': 9.20649}, {'restaurant_id': 473, 'lat': 45.46276, 'lng': 9.19342}, {'restaurant_id': 474, 'lat': 45.48351, 'lng': 9.19745}, {'restaurant_id': 475, 'lat': 45.44824, 'lng': 9.19764}, {'restaurant_id': 476, 'lat': 45.48999, 'lng': 9.18352}, {'restaurant_id': 477, 'lat': 45.47579, 'lng': 9.19519}, {'restaurant_id': 478, 'lat': 45.47131, 'lng': 9.25972}, {'restaurant_id': 479, 'lat': 45.48113, 'lng': 9.23513}, {'restaurant_id': 480, 'lat': 45.4764, 'lng': 9.20382}, {'restaurant_id': 481, 'lat': 45.48747, 'lng': 9.19081}, {'restaurant_id': 482, 'lat': 45.44712, 'lng': 9.15203}, {'restaurant_id': 483, 'lat': 45.46593, 'lng': 9.17678}, {'restaurant_id': 484, 'lat': 45.48351, 'lng': 9.18179}, {'restaurant_id': 485, 'lat': 45.45093, 'lng': 9.17005}, {'restaurant_id': 486, 'lat': 45.47015, 'lng': 9.13156}, {'restaurant_id': 487, 'lat': 45.48141, 'lng': 9.21436}, {'restaurant_id': 488, 'lat': 45.50865, 'lng': 9.13237}, {'restaurant_id': 489, 'lat': 45.44181, 'lng': 8.89897}, {'restaurant_id': 490, 'lat': 45.46148, 'lng': 9.13581}, {'restaurant_id': 491, 'lat': 45.4788, 'lng': 9.11724}, {'restaurant_id': 492, 'lat': 45.47736, 'lng': 9.20647}, {'restaurant_id': 493, 'lat': 45.46831, 'lng': 9.17284}, {'restaurant_id': 494, 'lat': 45.48119, 'lng': 9.17267}, {'restaurant_id': 495, 'lat': 45.45175, 'lng': 9.24895}, {'restaurant_id': 496, 'lat': 45.4686, 'lng': 9.17246}, {'restaurant_id': 497, 'lat': 45.45281, 'lng': 9.1742}, {'restaurant_id': 498, 'lat': 45.45403, 'lng': 9.17392}, {'restaurant_id': 499, 'lat': 45.47092, 'lng': 9.18443}, {'restaurant_id': 500, 'lat': 45.47923, 'lng': 9.20326}, {'restaurant_id': 501, 'lat': 45.47553, 'lng': 9.21256}, {'restaurant_id': 502, 'lat': 45.4579, 'lng': 9.18748}, {'restaurant_id': 503, 'lat': 45.45928, 'lng': 9.18103}, {'restaurant_id': 504, 'lat': 45.48436, 'lng': 9.1633}, {'restaurant_id': 505, 'lat': 45.45742, 'lng': 9.20375}, {'restaurant_id': 506, 'lat': 45.48634, 'lng': 9.18669}, {'restaurant_id': 507, 'lat': 45.4514, 'lng': 9.15146}, {'restaurant_id': 508, 'lat': 45.47066, 'lng': 9.15286}, {'restaurant_id': 509, 'lat': 45.49683, 'lng': 9.18905}, {'restaurant_id': 510, 'lat': 45.4778, 'lng': 9.21117}, {'restaurant_id': 512, 'lat': 45.45081, 'lng': 9.19756}, {'restaurant_id': 513, 'lat': 45.46481, 'lng': 9.19452}, {'restaurant_id': 514, 'lat': 45.46666, 'lng': 9.18614}, {'restaurant_id': 515, 'lat': 45.45011, 'lng': 9.20208}, {'restaurant_id': 516, 'lat': 45.47338, 'lng': 9.14164}, {'restaurant_id': 517, 'lat': 45.46195, 'lng': 9.21358}, {'restaurant_id': 518, 'lat': 45.48099, 'lng': 9.19987}, {'restaurant_id': 519, 'lat': 45.43386, 'lng': 9.17806}, {'restaurant_id': 520, 'lat': 45.47939, 'lng': 9.16456}, {'restaurant_id': 521, 'lat': 45.49307, 'lng': 9.21884}, {'restaurant_id': 522, 'lat': 45.4736, 'lng': 9.18359}, {'restaurant_id': 523, 'lat': 45.45883, 'lng': 9.16345}, {'restaurant_id': 524, 'lat': 45.28672, 'lng': 8.98655}, {'restaurant_id': 525, 'lat': 45.45491, 'lng': 9.17236}, {'restaurant_id': 526, 'lat': 45.48063, 'lng': 9.1755}, {'restaurant_id': 527, 'lat': 45.44598, 'lng': 9.17878}, {'restaurant_id': 528, 'lat': 45.48441, 'lng': 9.24204}, {'restaurant_id': 529, 'lat': 45.44441, 'lng': 9.16608}, {'restaurant_id': 530, 'lat': 45.48266, 'lng': 9.199}, {'restaurant_id': 531, 'lat': 45.47721, 'lng': 9.17451}, {'restaurant_id': 532, 'lat': 45.4616, 'lng': 9.08948}, {'restaurant_id': 533, 'lat': 45.47765, 'lng': 9.21132}, {'restaurant_id': 534, 'lat': 45.46753, 'lng': 9.18257}, {'restaurant_id': 535, 'lat': 45.4516, 'lng': 9.18711}, {'restaurant_id': 536, 'lat': 45.48598, 'lng': 9.18872}, {'restaurant_id': 537, 'lat': 45.46957, 'lng': 9.15453}, {'restaurant_id': 538, 'lat': 45.46253, 'lng': 9.20872}, {'restaurant_id': 539, 'lat': 45.45677, 'lng': 9.17245}, {'restaurant_id': 540, 'lat': 45.45158, 'lng': 9.20525}, {'restaurant_id': 541, 'lat': 45.49186, 'lng': 9.18874}, {'restaurant_id': 542, 'lat': 45.48085, 'lng': 9.18327}, {'restaurant_id': 543, 'lat': 45.50137, 'lng': 9.20982}, {'restaurant_id': 544, 'lat': 45.47456, 'lng': 9.18329}, {'restaurant_id': 545, 'lat': 45.47762, 'lng': 9.21683}, {'restaurant_id': 546, 'lat': 45.48545, 'lng': 9.19764}, {'restaurant_id': 547, 'lat': 45.46546, 'lng': 9.19833}, {'restaurant_id': 548, 'lat': 45.45321, 'lng': 9.17182}, {'restaurant_id': 549, 'lat': 45.43301, 'lng': 9.18092}, {'restaurant_id': 550, 'lat': 45.48087, 'lng': 9.20973}, {'restaurant_id': 551, 'lat': 45.4514, 'lng': 9.18878}, {'restaurant_id': 552, 'lat': 45.49095, 'lng': 9.18889}, {'restaurant_id': 553, 'lat': 45.45162, 'lng': 9.17771}, {'restaurant_id': 554, 'lat': 45.4695, 'lng': 9.15507}, {'restaurant_id': 555, 'lat': 45.51769, 'lng': 9.21247}, {'restaurant_id': 556, 'lat': 45.41527, 'lng': 9.11083}, {'restaurant_id': 557, 'lat': 45.48042, 'lng': 9.17158}, {'restaurant_id': 558, 'lat': 45.46497, 'lng': 9.15535}, {'restaurant_id': 559, 'lat': 45.45924, 'lng': 9.18448}, {'restaurant_id': 560, 'lat': 45.46757, 'lng': 9.15419}, {'restaurant_id': 561, 'lat': 45.46311, 'lng': 9.13918}, {'restaurant_id': 562, 'lat': 45.45491, 'lng': 9.17236}, {'restaurant_id': 563, 'lat': 45.50362, 'lng': 9.23966}, {'restaurant_id': 564, 'lat': 45.48187, 'lng': 9.16508}, {'restaurant_id': 565, 'lat': 45.48514, 'lng': 9.19876}, {'restaurant_id': 566, 'lat': 45.45975, 'lng': 9.18136}, {'restaurant_id': 567, 'lat': 45.46676, 'lng': 9.15219}, {'restaurant_id': 568, 'lat': 45.49981, 'lng': 9.2265}, {'restaurant_id': 569, 'lat': 45.46202, 'lng': 9.21928}, {'restaurant_id': 570, 'lat': 45.45762, 'lng': 9.18166}, {'restaurant_id': 571, 'lat': 45.45873, 'lng': 9.15403}, {'restaurant_id': 572, 'lat': 45.45315, 'lng': 9.17952}, {'restaurant_id': 573, 'lat': 45.46871, 'lng': 9.15258}, {'restaurant_id': 574, 'lat': 45.47014, 'lng': 9.13412}, {'restaurant_id': 575, 'lat': 45.46266, 'lng': 9.21766}, {'restaurant_id': 576, 'lat': 45.4622, 'lng': 9.23598}, {'restaurant_id': 577, 'lat': 45.48994, 'lng': 9.18984}, {'restaurant_id': 578, 'lat': 45.45507, 'lng': 9.12002}, {'restaurant_id': 579, 'lat': 45.48218, 'lng': 9.18751}, {'restaurant_id': 580, 'lat': 45.47678, 'lng': 9.20548}, {'restaurant_id': 581, 'lat': 45.45002, 'lng': 9.21194}, {'restaurant_id': 582, 'lat': 45.46562, 'lng': 9.19833}, {'restaurant_id': 583, 'lat': 45.46739, 'lng': 9.18264}, {'restaurant_id': 584, 'lat': 45.48296, 'lng': 9.20443}, {'restaurant_id': 585, 'lat': 45.47332, 'lng': 9.23151}, {'restaurant_id': 586, 'lat': 45.48636, 'lng': 9.21863}, {'restaurant_id': 587, 'lat': 45.481, 'lng': 9.24537}, {'restaurant_id': 588, 'lat': 45.44878, 'lng': 9.21095}, {'restaurant_id': 589, 'lat': 45.45495, 'lng': 9.16143}, {'restaurant_id': 590, 'lat': 45.49746, 'lng': 9.14569}, {'restaurant_id': 591, 'lat': 45.46387, 'lng': 9.18087}, {'restaurant_id': 592, 'lat': 45.45208, 'lng': 9.18}, {'restaurant_id': 593, 'lat': 45.47678, 'lng': 9.20548}, {'restaurant_id': 594, 'lat': 45.51637, 'lng': 9.1895}, {'restaurant_id': 595, 'lat': 45.4559, 'lng': 9.19543}, {'restaurant_id': 596, 'lat': 45.4847, 'lng': 9.21072}, {'restaurant_id': 597, 'lat': 45.46892, 'lng': 9.17204}, {'restaurant_id': 598, 'lat': 45.48238, 'lng': 9.20127}, {'restaurant_id': 599, 'lat': 45.48919, 'lng': 9.21098}, {'restaurant_id': 600, 'lat': 45.53019, 'lng': 8.94275}, {'restaurant_id': 601, 'lat': 45.46999, 'lng': 9.15338}, {'restaurant_id': 602, 'lat': 45.45202, 'lng': 9.17688}, {'restaurant_id': 603, 'lat': 45.4738, 'lng': 9.14821}, {'restaurant_id': 604, 'lat': 45.49551, 'lng': 9.20969}, {'restaurant_id': 605, 'lat': 45.32541, 'lng': 9.35929}, {'restaurant_id': 606, 'lat': 45.54418, 'lng': 8.99355}, {'restaurant_id': 607, 'lat': 45.45193, 'lng': 9.18419}, {'restaurant_id': 608, 'lat': 45.46917, 'lng': 9.1876}, {'restaurant_id': 609, 'lat': 45.47922, 'lng': 9.20906}, {'restaurant_id': 610, 'lat': 45.45138, 'lng': 9.17384}, {'restaurant_id': 611, 'lat': 45.46529, 'lng': 9.20708}, {'restaurant_id': 612, 'lat': 45.48541, 'lng': 9.23348}, {'restaurant_id': 613, 'lat': 45.43804, 'lng': 9.18499}, {'restaurant_id': 614, 'lat': 45.44436, 'lng': 9.2164}, {'restaurant_id': 615, 'lat': 45.47713, 'lng': 9.20226}, {'restaurant_id': 616, 'lat': 45.47766, 'lng': 9.20583}, {'restaurant_id': 617, 'lat': 45.45931, 'lng': 9.17806}, {'restaurant_id': 618, 'lat': 45.50911, 'lng': 9.17716}, {'restaurant_id': 619, 'lat': 45.46756, 'lng': 9.17282}, {'restaurant_id': 620, 'lat': 45.50838, 'lng': 9.17731}, {'restaurant_id': 621, 'lat': 45.4819, 'lng': 9.21338}, {'restaurant_id': 622, 'lat': 45.4539, 'lng': 9.21577}, {'restaurant_id': 623, 'lat': 45.48644, 'lng': 9.19008}, {'restaurant_id': 624, 'lat': 45.4134, 'lng': 9.20964}, {'restaurant_id': 625, 'lat': 45.45597, 'lng': 9.20499}, {'restaurant_id': 626, 'lat': 45.4639, 'lng': 9.18734}, {'restaurant_id': 627, 'lat': 45.44943, 'lng': 9.20246}, {'restaurant_id': 628, 'lat': 45.45284, 'lng': 9.20132}, {'restaurant_id': 629, 'lat': 45.48312, 'lng': 9.19969}, {'restaurant_id': 630, 'lat': 45.47951, 'lng': 9.18382}, {'restaurant_id': 631, 'lat': 45.45182, 'lng': 9.17065}, {'restaurant_id': 632, 'lat': 45.45755, 'lng': 9.08966}, {'restaurant_id': 633, 'lat': 45.44941, 'lng': 9.19442}, {'restaurant_id': 634, 'lat': 45.47667, 'lng': 9.18967}, {'restaurant_id': 635, 'lat': 45.46935, 'lng': 9.23492}, {'restaurant_id': 636, 'lat': 45.47316, 'lng': 9.18406}, {'restaurant_id': 637, 'lat': 45.4634, 'lng': 9.21707}, {'restaurant_id': 638, 'lat': 45.47718, 'lng': 9.14915}, {'restaurant_id': 639, 'lat': 45.46433, 'lng': 9.14149}, {'restaurant_id': 640, 'lat': 45.45104, 'lng': 9.1539}, {'restaurant_id': 641, 'lat': 45.48033, 'lng': 9.18126}, {'restaurant_id': 642, 'lat': 45.45912, 'lng': 9.18165}, {'restaurant_id': 643, 'lat': 45.46592, 'lng': 9.19887}, {'restaurant_id': 644, 'lat': 45.50066, 'lng': 9.2213}, {'restaurant_id': 645, 'lat': 45.46021, 'lng': 9.17181}, {'restaurant_id': 646, 'lat': 45.45054, 'lng': 9.18202}, {'restaurant_id': 647, 'lat': 45.46217, 'lng': 9.1382}, {'restaurant_id': 648, 'lat': 45.47213, 'lng': 9.14331}, {'restaurant_id': 649, 'lat': 45.47787, 'lng': 9.20362}, {'restaurant_id': 650, 'lat': 45.49502, 'lng': 9.21146}, {'restaurant_id': 651, 'lat': 45.45537, 'lng': 9.18947}, {'restaurant_id': 652, 'lat': 45.46373, 'lng': 9.12931}, {'restaurant_id': 653, 'lat': 45.48823, 'lng': 8.95884}, {'restaurant_id': 654, 'lat': 45.45762, 'lng': 9.18166}, {'restaurant_id': 655, 'lat': 45.48472, 'lng': 9.21725}, {'restaurant_id': 656, 'lat': 45.44804, 'lng': 9.20521}, {'restaurant_id': 657, 'lat': 45.44685, 'lng': 9.15503}, {'restaurant_id': 658, 'lat': 45.45315, 'lng': 9.17952}, {'restaurant_id': 659, 'lat': 45.47762, 'lng': 9.21683}, {'restaurant_id': 660, 'lat': 45.46285, 'lng': 9.21684}, {'restaurant_id': 661, 'lat': 45.50814, 'lng': 9.19794}, {'restaurant_id': 662, 'lat': 45.46648, 'lng': 9.21592}, {'restaurant_id': 663, 'lat': 45.52032, 'lng': 9.19232}, {'restaurant_id': 664, 'lat': 45.46223, 'lng': 9.18739}, {'restaurant_id': 665, 'lat': 45.48396, 'lng': 9.1981}, {'restaurant_id': 666, 'lat': 45.49792, 'lng': 9.14515}, {'restaurant_id': 667, 'lat': 45.47737, 'lng': 9.20601}, {'restaurant_id': 668, 'lat': 45.45, 'lng': 9.17779}, {'restaurant_id': 669, 'lat': 45.48216, 'lng': 9.18477}, {'restaurant_id': 670, 'lat': 45.46726, 'lng': 9.15811}, {'restaurant_id': 671, 'lat': 45.44769, 'lng': 9.12507}, {'restaurant_id': 672, 'lat': 45.4503, 'lng': 9.15127}, {'restaurant_id': 673, 'lat': 39.390897, 'lng': -99.066067}, {'restaurant_id': 674, 'lat': 45.4795, 'lng': 9.14591}, {'restaurant_id': 675, 'lat': 45.48764, 'lng': 9.18927}, {'restaurant_id': 676, 'lat': 45.46481, 'lng': 9.19452}, {'restaurant_id': 677, 'lat': 45.46533, 'lng': 9.20739}, {'restaurant_id': 678, 'lat': 45.46266, 'lng': 9.21766}, {'restaurant_id': 679, 'lat': 45.45931, 'lng': 9.17806}, {'restaurant_id': 680, 'lat': 45.4766, 'lng': 9.17002}, {'restaurant_id': 681, 'lat': 45.46091, 'lng': 9.18473}, {'restaurant_id': 682, 'lat': 45.45126, 'lng': 9.20313}, {'restaurant_id': 683, 'lat': 45.50253, 'lng': 9.22463}, {'restaurant_id': 684, 'lat': 45.46233, 'lng': 9.1927}, {'restaurant_id': 685, 'lat': 45.48864, 'lng': 9.22409}, {'restaurant_id': 686, 'lat': 45.50412, 'lng': 9.22236}, {'restaurant_id': 687, 'lat': 45.47439, 'lng': 9.16012}, {'restaurant_id': 688, 'lat': 45.51617, 'lng': 9.17222}, {'restaurant_id': 689, 'lat': 45.46249, 'lng': 9.1836}, {'restaurant_id': 690, 'lat': 45.47496, 'lng': 9.15936}, {'restaurant_id': 691, 'lat': 45.47655, 'lng': 9.19128}, {'restaurant_id': 692, 'lat': 45.44427, 'lng': 9.15417}, {'restaurant_id': 693, 'lat': 45.46207, 'lng': 9.15675}, {'restaurant_id': 695, 'lat': 45.48833, 'lng': 9.2101}, {'restaurant_id': 696, 'lat': 45.48925, 'lng': 9.1634}, {'restaurant_id': 697, 'lat': 45.48507, 'lng': 9.20894}, {'restaurant_id': 698, 'lat': 45.45417, 'lng': 9.17129}, {'restaurant_id': 699, 'lat': 45.45336, 'lng': 9.1806}, {'restaurant_id': 700, 'lat': 45.46757, 'lng': 9.15419}, {'restaurant_id': 701, 'lat': 45.45748, 'lng': 9.18922}, {'restaurant_id': 702, 'lat': 45.47674, 'lng': 9.17061}, {'restaurant_id': 703, 'lat': 45.4863, 'lng': 9.22126}, {'restaurant_id': 704, 'lat': 45.48765, 'lng': 9.15938}, {'restaurant_id': 705, 'lat': 45.4886, 'lng': 9.18878}, {'restaurant_id': 706, 'lat': 45.51849, 'lng': 9.19185}, {'restaurant_id': 707, 'lat': 45.45158, 'lng': 9.15443}, {'restaurant_id': 708, 'lat': 45.45, 'lng': 9.17541}, {'restaurant_id': 709, 'lat': 45.46517, 'lng': 9.18227}, {'restaurant_id': 710, 'lat': 45.43804, 'lng': 9.18499}, {'restaurant_id': 711, 'lat': 45.45682, 'lng': 9.18085}, {'restaurant_id': 712, 'lat': 45.47454, 'lng': 9.21192}, {'restaurant_id': 713, 'lat': 45.45228, 'lng': 9.18198}, {'restaurant_id': 714, 'lat': 45.45103, 'lng': 9.17058}, {'restaurant_id': 715, 'lat': 45.45599, 'lng': 9.21109}, {'restaurant_id': 716, 'lat': 45.46717, 'lng': 9.20166}, {'restaurant_id': 717, 'lat': 45.44428, 'lng': 9.1729}, {'restaurant_id': 718, 'lat': 45.477, 'lng': 9.20225}, {'restaurant_id': 719, 'lat': 45.46209, 'lng': 9.19101}, {'restaurant_id': 720, 'lat': 45.45081, 'lng': 9.19076}, {'restaurant_id': 721, 'lat': 45.46702, 'lng': 9.20123}, {'restaurant_id': 722, 'lat': 45.45996, 'lng': 9.18794}, {'restaurant_id': 723, 'lat': 45.51039, 'lng': 9.22293}, {'restaurant_id': 724, 'lat': 45.47042, 'lng': 9.18427}, {'restaurant_id': 725, 'lat': 45.48431, 'lng': 9.22674}, {'restaurant_id': 726, 'lat': 45.51159, 'lng': 9.22459}, {'restaurant_id': 727, 'lat': 45.45104, 'lng': 9.19844}, {'restaurant_id': 728, 'lat': 45.48429, 'lng': 9.15708}, {'restaurant_id': 729, 'lat': 45.45439, 'lng': 9.19876}, {'restaurant_id': 730, 'lat': 45.48542, 'lng': 9.22969}, {'restaurant_id': 731, 'lat': 45.45052, 'lng': 9.22212}, {'restaurant_id': 732, 'lat': 45.44666, 'lng': 9.17961}, {'restaurant_id': 733, 'lat': 45.48831, 'lng': 9.1895}, {'restaurant_id': 734, 'lat': 45.5194, 'lng': 9.19192}, {'restaurant_id': 735, 'lat': 45.48301, 'lng': 9.209}, {'restaurant_id': 736, 'lat': 45.48179, 'lng': 9.17257}, {'restaurant_id': 737, 'lat': 45.48173, 'lng': 9.21731}, {'restaurant_id': 738, 'lat': 45.51212, 'lng': 9.22613}, {'restaurant_id': 739, 'lat': 45.45969, 'lng': 9.18185}, {'restaurant_id': 740, 'lat': 45.53473, 'lng': 9.33316}, {'restaurant_id': 741, 'lat': 45.48728, 'lng': 9.18861}, {'restaurant_id': 742, 'lat': 45.45833, 'lng': 9.2076}, {'restaurant_id': 743, 'lat': 44.4056, 'lng': 8.94625}, {'restaurant_id': 744, 'lat': 45.43822, 'lng': 9.22456}, {'restaurant_id': 745, 'lat': 45.47264, 'lng': 9.2298}, {'restaurant_id': 746, 'lat': 45.4497, 'lng': 9.20244}, {'restaurant_id': 747, 'lat': 45.47678, 'lng': 9.19565}, {'restaurant_id': 748, 'lat': 45.46565, 'lng': 9.17058}, {'restaurant_id': 749, 'lat': 45.45971, 'lng': 9.18388}, {'restaurant_id': 750, 'lat': 45.46726, 'lng': 9.15988}, {'restaurant_id': 751, 'lat': 45.48569, 'lng': 9.19216}, {'restaurant_id': 752, 'lat': 45.45716, 'lng': 9.24077}, {'restaurant_id': 753, 'lat': 45.48187, 'lng': 9.16901}, {'restaurant_id': 754, 'lat': 45.49481, 'lng': 9.1406}, {'restaurant_id': 755, 'lat': 45.50036, 'lng': 9.17078}, {'restaurant_id': 756, 'lat': 45.46335, 'lng': 9.138}, {'restaurant_id': 757, 'lat': 45.47472, 'lng': 9.21081}, {'restaurant_id': 758, 'lat': 45.44308, 'lng': 9.21741}, {'restaurant_id': 759, 'lat': 45.45161, 'lng': 9.18674}, {'restaurant_id': 760, 'lat': 45.46465, 'lng': 9.1958}, {'restaurant_id': 761, 'lat': 45.4669, 'lng': 9.15205}, {'restaurant_id': 762, 'lat': 45.45849, 'lng': 9.21102}, {'restaurant_id': 763, 'lat': 45.45124, 'lng': 9.15453}, {'restaurant_id': 764, 'lat': 45.51635, 'lng': 9.20891}, {'restaurant_id': 765, 'lat': 45.48096, 'lng': 9.17114}, {'restaurant_id': 766, 'lat': 45.46663, 'lng': 9.22892}, {'restaurant_id': 767, 'lat': 45.49125, 'lng': 9.21907}, {'restaurant_id': 768, 'lat': 45.46776, 'lng': 9.20867}, {'restaurant_id': 769, 'lat': 45.46432, 'lng': 9.23126}, {'restaurant_id': 770, 'lat': 45.46378, 'lng': 9.18671}, {'restaurant_id': 771, 'lat': 45.47256, 'lng': 9.21011}, {'restaurant_id': 772, 'lat': 45.45041, 'lng': 9.20668}, {'restaurant_id': 773, 'lat': 45.45666, 'lng': 9.21468}, {'restaurant_id': 774, 'lat': 45.47163, 'lng': 9.22344}, {'restaurant_id': 775, 'lat': 45.47401, 'lng': 9.21494}, {'restaurant_id': 776, 'lat': 45.47715, 'lng': 9.18527}, {'restaurant_id': 777, 'lat': 45.44818, 'lng': 9.14413}, {'restaurant_id': 778, 'lat': 45.47651, 'lng': 9.21684}, {'restaurant_id': 779, 'lat': 45.47876, 'lng': 9.20258}, {'restaurant_id': 780, 'lat': 45.45277, 'lng': 9.17477}, {'restaurant_id': 781, 'lat': 45.4639, 'lng': 9.21706}, {'restaurant_id': 782, 'lat': 45.46494, 'lng': 9.17699}, {'restaurant_id': 783, 'lat': 45.48134, 'lng': 9.17614}, {'restaurant_id': 784, 'lat': 45.50856, 'lng': 9.20232}, {'restaurant_id': 785, 'lat': 45.45104, 'lng': 9.17217}, {'restaurant_id': 786, 'lat': 45.4538, 'lng': 9.19972}, {'restaurant_id': 787, 'lat': 45.45801, 'lng': 9.17799}, {'restaurant_id': 788, 'lat': 45.45701, 'lng': 9.16109}, {'restaurant_id': 789, 'lat': 45.46553, 'lng': 9.20704}, {'restaurant_id': 790, 'lat': 45.49015, 'lng': 9.14874}, {'restaurant_id': 791, 'lat': 45.47423, 'lng': 9.13439}, {'restaurant_id': 792, 'lat': 45.45915, 'lng': 9.13342}, {'restaurant_id': 793, 'lat': 45.46671, 'lng': 9.14759}, {'restaurant_id': 794, 'lat': 45.43706, 'lng': 9.19395}, {'restaurant_id': 795, 'lat': 45.54476, 'lng': 8.81324}, {'restaurant_id': 796, 'lat': 45.50093, 'lng': 9.2361}, {'restaurant_id': 797, 'lat': 45.47448, 'lng': 9.21031}, {'restaurant_id': 798, 'lat': 45.48358, 'lng': 9.21425}, {'restaurant_id': 799, 'lat': 45.45077, 'lng': 9.19214}, {'restaurant_id': 800, 'lat': 45.48078, 'lng': 9.23158}, {'restaurant_id': 801, 'lat': 45.48662, 'lng': 9.21826}, {'restaurant_id': 802, 'lat': 45.47703, 'lng': 9.17267}, {'restaurant_id': 803, 'lat': 45.45441, 'lng': 9.15526}, {'restaurant_id': 804, 'lat': 45.48783, 'lng': 9.16514}, {'restaurant_id': 805, 'lat': 45.45988, 'lng': 9.16543}, {'restaurant_id': 806, 'lat': 45.47132, 'lng': 9.18255}, {'restaurant_id': 807, 'lat': 45.4937, 'lng': 9.14305}, {'restaurant_id': 808, 'lat': 45.53818, 'lng': 9.23778}, {'restaurant_id': 809, 'lat': 45.47244, 'lng': 9.19442}, {'restaurant_id': 810, 'lat': 45.44832, 'lng': 9.17952}, {'restaurant_id': 811, 'lat': 45.46273, 'lng': 9.15763}, {'restaurant_id': 812, 'lat': 45.4613, 'lng': 9.14938}, {'restaurant_id': 813, 'lat': 45.49133, 'lng': 9.2408}, {'restaurant_id': 814, 'lat': 45.49239, 'lng': 9.21839}, {'restaurant_id': 815, 'lat': 45.46385, 'lng': 9.1604}, {'restaurant_id': 816, 'lat': 45.48703, 'lng': 9.21918}, {'restaurant_id': 817, 'lat': 45.18035, 'lng': 11.08863}, {'restaurant_id': 818, 'lat': 45.46277, 'lng': 9.21171}, {'restaurant_id': 819, 'lat': 45.51976, 'lng': 9.22661}, {'restaurant_id': 820, 'lat': 45.46892, 'lng': 9.17204}, {'restaurant_id': 821, 'lat': 45.4609, 'lng': 9.20958}, {'restaurant_id': 822, 'lat': 45.47795, 'lng': 9.20262}, {'restaurant_id': 823, 'lat': 45.44118, 'lng': 9.15174}, {'restaurant_id': 824, 'lat': 45.49393, 'lng': 9.15213}, {'restaurant_id': 825, 'lat': 45.45724, 'lng': 9.18134}, {'restaurant_id': 826, 'lat': 45.52548, 'lng': 9.21451}, {'restaurant_id': 827, 'lat': 45.44748, 'lng': 9.15552}, {'restaurant_id': 828, 'lat': 45.46859, 'lng': 9.22341}, {'restaurant_id': 829, 'lat': 45.46914, 'lng': 9.22414}, {'restaurant_id': 830, 'lat': 45.45228, 'lng': 9.18198}, {'restaurant_id': 831, 'lat': 45.48492, 'lng': 9.15577}, {'restaurant_id': 832, 'lat': 45.48654, 'lng': 9.23777}, {'restaurant_id': 833, 'lat': 45.46428, 'lng': 9.1878}, {'restaurant_id': 834, 'lat': 45.4548, 'lng': 9.1668}, {'restaurant_id': 835, 'lat': 45.4615, 'lng': 9.21123}, {'restaurant_id': 836, 'lat': 45.45081, 'lng': 9.19989}, {'restaurant_id': 837, 'lat': 45.47817, 'lng': 9.20747}, {'restaurant_id': 838, 'lat': 45.48941, 'lng': 9.18637}, {'restaurant_id': 839, 'lat': 45.46369, 'lng': 9.19049}, {'restaurant_id': 840, 'lat': 45.48537, 'lng': 9.1991}, {'restaurant_id': 841, 'lat': 45.4599, 'lng': 9.09608}, {'restaurant_id': 842, 'lat': 45.44099, 'lng': 9.19942}, {'restaurant_id': 843, 'lat': 45.51353, 'lng': 9.19115}, {'restaurant_id': 844, 'lat': 45.45433, 'lng': 9.16311}, {'restaurant_id': 845, 'lat': 45.44521, 'lng': 9.14483}, {'restaurant_id': 846, 'lat': 45.44938, 'lng': 9.17765}, {'restaurant_id': 847, 'lat': 45.46631, 'lng': 9.1923}, {'restaurant_id': 848, 'lat': 45.47766, 'lng': 9.20583}, {'restaurant_id': 849, 'lat': 45.47798, 'lng': 9.16081}, {'restaurant_id': 850, 'lat': 45.46294, 'lng': 9.13957}, {'restaurant_id': 851, 'lat': 45.45657, 'lng': 9.20479}, {'restaurant_id': 852, 'lat': 45.47621, 'lng': 9.20427}, {'restaurant_id': 853, 'lat': 45.44389, 'lng': 9.21412}, {'restaurant_id': 854, 'lat': 45.52384, 'lng': 9.19259}, {'restaurant_id': 855, 'lat': 45.46314, 'lng': 9.22757}, {'restaurant_id': 856, 'lat': 45.48999, 'lng': 9.20409}, {'restaurant_id': 857, 'lat': 45.52354, 'lng': 9.32574}, {'restaurant_id': 858, 'lat': 45.46217, 'lng': 9.18723}, {'restaurant_id': 859, 'lat': 45.48021, 'lng': 9.20123}, {'restaurant_id': 860, 'lat': 45.47296, 'lng': 9.16003}, {'restaurant_id': 861, 'lat': 45.45738, 'lng': 9.19361}, {'restaurant_id': 862, 'lat': 45.45638, 'lng': 9.17091}, {'restaurant_id': 863, 'lat': 45.45666, 'lng': 9.15779}, {'restaurant_id': 864, 'lat': 45.52441, 'lng': 9.20704}, {'restaurant_id': 865, 'lat': 45.47675, 'lng': 9.20953}, {'restaurant_id': 866, 'lat': 45.48083, 'lng': 9.16629}, {'restaurant_id': 867, 'lat': 45.48137, 'lng': 9.21769}, {'restaurant_id': 868, 'lat': 45.47875, 'lng': 9.20004}, {'restaurant_id': 869, 'lat': 45.47971, 'lng': 9.23447}, {'restaurant_id': 870, 'lat': 45.4562, 'lng': 9.19936}, {'restaurant_id': 871, 'lat': 45.44508, 'lng': 9.11977}, {'restaurant_id': 872, 'lat': 45.46044, 'lng': 9.2096}, {'restaurant_id': 873, 'lat': 45.48054, 'lng': 9.18307}, {'restaurant_id': 874, 'lat': 45.48327, 'lng': 9.18175}, {'restaurant_id': 875, 'lat': 45.45656, 'lng': 9.16746}, {'restaurant_id': 876, 'lat': 45.48766, 'lng': 9.17116}, {'restaurant_id': 878, 'lat': 45.4742, 'lng': 9.19467}, {'restaurant_id': 879, 'lat': 45.4683, 'lng': 9.15615}, {'restaurant_id': 880, 'lat': 45.4674, 'lng': 9.17403}, {'restaurant_id': 881, 'lat': 45.49238, 'lng': 9.18868}, {'restaurant_id': 882, 'lat': 45.45077, 'lng': 9.19214}, {'restaurant_id': 883, 'lat': 45.4833, 'lng': 9.18888}, {'restaurant_id': 884, 'lat': 45.45346, 'lng': 9.16206}, {'restaurant_id': 885, 'lat': 45.45744, 'lng': 9.21242}, {'restaurant_id': 886, 'lat': 45.45009, 'lng': 9.2012}, {'restaurant_id': 887, 'lat': 45.48304, 'lng': 9.22382}, {'restaurant_id': 888, 'lat': 45.44626, 'lng': 9.1246}, {'restaurant_id': 889, 'lat': 45.44947, 'lng': 9.18618}, {'restaurant_id': 890, 'lat': 45.46027, 'lng': 9.20916}, {'restaurant_id': 891, 'lat': 45.46656, 'lng': 9.19527}, {'restaurant_id': 892, 'lat': 45.4786, 'lng': 9.18827}, {'restaurant_id': 893, 'lat': 45.47462, 'lng': 9.20715}, {'restaurant_id': 894, 'lat': 45.48214, 'lng': 9.19271}, {'restaurant_id': 895, 'lat': 45.46729, 'lng': 9.21492}, {'restaurant_id': 896, 'lat': 45.45009, 'lng': 9.2012}, {'restaurant_id': 897, 'lat': 45.48033, 'lng': 9.18126}, {'restaurant_id': 898, 'lat': 45.44398, 'lng': 9.15521}, {'restaurant_id': 899, 'lat': 45.47777, 'lng': 9.20587}, {'restaurant_id': 900, 'lat': 45.46537, 'lng': 9.18092}, {'restaurant_id': 901, 'lat': 45.49629, 'lng': 9.18345}, {'restaurant_id': 902, 'lat': 45.46381, 'lng': 9.09286}, {'restaurant_id': 903, 'lat': 45.4585, 'lng': 9.19209}, {'restaurant_id': 904, 'lat': 45.47741, 'lng': 9.14867}, {'restaurant_id': 905, 'lat': 45.4403, 'lng': 9.22467}, {'restaurant_id': 906, 'lat': 45.4776, 'lng': 9.14709}, {'restaurant_id': 907, 'lat': 45.4879, 'lng': 9.16251}, {'restaurant_id': 908, 'lat': 45.48617, 'lng': 9.22713}, {'restaurant_id': 909, 'lat': 45.44615, 'lng': 9.16133}, {'restaurant_id': 910, 'lat': 45.50826, 'lng': 9.24624}, {'restaurant_id': 911, 'lat': 45.48569, 'lng': 9.19216}, {'restaurant_id': 912, 'lat': 45.46806, 'lng': 9.16925}, {'restaurant_id': 913, 'lat': 45.49054, 'lng': 9.1888}, {'restaurant_id': 914, 'lat': 45.47797, 'lng': 9.18392}, {'restaurant_id': 915, 'lat': 45.46519, 'lng': 9.18843}, {'restaurant_id': 916, 'lat': 45.46543, 'lng': 9.17792}, {'restaurant_id': 917, 'lat': 45.47685, 'lng': 9.21496}, {'restaurant_id': 918, 'lat': 45.46989, 'lng': 9.14637}, {'restaurant_id': 919, 'lat': 45.47565, 'lng': 9.2052}, {'restaurant_id': 920, 'lat': 45.45081, 'lng': 9.19076}, {'restaurant_id': 921, 'lat': 45.44727, 'lng': 9.15446}, {'restaurant_id': 922, 'lat': 45.45445, 'lng': 9.17125}, {'restaurant_id': 923, 'lat': 45.44693, 'lng': 9.16549}, {'restaurant_id': 924, 'lat': 45.47811, 'lng': 9.1684}, {'restaurant_id': 925, 'lat': 45.45197, 'lng': 9.17769}, {'restaurant_id': 926, 'lat': 45.51088, 'lng': 9.20045}, {'restaurant_id': 927, 'lat': 45.48666, 'lng': 9.20158}, {'restaurant_id': 928, 'lat': 45.48508, 'lng': 9.21772}, {'restaurant_id': 929, 'lat': 45.4541, 'lng': 9.19924}, {'restaurant_id': 930, 'lat': 45.48416, 'lng': 9.22246}, {'restaurant_id': 931, 'lat': 45.49115, 'lng': 9.23379}, {'restaurant_id': 932, 'lat': 45.4753, 'lng': 9.18915}, {'restaurant_id': 933, 'lat': 45.48455, 'lng': 9.16284}, {'restaurant_id': 934, 'lat': 45.47559, 'lng': 9.2044}, {'restaurant_id': 935, 'lat': 45.48735, 'lng': 9.21309}, {'restaurant_id': 936, 'lat': 45.44842, 'lng': 9.15994}, {'restaurant_id': 937, 'lat': 45.45154, 'lng': 9.18733}, {'restaurant_id': 938, 'lat': 45.47905, 'lng': 9.20278}, {'restaurant_id': 939, 'lat': 45.4894, 'lng': 9.14868}, {'restaurant_id': 940, 'lat': 45.45251, 'lng': 9.15493}, {'restaurant_id': 942, 'lat': 45.46276, 'lng': 9.19342}, {'restaurant_id': 943, 'lat': 45.49121, 'lng': 9.23771}, {'restaurant_id': 944, 'lat': 45.45315, 'lng': 9.17988}, {'restaurant_id': 945, 'lat': 45.48603, 'lng': 9.15841}, {'restaurant_id': 946, 'lat': 45.505, 'lng': 9.17557}, {'restaurant_id': 947, 'lat': 45.45336, 'lng': 9.19603}, {'restaurant_id': 948, 'lat': 45.46821, 'lng': 9.17792}, {'restaurant_id': 949, 'lat': 45.48898, 'lng': 9.23025}, {'restaurant_id': 950, 'lat': 45.48667, 'lng': 9.19109}, {'restaurant_id': 951, 'lat': 45.48631, 'lng': 9.23979}, {'restaurant_id': 952, 'lat': 45.48358, 'lng': 9.21425}, {'restaurant_id': 953, 'lat': 45.46284, 'lng': 9.21151}, {'restaurant_id': 954, 'lat': 45.48793, 'lng': 9.13113}, {'restaurant_id': 955, 'lat': 45.46106, 'lng': 9.1845}, {'restaurant_id': 956, 'lat': 45.46737, 'lng': 9.18602}, {'restaurant_id': 957, 'lat': 45.44955, 'lng': 9.20245}, {'restaurant_id': 958, 'lat': 45.51085, 'lng': 9.21472}, {'restaurant_id': 959, 'lat': 45.44308, 'lng': 9.21741}, {'restaurant_id': 960, 'lat': 45.47938, 'lng': 9.21246}, {'restaurant_id': 961, 'lat': 45.43279, 'lng': 9.18264}, {'restaurant_id': 962, 'lat': 45.43823, 'lng': 9.20003}, {'restaurant_id': 963, 'lat': 45.49208, 'lng': 9.22658}, {'restaurant_id': 964, 'lat': 45.46198, 'lng': 9.22821}, {'restaurant_id': 965, 'lat': 45.48538, 'lng': 9.16305}, {'restaurant_id': 966, 'lat': 45.48599, 'lng': 9.23261}, {'restaurant_id': 967, 'lat': 45.44036, 'lng': 9.17871}, {'restaurant_id': 968, 'lat': 37.02857, 'lng': 15.06661}, {'restaurant_id': 969, 'lat': 45.48351, 'lng': 9.19745}, {'restaurant_id': 970, 'lat': 45.46199, 'lng': 9.19468}, {'restaurant_id': 971, 'lat': 45.46918, 'lng': 9.16716}, {'restaurant_id': 972, 'lat': 45.47194, 'lng': 9.16806}, {'restaurant_id': 973, 'lat': 45.45181, 'lng': 9.15079}, {'restaurant_id': 974, 'lat': 45.50631, 'lng': 9.22468}, {'restaurant_id': 975, 'lat': 45.47841, 'lng': 9.18116}, {'restaurant_id': 976, 'lat': 45.44272, 'lng': 9.21249}, {'restaurant_id': 977, 'lat': 45.46578, 'lng': 9.18136}, {'restaurant_id': 978, 'lat': 45.47836, 'lng': 9.17632}, {'restaurant_id': 979, 'lat': 45.45344, 'lng': 9.15793}, {'restaurant_id': 980, 'lat': 45.46868, 'lng': 9.18499}, {'restaurant_id': 981, 'lat': 45.45798, 'lng': 9.17198}, {'restaurant_id': 982, 'lat': 45.48213, 'lng': 9.18807}, {'restaurant_id': 983, 'lat': 45.46147, 'lng': 9.14325}, {'restaurant_id': 984, 'lat': 45.481, 'lng': 9.23389}, {'restaurant_id': 985, 'lat': 45.4819, 'lng': 9.22906}, {'restaurant_id': 986, 'lat': 45.49861, 'lng': 9.19666}, {'restaurant_id': 987, 'lat': 45.44038, 'lng': 9.21538}, {'restaurant_id': 988, 'lat': 45.48431, 'lng': 9.2347}, {'restaurant_id': 989, 'lat': 45.45258, 'lng': 9.20312}, {'restaurant_id': 990, 'lat': 45.46951, 'lng': 9.22537}, {'restaurant_id': 991, 'lat': 45.48777, 'lng': 9.20277}, {'restaurant_id': 992, 'lat': 45.06893, 'lng': 7.72059}, {'restaurant_id': 993, 'lat': 45.46329, 'lng': 9.13528}, {'restaurant_id': 994, 'lat': 45.48284, 'lng': 9.18169}, {'restaurant_id': 995, 'lat': 45.46539, 'lng': 9.19773}, {'restaurant_id': 996, 'lat': 45.47796, 'lng': 9.18479}, {'restaurant_id': 997, 'lat': 45.47854, 'lng': 9.20274}, {'restaurant_id': 998, 'lat': 45.46463, 'lng': 9.19394}, {'restaurant_id': 999, 'lat': 45.47289, 'lng': 9.18851}, {'restaurant_id': 1000, 'lat': 45.45683, 'lng': 9.19302}, {'restaurant_id': 1001, 'lat': 45.46828, 'lng': 9.15116}, {'restaurant_id': 1002, 'lat': 45.46115, 'lng': 9.1895}, {'restaurant_id': 1003, 'lat': 45.47092, 'lng': 9.18443}, {'restaurant_id': 1004, 'lat': 45.46745, 'lng': 9.15438}, {'restaurant_id': 1005, 'lat': 45.48296, 'lng': 9.1639}, {'restaurant_id': 1006, 'lat': 45.46927, 'lng': 9.23259}, {'restaurant_id': 1007, 'lat': 45.4806, 'lng': 9.1878}, {'restaurant_id': 1008, 'lat': 45.45882, 'lng': 9.17963}, {'restaurant_id': 1009, 'lat': 45.46953, 'lng': 9.17123}, {'restaurant_id': 1010, 'lat': 45.45524, 'lng': 9.16786}, {'restaurant_id': 1011, 'lat': 45.48771, 'lng': 9.19169}, {'restaurant_id': 1012, 'lat': 45.5023, 'lng': 9.1625}, {'restaurant_id': 1013, 'lat': 45.45188, 'lng': 9.20458}, {'restaurant_id': 1014, 'lat': 45.44804, 'lng': 9.1769}, {'restaurant_id': 1016, 'lat': 45.4693, 'lng': 9.19385}, {'restaurant_id': 1017, 'lat': 45.45864, 'lng': 9.21392}, {'restaurant_id': 1018, 'lat': 45.50361, 'lng': 9.1623}, {'restaurant_id': 1019, 'lat': 45.48177, 'lng': 9.17989}, {'restaurant_id': 1020, 'lat': 45.08031, 'lng': 7.73311}, {'restaurant_id': 1021, 'lat': 45.50001, 'lng': 9.24034}, {'restaurant_id': 1022, 'lat': 45.47104, 'lng': 9.15216}, {'restaurant_id': 1023, 'lat': 45.48137, 'lng': 9.18554}, {'restaurant_id': 1024, 'lat': 45.48298, 'lng': 9.1654}, {'restaurant_id': 1025, 'lat': 45.45276, 'lng': 9.15989}, {'restaurant_id': 1026, 'lat': 45.46941, 'lng': 9.20709}, {'restaurant_id': 1027, 'lat': 45.4531, 'lng': 9.17325}, {'restaurant_id': 1028, 'lat': 45.45712, 'lng': 9.18101}, {'restaurant_id': 1029, 'lat': 45.46172, 'lng': 9.22132}, {'restaurant_id': 1030, 'lat': 45.52004, 'lng': 9.2221}, {'restaurant_id': 1031, 'lat': 45.46404, 'lng': 9.22339}, {'restaurant_id': 1032, 'lat': 45.48278, 'lng': 9.19806}, {'restaurant_id': 1033, 'lat': 45.47718, 'lng': 9.19211}, {'restaurant_id': 1034, 'lat': 45.47757, 'lng': 9.21587}, {'restaurant_id': 1035, 'lat': 45.4512, 'lng': 9.18958}, {'restaurant_id': 1036, 'lat': 45.48133, 'lng': 9.17441}, {'restaurant_id': 1037, 'lat': 45.47283, 'lng': 9.19213}, {'restaurant_id': 1038, 'lat': 45.45754, 'lng': 9.20663}, {'restaurant_id': 1039, 'lat': 45.50438, 'lng': 9.22198}, {'restaurant_id': 1040, 'lat': 45.49542, 'lng': 9.21742}, {'restaurant_id': 1041, 'lat': 45.47635, 'lng': 9.21687}, {'restaurant_id': 1042, 'lat': 45.47586, 'lng': 9.20289}, {'restaurant_id': 1044, 'lat': 45.47503, 'lng': 9.21456}, {'restaurant_id': 1045, 'lat': 45.48728, 'lng': 9.21022}, {'restaurant_id': 1046, 'lat': 45.45182, 'lng': 9.17065}, {'restaurant_id': 1047, 'lat': 45.47778, 'lng': 9.20213}, {'restaurant_id': 1048, 'lat': 45.46417, 'lng': 9.20764}, {'restaurant_id': 1049, 'lat': 45.50237, 'lng': 9.15381}, {'restaurant_id': 1050, 'lat': 45.5355, 'lng': 9.48741}, {'restaurant_id': 1051, 'lat': 45.45423, 'lng': 9.21343}, {'restaurant_id': 1052, 'lat': 45.47151, 'lng': 9.18489}, {'restaurant_id': 1053, 'lat': 45.46057, 'lng': 9.20836}, {'restaurant_id': 1054, 'lat': 45.43375, 'lng': 9.18527}, {'restaurant_id': 1055, 'lat': 45.48903, 'lng': 9.15345}, {'restaurant_id': 1056, 'lat': 45.48727, 'lng': 9.18694}, {'restaurant_id': 1057, 'lat': 45.55237, 'lng': 9.13961}, {'restaurant_id': 1058, 'lat': 45.42649, 'lng': 9.17006}, {'restaurant_id': 1059, 'lat': 45.44183, 'lng': 9.14017}, {'restaurant_id': 1060, 'lat': 45.48622, 'lng': 9.23497}, {'restaurant_id': 1061, 'lat': 45.47842, 'lng': 9.2467}, {'restaurant_id': 1062, 'lat': 45.4551, 'lng': 9.12325}, {'restaurant_id': 1063, 'lat': 45.48785, 'lng': 9.20403}, {'restaurant_id': 1064, 'lat': 45.47862, 'lng': 9.20372}, {'restaurant_id': 1065, 'lat': 45.59514, 'lng': 8.94248}, {'restaurant_id': 1066, 'lat': 45.46953, 'lng': 9.21453}, {'restaurant_id': 1067, 'lat': 45.47862, 'lng': 9.19242}, {'restaurant_id': 1068, 'lat': 45.48138, 'lng': 9.16689}, {'restaurant_id': 1069, 'lat': 45.46055, 'lng': 9.1453}, {'restaurant_id': 1070, 'lat': 45.47728, 'lng': 9.2255}, {'restaurant_id': 1071, 'lat': 45.45445, 'lng': 9.20967}, {'restaurant_id': 1072, 'lat': 45.49114, 'lng': 9.16187}, {'restaurant_id': 1073, 'lat': 45.46732, 'lng': 9.1731}, {'restaurant_id': 1074, 'lat': 45.48911, 'lng': 9.15315}, {'restaurant_id': 1075, 'lat': 45.47526, 'lng': 9.21455}, {'restaurant_id': 1076, 'lat': 45.45011, 'lng': 9.20694}, {'restaurant_id': 1077, 'lat': 45.44725, 'lng': 9.17867}, {'restaurant_id': 1078, 'lat': 45.43923, 'lng': 9.17866}, {'restaurant_id': 1079, 'lat': 45.48881, 'lng': 9.22964}, {'restaurant_id': 1080, 'lat': 45.45906, 'lng': 9.17847}, {'restaurant_id': 1081, 'lat': 45.44711, 'lng': 9.1537}, {'restaurant_id': 1082, 'lat': 45.47333, 'lng': 9.19565}, {'restaurant_id': 1083, 'lat': 45.46671, 'lng': 9.14759}, {'restaurant_id': 1084, 'lat': 45.47718, 'lng': 9.14915}, {'restaurant_id': 1085, 'lat': 45.47438, 'lng': 9.20893}, {'restaurant_id': 1087, 'lat': 45.49756, 'lng': 9.22033}, {'restaurant_id': 1088, 'lat': 45.44104, 'lng': 9.213}, {'restaurant_id': 1089, 'lat': 45.47636, 'lng': 9.24809}, {'restaurant_id': 1090, 'lat': 45.4707, 'lng': 9.22237}, {'restaurant_id': 1091, 'lat': 45.49171, 'lng': 9.2053}, {'restaurant_id': 1092, 'lat': 45.47602, 'lng': 9.14433}, {'restaurant_id': 1093, 'lat': 45.45086, 'lng': 9.20486}, {'restaurant_id': 1094, 'lat': 45.46702, 'lng': 9.1443}, {'restaurant_id': 1095, 'lat': 45.46632, 'lng': 9.19871}, {'restaurant_id': 1096, 'lat': 45.4405, 'lng': 9.21444}, {'restaurant_id': 1097, 'lat': 45.474, 'lng': 9.19502}, {'restaurant_id': 1098, 'lat': 45.49785, 'lng': 9.17331}, {'restaurant_id': 1099, 'lat': 45.47827, 'lng': 9.16256}, {'restaurant_id': 1100, 'lat': 45.46136, 'lng': 9.21154}, {'restaurant_id': 1101, 'lat': 45.47102, 'lng': 9.14076}, {'restaurant_id': 1102, 'lat': 45.45742, 'lng': 9.16111}, {'restaurant_id': 1103, 'lat': 45.49975, 'lng': 9.20943}, {'restaurant_id': 1104, 'lat': 45.46627, 'lng': 9.17709}, {'restaurant_id': 1105, 'lat': 45.48116, 'lng': 9.20302}, {'restaurant_id': 1106, 'lat': 45.47773, 'lng': 9.10707}, {'restaurant_id': 1107, 'lat': 45.48185, 'lng': 9.14524}, {'restaurant_id': 1108, 'lat': 45.43876, 'lng': 9.22456}, {'restaurant_id': 1109, 'lat': 45.4919, 'lng': 9.21321}, {'restaurant_id': 1110, 'lat': 45.46035, 'lng': 9.14932}, {'restaurant_id': 1111, 'lat': 45.487, 'lng': 9.18687}, {'restaurant_id': 1112, 'lat': 45.47148, 'lng': 9.18772}, {'restaurant_id': 1113, 'lat': 45.46788, 'lng': 9.17419}, {'restaurant_id': 1114, 'lat': 45.50364, 'lng': 9.2453}, {'restaurant_id': 1115, 'lat': 45.46867, 'lng': 9.21453}, {'restaurant_id': 1116, 'lat': 45.47808, 'lng': 9.20345}, {'restaurant_id': 1117, 'lat': 45.48046, 'lng': 9.19431}, {'restaurant_id': 1118, 'lat': 45.45082, 'lng': 9.20151}, {'restaurant_id': 1119, 'lat': 45.50468, 'lng': 9.10591}, {'restaurant_id': 1120, 'lat': 45.48641, 'lng': 9.15651}, {'restaurant_id': 1121, 'lat': 45.46027, 'lng': 9.17706}, {'restaurant_id': 1122, 'lat': 45.48391, 'lng': 9.16374}, {'restaurant_id': 1123, 'lat': 45.46371, 'lng': 9.13944}, {'restaurant_id': 1124, 'lat': 45.48746, 'lng': 9.20961}, {'restaurant_id': 1125, 'lat': 45.45297, 'lng': 9.16648}, {'restaurant_id': 1127, 'lat': 45.47083, 'lng': 9.20914}, {'restaurant_id': 1128, 'lat': 45.42914, 'lng': 9.2026}, {'restaurant_id': 1129, 'lat': 45.51548, 'lng': 9.19245}, {'restaurant_id': 1130, 'lat': 45.45506, 'lng': 9.21275}, {'restaurant_id': 1131, 'lat': 45.44911, 'lng': 9.21778}, {'restaurant_id': 1132, 'lat': 45.48429, 'lng': 9.21594}, {'restaurant_id': 1133, 'lat': 45.4441, 'lng': 9.17659}, {'restaurant_id': 1134, 'lat': 45.47733, 'lng': 9.16983}, {'restaurant_id': 1135, 'lat': 45.4686, 'lng': 9.21648}, {'restaurant_id': 1136, 'lat': 45.44372, 'lng': 9.17977}, {'restaurant_id': 1137, 'lat': 45.45, 'lng': 9.17779}, {'restaurant_id': 1138, 'lat': 45.46536, 'lng': 9.17818}, {'restaurant_id': 1139, 'lat': 45.46105, 'lng': 9.20969}, {'restaurant_id': 1140, 'lat': 45.43944, 'lng': 9.22416}, {'restaurant_id': 1141, 'lat': 45.46198, 'lng': 9.22942}, {'restaurant_id': 1142, 'lat': 45.47751, 'lng': 9.21495}, {'restaurant_id': 1143, 'lat': 45.48227, 'lng': 9.21283}, {'restaurant_id': 1144, 'lat': 45.49399, 'lng': 9.1424}, {'restaurant_id': 1145, 'lat': 45.46672, 'lng': 9.20881}, {'restaurant_id': 1146, 'lat': 45.49129, 'lng': 9.23957}, {'restaurant_id': 1147, 'lat': 45.47634, 'lng': 9.22476}, {'restaurant_id': 1148, 'lat': 45.44124, 'lng': 9.21613}, {'restaurant_id': 1149, 'lat': 45.45634, 'lng': 9.16557}, {'restaurant_id': 1150, 'lat': 45.48615, 'lng': 9.22566}, {'restaurant_id': 1151, 'lat': 45.47882, 'lng': 9.18457}, {'restaurant_id': 1152, 'lat': 45.44109, 'lng': 9.18144}, {'restaurant_id': 1153, 'lat': 45.45975, 'lng': 9.18136}, {'restaurant_id': 1154, 'lat': 45.48389, 'lng': 9.22337}, {'restaurant_id': 1155, 'lat': 45.55774, 'lng': 9.24324}, {'restaurant_id': 1156, 'lat': 45.44426, 'lng': 9.26088}, {'restaurant_id': 1157, 'lat': 45.46602, 'lng': 9.19173}, {'restaurant_id': 1158, 'lat': 45.57626, 'lng': 9.03386}, {'restaurant_id': 1159, 'lat': 45.45054, 'lng': 9.1394}, {'restaurant_id': 1160, 'lat': 45.47518, 'lng': 9.18563}, {'restaurant_id': 1161, 'lat': 45.44418, 'lng': 9.24115}, {'restaurant_id': 1162, 'lat': 45.45142, 'lng': 9.17104}, {'restaurant_id': 1163, 'lat': 45.48118, 'lng': 9.16659}, {'restaurant_id': 1164, 'lat': 45.46274, 'lng': 9.20456}, {'restaurant_id': 1165, 'lat': 45.46562, 'lng': 9.19833}, {'restaurant_id': 1166, 'lat': 45.46556, 'lng': 9.20833}, {'restaurant_id': 1167, 'lat': 45.46582, 'lng': 9.18041}, {'restaurant_id': 1168, 'lat': 45.47596, 'lng': 9.2075}, {'restaurant_id': 1169, 'lat': 45.50111, 'lng': 9.41666}, {'restaurant_id': 1170, 'lat': 45.45792, 'lng': 9.17047}, {'restaurant_id': 1171, 'lat': 45.45852, 'lng': 9.14648}, {'restaurant_id': 1172, 'lat': 45.466, 'lng': 9.21613}, {'restaurant_id': 1173, 'lat': 45.4833, 'lng': 9.18888}, {'restaurant_id': 1174, 'lat': 45.45912, 'lng': 9.18165}, {'restaurant_id': 1175, 'lat': 45.49096, 'lng': 9.18628}, {'restaurant_id': 1176, 'lat': 45.50037, 'lng': 9.22119}, {'restaurant_id': 1177, 'lat': 45.46221, 'lng': 9.19394}, {'restaurant_id': 1178, 'lat': 45.50101, 'lng': 9.1833}, {'restaurant_id': 1179, 'lat': 45.48304, 'lng': 9.18172}, {'restaurant_id': 1180, 'lat': 45.47733, 'lng': 9.20183}, {'restaurant_id': 1181, 'lat': 45.48816, 'lng': 9.20318}, {'restaurant_id': 1182, 'lat': 45.45623, 'lng': 9.21714}, {'restaurant_id': 1183, 'lat': 45.51556, 'lng': 9.15703}, {'restaurant_id': 1184, 'lat': 45.50793, 'lng': 9.20306}, {'restaurant_id': 1185, 'lat': 45.47586, 'lng': 9.20504}, {'restaurant_id': 1187, 'lat': 45.46581, 'lng': 9.17933}, {'restaurant_id': 1188, 'lat': 45.51636, 'lng': 9.24486}, {'restaurant_id': 1189, 'lat': 45.46964, 'lng': 9.19986}, {'restaurant_id': 1190, 'lat': 45.48895, 'lng': 9.1841}, {'restaurant_id': 1191, 'lat': 45.50155, 'lng': 9.17824}, {'restaurant_id': 1192, 'lat': 45.44901, 'lng': 9.20327}, {'restaurant_id': 1193, 'lat': 45.46761, 'lng': 9.22483}, {'restaurant_id': 1194, 'lat': 45.48984, 'lng': 9.18796}, {'restaurant_id': 1195, 'lat': 45.46477, 'lng': 9.23041}, {'restaurant_id': 1196, 'lat': 45.50143, 'lng': 9.16238}, {'restaurant_id': 1197, 'lat': 45.46158, 'lng': 9.19098}, {'restaurant_id': 1198, 'lat': 45.51128, 'lng': 9.21061}, {'restaurant_id': 1199, 'lat': 45.45994, 'lng': 9.15803}, {'restaurant_id': 1200, 'lat': 45.45895, 'lng': 9.19132}, {'restaurant_id': 1201, 'lat': 45.49099, 'lng': 9.14618}, {'restaurant_id': 1202, 'lat': 45.49516, 'lng': 9.19802}, {'restaurant_id': 1203, 'lat': 45.48578, 'lng': 9.20955}, {'restaurant_id': 1204, 'lat': 45.43178, 'lng': 9.24504}, {'restaurant_id': 1205, 'lat': 45.48186, 'lng': 9.21048}, {'restaurant_id': 1206, 'lat': 45.48112, 'lng': 9.17174}, {'restaurant_id': 1207, 'lat': 45.43457, 'lng': 9.15452}, {'restaurant_id': 1208, 'lat': 45.46363, 'lng': 9.22798}, {'restaurant_id': 1209, 'lat': 45.48385, 'lng': 9.18925}, {'restaurant_id': 1210, 'lat': 45.45105, 'lng': 9.19569}, {'restaurant_id': 1211, 'lat': 45.4858, 'lng': 9.20195}, {'restaurant_id': 1212, 'lat': 45.46178, 'lng': 9.20397}, {'restaurant_id': 1213, 'lat': 45.46045, 'lng': 9.17484}, {'restaurant_id': 1214, 'lat': 45.45549, 'lng': 9.16424}, {'restaurant_id': 1215, 'lat': 45.45794, 'lng': 9.19359}, {'restaurant_id': 1216, 'lat': 45.48904, 'lng': 9.22071}, {'restaurant_id': 1217, 'lat': 45.46535, 'lng': 9.13598}, {'restaurant_id': 1218, 'lat': 45.46199, 'lng': 9.19519}, {'restaurant_id': 1219, 'lat': 45.47854, 'lng': 9.21497}, {'restaurant_id': 1220, 'lat': 45.50659, 'lng': 9.244}, {'restaurant_id': 1221, 'lat': 45.44143, 'lng': 9.17863}, {'restaurant_id': 1222, 'lat': 45.44491, 'lng': 9.19484}, {'restaurant_id': 1223, 'lat': 45.4831, 'lng': 9.1993}, {'restaurant_id': 1224, 'lat': 45.43522, 'lng': 9.20113}, {'restaurant_id': 1225, 'lat': 45.47054, 'lng': 9.22878}, {'restaurant_id': 1226, 'lat': 45.47704, 'lng': 9.15039}, {'restaurant_id': 1227, 'lat': 45.47062, 'lng': 9.20725}, {'restaurant_id': 1228, 'lat': 45.44148, 'lng': 9.17895}, {'restaurant_id': 1229, 'lat': 45.46362, 'lng': 9.08703}, {'restaurant_id': 1230, 'lat': 45.4641, 'lng': 9.23041}, {'restaurant_id': 1231, 'lat': 45.45663, 'lng': 9.16868}, {'restaurant_id': 1232, 'lat': 45.49099, 'lng': 9.14618}, {'restaurant_id': 1233, 'lat': 45.46831, 'lng': 9.15225}, {'restaurant_id': 1234, 'lat': 45.49659, 'lng': 9.23803}, {'restaurant_id': 1235, 'lat': 45.48751, 'lng': 9.18771}, {'restaurant_id': 1236, 'lat': 45.46504, 'lng': 9.19067}, {'restaurant_id': 1237, 'lat': 45.50167, 'lng': 9.21022}, {'restaurant_id': 1238, 'lat': 45.48201, 'lng': 9.20091}, {'restaurant_id': 1239, 'lat': 45.45525, 'lng': 9.16675}, {'restaurant_id': 1241, 'lat': 45.47681, 'lng': 9.20406}, {'restaurant_id': 1242, 'lat': 45.51561, 'lng': 9.22577}, {'restaurant_id': 1243, 'lat': 45.45671, 'lng': 9.20815}, {'restaurant_id': 1244, 'lat': 45.50107, 'lng': 9.22157}, {'restaurant_id': 1245, 'lat': 45.48723, 'lng': 9.1603}, {'restaurant_id': 1246, 'lat': 45.47168, 'lng': 9.16705}, {'restaurant_id': 1247, 'lat': 45.46708, 'lng': 9.22269}, {'restaurant_id': 1248, 'lat': 45.48208, 'lng': 9.1978}, {'restaurant_id': 1249, 'lat': 45.45687, 'lng': 9.24227}, {'restaurant_id': 1250, 'lat': 45.46996, 'lng': 9.22111}, {'restaurant_id': 1251, 'lat': 45.46724, 'lng': 9.15495}, {'restaurant_id': 1252, 'lat': 45.48108, 'lng': 9.17277}, {'restaurant_id': 1253, 'lat': 45.48648, 'lng': 9.22966}, {'restaurant_id': 1254, 'lat': 45.56253, 'lng': 8.91417}, {'restaurant_id': 1255, 'lat': 45.46753, 'lng': 9.18257}, {'restaurant_id': 1256, 'lat': 45.47087, 'lng': 9.1228}, {'restaurant_id': 1257, 'lat': 45.4615, 'lng': 9.18917}, {'restaurant_id': 1258, 'lat': 45.45726, 'lng': 9.17293}, {'restaurant_id': 1259, 'lat': 45.46574, 'lng': 9.16913}, {'restaurant_id': 1260, 'lat': 45.46639, 'lng': 9.1762}, {'restaurant_id': 1261, 'lat': 45.48993, 'lng': 9.15347}, {'restaurant_id': 1262, 'lat': 45.44724, 'lng': 9.17715}, {'restaurant_id': 1263, 'lat': 45.48621, 'lng': 9.23229}, {'restaurant_id': 1264, 'lat': 45.46622, 'lng': 9.19543}, {'restaurant_id': 1265, 'lat': 45.44884, 'lng': 9.22111}, {'restaurant_id': 1266, 'lat': 45.45432, 'lng': 9.17352}, {'restaurant_id': 1267, 'lat': 45.45298, 'lng': 9.16058}, {'restaurant_id': 1268, 'lat': 45.4437, 'lng': 9.18165}, {'restaurant_id': 1269, 'lat': 45.55676, 'lng': 8.77781}, {'restaurant_id': 1270, 'lat': 45.47995, 'lng': 9.2135}, {'restaurant_id': 1271, 'lat': 45.46243, 'lng': 9.20508}, {'restaurant_id': 1272, 'lat': 45.46681, 'lng': 8.9204}, {'restaurant_id': 1273, 'lat': 45.48084, 'lng': 9.21331}, {'restaurant_id': 1274, 'lat': 45.4737, 'lng': 9.21098}, {'restaurant_id': 1275, 'lat': 45.45836, 'lng': 9.19192}, {'restaurant_id': 1276, 'lat': 45.48933, 'lng': 9.20541}, {'restaurant_id': 1277, 'lat': 45.48358, 'lng': 9.24257}, {'restaurant_id': 1278, 'lat': 45.51699, 'lng': 9.20927}, {'restaurant_id': 1279, 'lat': 45.46588, 'lng': 9.21009}, {'restaurant_id': 1280, 'lat': 45.49502, 'lng': 9.02564}, {'restaurant_id': 1281, 'lat': 45.46759, 'lng': 9.15551}, {'restaurant_id': 1282, 'lat': 45.49808, 'lng': 9.19766}, {'restaurant_id': 1283, 'lat': 45.46871, 'lng': 9.15258}, {'restaurant_id': 1284, 'lat': 45.46946, 'lng': 9.17083}, {'restaurant_id': 1285, 'lat': 45.46614, 'lng': 9.13831}, {'restaurant_id': 1286, 'lat': 45.4809, 'lng': 9.12045}, {'restaurant_id': 1287, 'lat': 45.45473, 'lng': 9.22018}, {'restaurant_id': 1288, 'lat': 45.46529, 'lng': 9.20708}, {'restaurant_id': 1289, 'lat': 45.43726, 'lng': 9.21823}, {'restaurant_id': 1290, 'lat': 45.48405, 'lng': 9.22666}, {'restaurant_id': 1291, 'lat': 45.46715, 'lng': 8.92035}, {'restaurant_id': 1292, 'lat': 45.46854, 'lng': 9.14065}, {'restaurant_id': 1293, 'lat': 45.48165, 'lng': 9.21423}, {'restaurant_id': 1294, 'lat': 45.45109, 'lng': 9.21795}, {'restaurant_id': 1295, 'lat': 45.46278, 'lng': 9.23043}, {'restaurant_id': 1296, 'lat': 45.46759, 'lng': 9.17242}, {'restaurant_id': 1297, 'lat': 45.47033, 'lng': 9.23033}, {'restaurant_id': 1298, 'lat': 45.45531, 'lng': 9.16809}, {'restaurant_id': 1299, 'lat': 45.45441, 'lng': 9.15847}, {'restaurant_id': 1300, 'lat': 45.45301, 'lng': 9.20549}, {'restaurant_id': 1301, 'lat': 45.48514, 'lng': 9.19876}, {'restaurant_id': 1302, 'lat': 45.44775, 'lng': 9.1797}, {'restaurant_id': 1303, 'lat': 45.44938, 'lng': 9.17765}, {'restaurant_id': 1304, 'lat': 45.48136, 'lng': 9.17667}, {'restaurant_id': 1305, 'lat': 45.4719, 'lng': 9.23068}, {'restaurant_id': 1306, 'lat': 45.48533, 'lng': 9.2033}, {'restaurant_id': 1307, 'lat': 45.44868, 'lng': 9.17955}, {'restaurant_id': 1308, 'lat': 45.48063, 'lng': 9.19267}, {'restaurant_id': 1309, 'lat': 45.49032, 'lng': 9.16647}, {'restaurant_id': 1310, 'lat': 45.45568, 'lng': 9.21628}, {'restaurant_id': 1311, 'lat': 45.48281, 'lng': 8.99672}, {'restaurant_id': 1312, 'lat': 45.56749, 'lng': 9.21371}, {'restaurant_id': 1313, 'lat': 45.47374, 'lng': 9.22452}, {'restaurant_id': 1314, 'lat': 45.45314, 'lng': 9.17911}, {'restaurant_id': 1315, 'lat': 45.44669, 'lng': 9.12592}, {'restaurant_id': 1316, 'lat': 45.45281, 'lng': 9.19646}, {'restaurant_id': 1317, 'lat': 45.45937, 'lng': 9.18212}, {'restaurant_id': 1318, 'lat': 45.44157, 'lng': 9.22062}, {'restaurant_id': 1319, 'lat': 45.43957, 'lng': 9.15438}, {'restaurant_id': 1320, 'lat': 45.4476, 'lng': 9.17786}, {'restaurant_id': 1321, 'lat': 45.51246, 'lng': 9.3366}, {'restaurant_id': 1322, 'lat': 45.49084, 'lng': 9.22493}, {'restaurant_id': 1323, 'lat': 45.45262, 'lng': 9.16534}, {'restaurant_id': 1324, 'lat': 45.46625, 'lng': 9.21115}, {'restaurant_id': 1325, 'lat': 45.45683, 'lng': 9.19302}, {'restaurant_id': 1326, 'lat': 45.45675, 'lng': 9.18095}, {'restaurant_id': 1327, 'lat': 43.67092, 'lng': 11.21156}, {'restaurant_id': 1328, 'lat': 45.49748, 'lng': 9.13469}, {'restaurant_id': 1329, 'lat': 45.51099, 'lng': 9.17548}, {'restaurant_id': 1330, 'lat': 45.4819, 'lng': 9.21338}, {'restaurant_id': 1331, 'lat': 45.45182, 'lng': 9.20768}, {'restaurant_id': 1332, 'lat': 45.48924, 'lng': 9.18652}, {'restaurant_id': 1334, 'lat': 45.48136, 'lng': 9.17667}, {'restaurant_id': 1335, 'lat': 45.48906, 'lng': 9.18705}, {'restaurant_id': 1336, 'lat': 45.46021, 'lng': 9.1546}, {'restaurant_id': 1337, 'lat': 45.49173, 'lng': 9.07627}, {'restaurant_id': 1338, 'lat': 45.47493, 'lng': 9.21022}, {'restaurant_id': 1339, 'lat': 45.46184, 'lng': 9.18657}, {'restaurant_id': 1340, 'lat': 45.44677, 'lng': 9.17705}, {'restaurant_id': 1341, 'lat': 45.44977, 'lng': 9.20277}, {'restaurant_id': 1342, 'lat': 45.47497, 'lng': 9.14214}, {'restaurant_id': 1343, 'lat': 45.50229, 'lng': 9.18017}, {'restaurant_id': 1344, 'lat': 45.48215, 'lng': 9.18256}, {'restaurant_id': 1345, 'lat': 45.45075, 'lng': 9.16917}, {'restaurant_id': 1346, 'lat': 45.46331, 'lng': 9.1376}, {'restaurant_id': 1347, 'lat': 45.45638, 'lng': 9.17091}, {'restaurant_id': 1348, 'lat': 45.46836, 'lng': 9.22278}, {'restaurant_id': 1349, 'lat': 45.446, 'lng': 9.17852}, {'restaurant_id': 1350, 'lat': 45.48205, 'lng': 9.21281}, {'restaurant_id': 1352, 'lat': 45.44585, 'lng': 9.17745}, {'restaurant_id': 1353, 'lat': 45.48159, 'lng': 9.17927}, {'restaurant_id': 1354, 'lat': 45.48994, 'lng': 9.18984}, {'restaurant_id': 1355, 'lat': 45.47596, 'lng': 9.18367}, {'restaurant_id': 1356, 'lat': 45.4476, 'lng': 9.17501}, {'restaurant_id': 1357, 'lat': 45.45608, 'lng': 9.06388}, {'restaurant_id': 1358, 'lat': 45.47617, 'lng': 9.20373}, {'restaurant_id': 1359, 'lat': 45.55156, 'lng': 8.77612}, {'restaurant_id': 1360, 'lat': 45.43706, 'lng': 9.18329}, {'restaurant_id': 1361, 'lat': 45.45979, 'lng': 9.13134}, {'restaurant_id': 1362, 'lat': 45.49849, 'lng': 9.19795}, {'restaurant_id': 1363, 'lat': 45.45826, 'lng': 9.21285}, {'restaurant_id': 1364, 'lat': 41.08368, 'lng': 16.79265}, {'restaurant_id': 1365, 'lat': 45.45947, 'lng': 9.1921}, {'restaurant_id': 1366, 'lat': 45.4582, 'lng': 9.16152}, {'restaurant_id': 1367, 'lat': 45.45104, 'lng': 9.19356}, {'restaurant_id': 1368, 'lat': 45.43669, 'lng': 9.18366}, {'restaurant_id': 1369, 'lat': 45.45162, 'lng': 9.17771}, {'restaurant_id': 1370, 'lat': 45.4572, 'lng': 9.17328}, {'restaurant_id': 1371, 'lat': 45.44108, 'lng': 9.1578}, {'restaurant_id': 1372, 'lat': 45.48303, 'lng': 9.19796}, {'restaurant_id': 1373, 'lat': 45.47118, 'lng': 9.23033}, {'restaurant_id': 1374, 'lat': 45.45349, 'lng': 9.15693}, {'restaurant_id': 1375, 'lat': 45.47242, 'lng': 9.11947}, {'restaurant_id': 1376, 'lat': 45.45531, 'lng': 9.16809}, {'restaurant_id': 1377, 'lat': 45.49749, 'lng': 9.18314}, {'restaurant_id': 1378, 'lat': 45.48076, 'lng': 9.1927}, {'restaurant_id': 1379, 'lat': 45.4569, 'lng': 9.19926}, {'restaurant_id': 1380, 'lat': 45.46879, 'lng': 9.22946}, {'restaurant_id': 1381, 'lat': 45.43166, 'lng': 9.24453}, {'restaurant_id': 1382, 'lat': 45.49342, 'lng': 9.10076}, {'restaurant_id': 1383, 'lat': 45.57445, 'lng': 9.46912}, {'restaurant_id': 1384, 'lat': 45.57345, 'lng': 8.03989}, {'restaurant_id': 1385, 'lat': 45.48278, 'lng': 9.14713}, {'restaurant_id': 1386, 'lat': 45.47766, 'lng': 9.18535}, {'restaurant_id': 1388, 'lat': 45.48089, 'lng': 9.18611}, {'restaurant_id': 1389, 'lat': 45.50233, 'lng': 9.12812}, {'restaurant_id': 1390, 'lat': 45.45298, 'lng': 9.17478}, {'restaurant_id': 1391, 'lat': 45.48277, 'lng': 9.18335}, {'restaurant_id': 1392, 'lat': 45.48348, 'lng': 9.19992}, {'restaurant_id': 1393, 'lat': 45.46609, 'lng': 9.18573}, {'restaurant_id': 1394, 'lat': 45.46617, 'lng': 9.16321}, {'restaurant_id': 1395, 'lat': 45.46236, 'lng': 9.23283}, {'restaurant_id': 1396, 'lat': 45.46714, 'lng': 9.14829}, {'restaurant_id': 1397, 'lat': 45.45193, 'lng': 9.18419}, {'restaurant_id': 1398, 'lat': 45.48872, 'lng': 9.16842}, {'restaurant_id': 1399, 'lat': 45.49318, 'lng': 9.21402}, {'restaurant_id': 1400, 'lat': 45.48041, 'lng': 9.24194}, {'restaurant_id': 1401, 'lat': 45.47799, 'lng': 9.10701}, {'restaurant_id': 1402, 'lat': 45.50284, 'lng': 9.13959}, {'restaurant_id': 1403, 'lat': 45.46181, 'lng': 9.20964}, {'restaurant_id': 1404, 'lat': 45.4677, 'lng': 9.23186}, {'restaurant_id': 1405, 'lat': 45.59662, 'lng': 9.26635}, {'restaurant_id': 1406, 'lat': 45.49542, 'lng': 9.127}, {'restaurant_id': 1407, 'lat': 45.44947, 'lng': 9.14552}, {'restaurant_id': 1408, 'lat': 45.4839, 'lng': 9.20941}, {'restaurant_id': 1409, 'lat': 45.49393, 'lng': 9.18521}, {'restaurant_id': 1410, 'lat': 45.47788, 'lng': 9.22334}, {'restaurant_id': 1411, 'lat': 45.48025, 'lng': 9.21669}, {'restaurant_id': 1412, 'lat': 45.46752, 'lng': 9.15138}, {'restaurant_id': 1413, 'lat': 45.44157, 'lng': 9.20098}, {'restaurant_id': 1416, 'lat': 45.46445, 'lng': 9.22998}, {'restaurant_id': 1417, 'lat': 45.46545, 'lng': 9.18104}, {'restaurant_id': 1418, 'lat': 45.46701, 'lng': 9.15478}, {'restaurant_id': 1419, 'lat': 45.45391, 'lng': 9.16895}, {'restaurant_id': 1420, 'lat': 45.46568, 'lng': 9.18204}, {'restaurant_id': 1421, 'lat': 45.47273, 'lng': 9.20635}, {'restaurant_id': 1422, 'lat': 45.50191, 'lng': 9.17586}, {'restaurant_id': 1423, 'lat': 45.48627, 'lng': 9.2266}, {'restaurant_id': 1424, 'lat': 45.46418, 'lng': 9.13647}, {'restaurant_id': 1425, 'lat': 45.46597, 'lng': 9.13787}, {'restaurant_id': 1426, 'lat': 45.45227, 'lng': 9.21932}, {'restaurant_id': 1427, 'lat': 45.5101, 'lng': 9.12843}, {'restaurant_id': 1428, 'lat': 45.45697, 'lng': 9.20537}, {'restaurant_id': 1429, 'lat': 45.46158, 'lng': 9.19098}, {'restaurant_id': 1430, 'lat': 45.4305, 'lng': 9.11773}, {'restaurant_id': 1431, 'lat': 45.45696, 'lng': 9.15129}, {'restaurant_id': 1432, 'lat': 45.46726, 'lng': 9.16479}, {'restaurant_id': 1433, 'lat': 45.43674, 'lng': 9.24171}, {'restaurant_id': 1434, 'lat': 45.49739, 'lng': 9.22528}, {'restaurant_id': 1435, 'lat': 45.48872, 'lng': 9.16842}, {'restaurant_id': 1436, 'lat': 45.45171, 'lng': 9.1863}, {'restaurant_id': 1437, 'lat': 45.4666, 'lng': 9.18342}, {'restaurant_id': 1438, 'lat': 45.4956, 'lng': 9.13409}, {'restaurant_id': 1439, 'lat': 45.4597, 'lng': 9.18867}, {'restaurant_id': 1440, 'lat': 45.55168, 'lng': 8.93853}, {'restaurant_id': 1441, 'lat': 45.45636, 'lng': 9.18085}, {'restaurant_id': 1442, 'lat': 45.45796, 'lng': 9.21252}, {'restaurant_id': 1443, 'lat': 45.42622, 'lng': 9.16802}, {'restaurant_id': 1444, 'lat': 44.41447, 'lng': 8.91885}, {'restaurant_id': 1445, 'lat': 45.45546, 'lng': 9.2042}, {'restaurant_id': 1446, 'lat': 45.47376, 'lng': 9.20941}, {'restaurant_id': 1447, 'lat': 45.49588, 'lng': 9.1387}, {'restaurant_id': 1448, 'lat': 45.46293, 'lng': 9.23531}, {'restaurant_id': 1449, 'lat': 45.4775, 'lng': 9.17253}, {'restaurant_id': 1450, 'lat': 39.390897, 'lng': -99.066067}, {'restaurant_id': 1451, 'lat': 45.49039, 'lng': 9.1008}, {'restaurant_id': 1452, 'lat': 45.47716, 'lng': 9.18497}, {'restaurant_id': 1453, 'lat': 45.49459, 'lng': 9.18468}, {'restaurant_id': 1454, 'lat': 45.46755, 'lng': 9.15212}, {'restaurant_id': 1455, 'lat': 45.51865, 'lng': 9.19292}, {'restaurant_id': 1456, 'lat': 45.46754, 'lng': 9.21288}, {'restaurant_id': 1457, 'lat': 45.44924, 'lng': 9.21133}, {'restaurant_id': 1458, 'lat': 45.53811, 'lng': 9.23761}, {'restaurant_id': 1459, 'lat': 45.46715, 'lng': 8.92035}, {'restaurant_id': 1460, 'lat': 45.45969, 'lng': 9.18185}, {'restaurant_id': 1462, 'lat': 45.46161, 'lng': 9.20024}, {'restaurant_id': 1463, 'lat': 45.47231, 'lng': 9.22333}, {'restaurant_id': 1464, 'lat': 45.48517, 'lng': 9.23106}, {'restaurant_id': 1465, 'lat': 45.47674, 'lng': 9.18923}, {'restaurant_id': 1466, 'lat': 45.46614, 'lng': 9.19168}, {'restaurant_id': 1467, 'lat': 45.481, 'lng': 9.18816}, {'restaurant_id': 1468, 'lat': 45.46635, 'lng': 9.18866}, {'restaurant_id': 1469, 'lat': 45.48828, 'lng': 9.21714}, {'restaurant_id': 1470, 'lat': 45.43688, 'lng': 9.17837}, {'restaurant_id': 1471, 'lat': 45.46819, 'lng': 9.12998}, {'restaurant_id': 1472, 'lat': 45.63137, 'lng': 13.79198}, {'restaurant_id': 1473, 'lat': 45.48738, 'lng': 9.21818}, {'restaurant_id': 1474, 'lat': 45.4646, 'lng': 9.20758}, {'restaurant_id': 1475, 'lat': 45.46067, 'lng': 9.11022}, {'restaurant_id': 1476, 'lat': 45.48184, 'lng': 9.2276}, {'restaurant_id': 1477, 'lat': 45.48332, 'lng': 9.18958}, {'restaurant_id': 1478, 'lat': 45.45531, 'lng': 9.16809}, {'restaurant_id': 1479, 'lat': 45.4384, 'lng': 9.22042}, {'restaurant_id': 1480, 'lat': 45.46293, 'lng': 9.20515}, {'restaurant_id': 1481, 'lat': 45.51659, 'lng': 9.02517}, {'restaurant_id': 1482, 'lat': 45.4689, 'lng': 9.15287}, {'restaurant_id': 1483, 'lat': 45.49325, 'lng': 9.21903}, {'restaurant_id': 1484, 'lat': 45.46369, 'lng': 9.18999}, {'restaurant_id': 1485, 'lat': 45.44879, 'lng': 9.19799}, {'restaurant_id': 1486, 'lat': 45.42973, 'lng': 9.24688}, {'restaurant_id': 1487, 'lat': 45.50081, 'lng': 9.24772}, {'restaurant_id': 1488, 'lat': 45.49429, 'lng': 9.18507}, {'restaurant_id': 1489, 'lat': 45.487, 'lng': 9.1888}, {'restaurant_id': 1490, 'lat': 45.46573, 'lng': 9.15122}, {'restaurant_id': 1491, 'lat': 45.44556, 'lng': 9.17918}, {'restaurant_id': 1492, 'lat': 45.47496, 'lng': 9.20595}, {'restaurant_id': 1493, 'lat': 45.45228, 'lng': 9.18198}, {'restaurant_id': 1494, 'lat': 45.48119, 'lng': 9.18628}, {'restaurant_id': 1495, 'lat': 45.46473, 'lng': 9.17658}, {'restaurant_id': 1496, 'lat': 45.47352, 'lng': 9.2218}, {'restaurant_id': 1497, 'lat': 45.47819, 'lng': 9.18852}, {'restaurant_id': 1498, 'lat': 45.4326, 'lng': 9.17748}, {'restaurant_id': 1499, 'lat': 45.47277, 'lng': 9.15878}, {'restaurant_id': 1500, 'lat': 45.46049, 'lng': 9.18205}, {'restaurant_id': 1501, 'lat': 45.46688, 'lng': 9.19938}, {'restaurant_id': 1502, 'lat': 45.48291, 'lng': 9.23068}, {'restaurant_id': 1503, 'lat': 45.48016, 'lng': 9.21079}, {'restaurant_id': 1504, 'lat': 45.44767, 'lng': 9.18302}, {'restaurant_id': 1505, 'lat': 45.48872, 'lng': 9.14988}, {'restaurant_id': 1506, 'lat': 45.49954, 'lng': 9.15215}, {'restaurant_id': 1508, 'lat': 45.48864, 'lng': 9.20352}, {'restaurant_id': 1509, 'lat': 45.4634, 'lng': 9.13853}, {'restaurant_id': 1510, 'lat': 45.49818, 'lng': 9.13416}, {'restaurant_id': 1511, 'lat': 45.48073, 'lng': 9.23341}, {'restaurant_id': 1512, 'lat': 45.48714, 'lng': 9.1869}, {'restaurant_id': 1513, 'lat': 45.46298, 'lng': 9.19382}, {'restaurant_id': 1514, 'lat': 45.44522, 'lng': 9.24849}, {'restaurant_id': 1515, 'lat': 45.50255, 'lng': 9.21098}, {'restaurant_id': 1516, 'lat': 45.46203, 'lng': 9.21788}, {'restaurant_id': 1517, 'lat': 45.47473, 'lng': 9.20594}, {'restaurant_id': 1518, 'lat': 45.4802, 'lng': 9.18705}, {'restaurant_id': 1519, 'lat': 45.42601, 'lng': 9.25152}, {'restaurant_id': 1520, 'lat': 45.50943, 'lng': 9.2235}, {'restaurant_id': 1521, 'lat': 45.47897, 'lng': 9.18594}, {'restaurant_id': 1522, 'lat': 45.46831, 'lng': 9.17284}, {'restaurant_id': 1523, 'lat': 45.47142, 'lng': 9.18398}, {'restaurant_id': 1524, 'lat': 45.49121, 'lng': 9.18904}, {'restaurant_id': 1525, 'lat': 45.48957, 'lng': 9.18603}, {'restaurant_id': 1526, 'lat': 45.4932, 'lng': 9.21612}, {'restaurant_id': 1527, 'lat': 45.41977, 'lng': 9.17778}, {'restaurant_id': 1528, 'lat': 45.4914, 'lng': 9.20654}, {'restaurant_id': 1529, 'lat': 45.5003, 'lng': 9.19077}, {'restaurant_id': 1530, 'lat': 45.47835, 'lng': 9.20674}, {'restaurant_id': 1531, 'lat': 45.51615, 'lng': 9.20907}, {'restaurant_id': 1532, 'lat': 45.48396, 'lng': 9.24237}, {'restaurant_id': 1533, 'lat': 45.47223, 'lng': 9.18376}, {'restaurant_id': 1534, 'lat': 45.44024, 'lng': 9.19964}, {'restaurant_id': 1535, 'lat': 45.44917, 'lng': 9.16358}, {'restaurant_id': 1536, 'lat': 45.44718, 'lng': 9.15514}, {'restaurant_id': 1537, 'lat': 45.4435, 'lng': 9.12903}, {'restaurant_id': 1538, 'lat': 45.46561, 'lng': 9.20752}, {'restaurant_id': 1539, 'lat': 45.45178, 'lng': 9.16316}, {'restaurant_id': 1540, 'lat': 45.46177, 'lng': 9.18837}, {'restaurant_id': 1542, 'lat': 45.43687, 'lng': 9.15673}, {'restaurant_id': 1543, 'lat': 45.48188, 'lng': 9.19753}, {'restaurant_id': 1545, 'lat': 45.4641, 'lng': 9.17959}, {'restaurant_id': 1546, 'lat': 45.48879, 'lng': 9.18914}, {'restaurant_id': 1547, 'lat': 45.47875, 'lng': 9.20004}, {'restaurant_id': 1548, 'lat': 45.48077, 'lng': 9.17019}, {'restaurant_id': 1549, 'lat': 45.50754, 'lng': 8.99806}, {'restaurant_id': 1550, 'lat': 45.46813, 'lng': 9.14379}, {'restaurant_id': 1551, 'lat': 45.46296, 'lng': 9.1878}, {'restaurant_id': 1552, 'lat': 45.46088, 'lng': 9.189}, {'restaurant_id': 1553, 'lat': 45.44494, 'lng': 9.1436}, {'restaurant_id': 1554, 'lat': 45.47943, 'lng': 9.21003}, {'restaurant_id': 1555, 'lat': 45.45578, 'lng': 9.15372}, {'restaurant_id': 1556, 'lat': 45.4878, 'lng': 9.18868}, {'restaurant_id': 1557, 'lat': 45.45104, 'lng': 9.19356}, {'restaurant_id': 1558, 'lat': 45.45876, 'lng': 9.21317}, {'restaurant_id': 1559, 'lat': 45.46304, 'lng': 9.19878}, {'restaurant_id': 1560, 'lat': 45.48214, 'lng': 9.19271}, {'restaurant_id': 1561, 'lat': 45.43101, 'lng': 9.11206}, {'restaurant_id': 1562, 'lat': 45.4489, 'lng': 9.1402}, {'restaurant_id': 1563, 'lat': 45.43937, 'lng': 9.21595}, {'restaurant_id': 1564, 'lat': 41.93202, 'lng': 12.46592}, {'restaurant_id': 1565, 'lat': 45.46808, 'lng': 9.17333}, {'restaurant_id': 1566, 'lat': 45.48395, 'lng': 9.23465}, {'restaurant_id': 1567, 'lat': 45.49557, 'lng': 9.21973}, {'restaurant_id': 1568, 'lat': 45.51061, 'lng': 9.23152}, {'restaurant_id': 1569, 'lat': 45.4889, 'lng': 9.22593}, {'restaurant_id': 1570, 'lat': 45.45568, 'lng': 9.15819}, {'restaurant_id': 1571, 'lat': 39.390897, 'lng': -99.066067}, {'restaurant_id': 1572, 'lat': 45.45098, 'lng': 9.19031}, {'restaurant_id': 1573, 'lat': 45.42695, 'lng': 9.25049}, {'restaurant_id': 1574, 'lat': 45.46756, 'lng': 9.17282}, {'restaurant_id': 1575, 'lat': 45.45029, 'lng': 9.1382}, {'restaurant_id': 1576, 'lat': 45.45467, 'lng': 9.11841}, {'restaurant_id': 1577, 'lat': 45.44313, 'lng': 9.21462}, {'restaurant_id': 1578, 'lat': 45.44973, 'lng': 9.14986}, {'restaurant_id': 1579, 'lat': 45.4794, 'lng': 9.18209}, {'restaurant_id': 1580, 'lat': 45.50297, 'lng': 9.16652}, {'restaurant_id': 1581, 'lat': 45.50257, 'lng': 9.24263}, {'restaurant_id': 1582, 'lat': 45.44121, 'lng': 9.19051}, {'restaurant_id': 1583, 'lat': 45.49882, 'lng': 9.19122}, {'restaurant_id': 1584, 'lat': 45.48879, 'lng': 9.18914}, {'restaurant_id': 1585, 'lat': 45.46551, 'lng': 9.17611}, {'restaurant_id': 1586, 'lat': 45.50606, 'lng': 9.10136}, {'restaurant_id': 1587, 'lat': 45.48284, 'lng': 9.1713}, {'restaurant_id': 1588, 'lat': 45.46904, 'lng': 9.18714}, {'restaurant_id': 1589, 'lat': 45.51866, 'lng': 9.20669}, {'restaurant_id': 1590, 'lat': 45.47862, 'lng': 9.20594}, {'restaurant_id': 1591, 'lat': 45.48864, 'lng': 9.20352}, {'restaurant_id': 1592, 'lat': 45.45147, 'lng': 9.15605}, {'restaurant_id': 1593, 'lat': 45.45999, 'lng': 9.13616}, {'restaurant_id': 1594, 'lat': 45.49743, 'lng': 9.17068}, {'restaurant_id': 1595, 'lat': 45.4777, 'lng': 9.15618}, {'restaurant_id': 1596, 'lat': 45.44894, 'lng': 9.20014}, {'restaurant_id': 1597, 'lat': 45.56765, 'lng': 9.21367}, {'restaurant_id': 1598, 'lat': 45.48669, 'lng': 9.23842}, {'restaurant_id': 1599, 'lat': 45.44503, 'lng': 9.15502}, {'restaurant_id': 1601, 'lat': 45.46305, 'lng': 9.1517}, {'restaurant_id': 1602, 'lat': 45.52032, 'lng': 9.19232}, {'restaurant_id': 1603, 'lat': 45.46897, 'lng': 9.13898}, {'restaurant_id': 1604, 'lat': 45.46725, 'lng': 9.16534}, {'restaurant_id': 1605, 'lat': 45.48411, 'lng': 9.16369}, {'restaurant_id': 1606, 'lat': 45.4381, 'lng': 8.60392}, {'restaurant_id': 1607, 'lat': 45.48303, 'lng': 9.19796}, {'restaurant_id': 1608, 'lat': 45.47764, 'lng': 9.19332}, {'restaurant_id': 1609, 'lat': 45.4764, 'lng': 9.18861}, {'restaurant_id': 1610, 'lat': 45.44824, 'lng': 9.21052}, {'restaurant_id': 1611, 'lat': 45.9207, 'lng': 10.87976}, {'restaurant_id': 1612, 'lat': 45.52547, 'lng': 9.01142}, {'restaurant_id': 1613, 'lat': 39.390897, 'lng': -99.066067}, {'restaurant_id': 1614, 'lat': 45.51458, 'lng': 9.45817}, {'restaurant_id': 1615, 'lat': 45.48396, 'lng': 9.2426}, {'restaurant_id': 1616, 'lat': 45.49032, 'lng': 9.18844}, {'restaurant_id': 1617, 'lat': 45.51026, 'lng': 9.22998}, {'restaurant_id': 1618, 'lat': 45.45081, 'lng': 9.19076}, {'restaurant_id': 1619, 'lat': 45.48561, 'lng': 9.1628}, {'restaurant_id': 1620, 'lat': 45.4957, 'lng': 9.23686}, {'restaurant_id': 1621, 'lat': 45.49118, 'lng': 9.22134}, {'restaurant_id': 1622, 'lat': 45.4926, 'lng': 9.14838}, {'restaurant_id': 1623, 'lat': 45.48034, 'lng': 9.20263}, {'restaurant_id': 1624, 'lat': 45.47523, 'lng': 9.19439}, {'restaurant_id': 1625, 'lat': 45.47526, 'lng': 9.18369}, {'restaurant_id': 1627, 'lat': 45.43633, 'lng': 9.24163}, {'restaurant_id': 1628, 'lat': 45.52548, 'lng': 9.21451}, {'restaurant_id': 1629, 'lat': 45.47341, 'lng': 9.15992}, {'restaurant_id': 1630, 'lat': 45.45905, 'lng': 9.17732}, {'restaurant_id': 1631, 'lat': 45.46287, 'lng': 9.1869}, {'restaurant_id': 1632, 'lat': 45.47602, 'lng': 9.14382}, {'restaurant_id': 1633, 'lat': 45.46912, 'lng': 9.1866}, {'restaurant_id': 1634, 'lat': 45.46275, 'lng': 9.13924}, {'restaurant_id': 1635, 'lat': 45.45454, 'lng': 9.2156}, {'restaurant_id': 1636, 'lat': 45.51412, 'lng': 9.20831}, {'restaurant_id': 1637, 'lat': 45.45793, 'lng': 9.15448}, {'restaurant_id': 1638, 'lat': 45.48539, 'lng': 9.2355}, {'restaurant_id': 1639, 'lat': 45.4584, 'lng': 9.18732}, {'restaurant_id': 1640, 'lat': 45.56379, 'lng': 9.21343}, {'restaurant_id': 1641, 'lat': 45.50286, 'lng': 9.1812}, {'restaurant_id': 1642, 'lat': 45.49329, 'lng': 9.18374}, {'restaurant_id': 1643, 'lat': 45.47305, 'lng': 9.10929}, {'restaurant_id': 1644, 'lat': 45.4757, 'lng': 9.21447}, {'restaurant_id': 1645, 'lat': 45.48221, 'lng': 9.20681}, {'restaurant_id': 1646, 'lat': 45.45155, 'lng': 9.17458}, {'restaurant_id': 1647, 'lat': 45.44865, 'lng': 9.20745}, {'restaurant_id': 1648, 'lat': 45.45531, 'lng': 9.16809}, {'restaurant_id': 1649, 'lat': 45.44627, 'lng': 9.18007}, {'restaurant_id': 1650, 'lat': 45.5062, 'lng': 9.09747}, {'restaurant_id': 1651, 'lat': 45.50304, 'lng': 9.18852}, {'restaurant_id': 1652, 'lat': 45.48332, 'lng': 9.19943}, {'restaurant_id': 1653, 'lat': 45.48797, 'lng': 9.20177}, {'restaurant_id': 1654, 'lat': 45.45738, 'lng': 9.19361}, {'restaurant_id': 1655, 'lat': 45.45592, 'lng': 9.1693}, {'restaurant_id': 1656, 'lat': 45.48455, 'lng': 9.16284}, {'restaurant_id': 1657, 'lat': 45.4688, 'lng': 9.17142}, {'restaurant_id': 1658, 'lat': 45.47215, 'lng': 9.21004}, {'restaurant_id': 1659, 'lat': 45.46179, 'lng': 9.1929}, {'restaurant_id': 1660, 'lat': 45.50404, 'lng': 9.18015}, {'restaurant_id': 1661, 'lat': 45.4462, 'lng': 9.19618}, {'restaurant_id': 1662, 'lat': 45.46419, 'lng': 9.15367}, {'restaurant_id': 1663, 'lat': 45.46885, 'lng': 9.17678}, {'restaurant_id': 1664, 'lat': 45.48828, 'lng': 9.20423}, {'restaurant_id': 1665, 'lat': 45.4913, 'lng': 9.14829}, {'restaurant_id': 1666, 'lat': 45.45663, 'lng': 9.18091}, {'restaurant_id': 1667, 'lat': 45.49125, 'lng': 9.20476}, {'restaurant_id': 1668, 'lat': 45.47398, 'lng': 9.20928}, {'restaurant_id': 1669, 'lat': 45.46171, 'lng': 9.20718}, {'restaurant_id': 1670, 'lat': 45.48977, 'lng': 9.23689}, {'restaurant_id': 1671, 'lat': 45.48936, 'lng': 9.20485}, {'restaurant_id': 1672, 'lat': 45.49781, 'lng': 9.23072}, {'restaurant_id': 1673, 'lat': 45.47271, 'lng': 9.2489}, {'restaurant_id': 1674, 'lat': 45.45567, 'lng': 9.17443}, {'restaurant_id': 1675, 'lat': 45.46064, 'lng': 9.18642}, {'restaurant_id': 1676, 'lat': 45.45402, 'lng': 9.2039}, {'restaurant_id': 1677, 'lat': 45.48158, 'lng': 9.17765}, {'restaurant_id': 1678, 'lat': 45.45871, 'lng': 9.17322}, {'restaurant_id': 1679, 'lat': 45.4922, 'lng': 9.21633}, {'restaurant_id': 1680, 'lat': 45.48084, 'lng': 9.16051}, {'restaurant_id': 1681, 'lat': 45.47959, 'lng': 9.21104}, {'restaurant_id': 1682, 'lat': 45.53818, 'lng': 9.23778}, {'restaurant_id': 1683, 'lat': 45.4877, 'lng': 9.17077}, {'restaurant_id': 1684, 'lat': 45.44807, 'lng': 9.19768}, {'restaurant_id': 1685, 'lat': 45.45682, 'lng': 9.21395}, {'restaurant_id': 1686, 'lat': 45.45975, 'lng': 9.18136}, {'restaurant_id': 1687, 'lat': 45.51494, 'lng': 9.21205}, {'restaurant_id': 1688, 'lat': 45.47826, 'lng': 9.16034}, {'restaurant_id': 1689, 'lat': 45.49757, 'lng': 9.1857}, {'restaurant_id': 1690, 'lat': 45.48381, 'lng': 9.20381}, {'restaurant_id': 1691, 'lat': 45.46041, 'lng': 9.16462}, {'restaurant_id': 1692, 'lat': 45.47771, 'lng': 9.18506}, {'restaurant_id': 1693, 'lat': 45.45476, 'lng': 9.21771}, {'restaurant_id': 1694, 'lat': 45.45717, 'lng': 9.18082}, {'restaurant_id': 1695, 'lat': 45.4539, 'lng': 9.15821}, {'restaurant_id': 1696, 'lat': 45.48206, 'lng': 9.17413}, {'restaurant_id': 1697, 'lat': 45.46001, 'lng': 9.16722}, {'restaurant_id': 1698, 'lat': 45.48932, 'lng': 9.16381}, {'restaurant_id': 1699, 'lat': 45.45131, 'lng': 9.1555}, {'restaurant_id': 1700, 'lat': 45.46207, 'lng': 9.17446}, {'restaurant_id': 1701, 'lat': 45.44065, 'lng': 9.15548}, {'restaurant_id': 1703, 'lat': 45.48585, 'lng': 9.20307}, {'restaurant_id': 1704, 'lat': 45.44282, 'lng': 9.21882}, {'restaurant_id': 1705, 'lat': 45.41931, 'lng': 9.15799}, {'restaurant_id': 1706, 'lat': 45.4795, 'lng': 9.14591}, {'restaurant_id': 1707, 'lat': 45.46903, 'lng': 9.0877}, {'restaurant_id': 1708, 'lat': 45.46564, 'lng': 9.22439}, {'restaurant_id': 1709, 'lat': 45.44856, 'lng': 9.13992}, {'restaurant_id': 1710, 'lat': 45.45184, 'lng': 9.18655}, {'restaurant_id': 1711, 'lat': 45.45564, 'lng': 9.2043}, {'restaurant_id': 1712, 'lat': 45.45543, 'lng': 9.15519}, {'restaurant_id': 1713, 'lat': 45.4669, 'lng': 9.15205}, {'restaurant_id': 1714, 'lat': 45.55418, 'lng': 9.2298}, {'restaurant_id': 1715, 'lat': 45.47434, 'lng': 9.22255}, {'restaurant_id': 1716, 'lat': 45.46389, 'lng': 9.17472}, {'restaurant_id': 1717, 'lat': 45.49487, 'lng': 9.20474}, {'restaurant_id': 1718, 'lat': 45.4571, 'lng': 9.20509}, {'restaurant_id': 1719, 'lat': 41.02895, 'lng': 14.4668}, {'restaurant_id': 1720, 'lat': 45.48201, 'lng': 9.20091}, {'restaurant_id': 1721, 'lat': 45.45267, 'lng': 9.15541}, {'restaurant_id': 1722, 'lat': 45.45963, 'lng': 9.17936}, {'restaurant_id': 1723, 'lat': 45.47766, 'lng': 9.17977}, {'restaurant_id': 1724, 'lat': 45.46314, 'lng': 9.22757}, {'restaurant_id': 1725, 'lat': 45.46254, 'lng': 9.12587}, {'restaurant_id': 1726, 'lat': 45.47278, 'lng': 9.18735}, {'restaurant_id': 1727, 'lat': 45.44104, 'lng': 9.22168}, {'restaurant_id': 1728, 'lat': 45.45445, 'lng': 9.17125}, {'restaurant_id': 1729, 'lat': 45.46876, 'lng': 9.12813}, {'restaurant_id': 1730, 'lat': 45.45014, 'lng': 9.14045}, {'restaurant_id': 1731, 'lat': 45.49443, 'lng': 9.15698}, {'restaurant_id': 1732, 'lat': 45.45061, 'lng': 9.17183}, {'restaurant_id': 1733, 'lat': 45.49702, 'lng': 9.17561}, {'restaurant_id': 1734, 'lat': 45.49167, 'lng': 9.21817}, {'restaurant_id': 1735, 'lat': 45.45698, 'lng': 9.16417}, {'restaurant_id': 1737, 'lat': 45.46765, 'lng': 9.15158}, {'restaurant_id': 1738, 'lat': 45.42957, 'lng': 11.88952}, {'restaurant_id': 1739, 'lat': 45.45251, 'lng': 9.15493}, {'restaurant_id': 1740, 'lat': 45.48886, 'lng': 9.19339}, {'restaurant_id': 1741, 'lat': 45.46233, 'lng': 9.17402}, {'restaurant_id': 1742, 'lat': 45.51499, 'lng': 9.21816}, {'restaurant_id': 1743, 'lat': 45.5101, 'lng': 9.12843}, {'restaurant_id': 1744, 'lat': 45.49748, 'lng': 9.30687}, {'restaurant_id': 1745, 'lat': 45.46411, 'lng': 9.18778}, {'restaurant_id': 1746, 'lat': 45.45476, 'lng': 9.21771}, {'restaurant_id': 1747, 'lat': 45.46061, 'lng': 9.19395}, {'restaurant_id': 1748, 'lat': 45.45373, 'lng': 9.2247}, {'restaurant_id': 1749, 'lat': 45.45901, 'lng': 9.1728}, {'restaurant_id': 1750, 'lat': 45.44641, 'lng': 9.17696}, {'restaurant_id': 1751, 'lat': 45.51049, 'lng': 9.17584}, {'restaurant_id': 1752, 'lat': 45.4503, 'lng': 9.20491}, {'restaurant_id': 1753, 'lat': 45.43835, 'lng': 9.2}, {'restaurant_id': 1754, 'lat': 45.45504, 'lng': 9.14703}, {'restaurant_id': 1755, 'lat': 45.48065, 'lng': 9.17413}, {'restaurant_id': 1756, 'lat': 45.48656, 'lng': 9.15849}, {'restaurant_id': 1757, 'lat': 45.48956, 'lng': 9.18756}, {'restaurant_id': 1758, 'lat': 45.4838, 'lng': 9.20445}, {'restaurant_id': 1759, 'lat': 45.46012, 'lng': 9.16607}, {'restaurant_id': 1760, 'lat': 45.44954, 'lng': 9.1973}, {'restaurant_id': 1761, 'lat': 45.48458, 'lng': 9.21661}, {'restaurant_id': 1762, 'lat': 45.49099, 'lng': 9.14618}, {'restaurant_id': 1763, 'lat': 45.51412, 'lng': 9.20831}, {'restaurant_id': 1764, 'lat': 45.46323, 'lng': 9.18881}, {'restaurant_id': 1765, 'lat': 45.45103, 'lng': 9.17058}, {'restaurant_id': 1766, 'lat': 45.46208, 'lng': 9.20979}, {'restaurant_id': 1767, 'lat': 45.45391, 'lng': 9.16895}, {'restaurant_id': 1768, 'lat': 45.4808, 'lng': 9.23118}, {'restaurant_id': 1770, 'lat': 45.46237, 'lng': 9.18702}, {'restaurant_id': 1771, 'lat': 45.49778, 'lng': 9.10414}, {'restaurant_id': 1772, 'lat': 45.46221, 'lng': 9.19394}, {'restaurant_id': 1773, 'lat': 45.4645, 'lng': 9.1951}, {'restaurant_id': 1774, 'lat': 45.48085, 'lng': 9.18568}, {'restaurant_id': 1775, 'lat': 45.45996, 'lng': 9.18794}, {'restaurant_id': 1776, 'lat': 45.48863, 'lng': 9.11821}, {'restaurant_id': 1777, 'lat': 45.48385, 'lng': 9.18925}, {'restaurant_id': 1778, 'lat': 45.48123, 'lng': 9.18605}, {'restaurant_id': 1779, 'lat': 45.46166, 'lng': 9.24398}, {'restaurant_id': 1780, 'lat': 45.48298, 'lng': 9.1654}, {'restaurant_id': 1781, 'lat': 45.46537, 'lng': 9.19186}, {'restaurant_id': 1782, 'lat': 45.50438, 'lng': 9.22198}, {'restaurant_id': 1783, 'lat': 45.48266, 'lng': 9.23523}, {'restaurant_id': 1785, 'lat': 45.49185, 'lng': 9.19503}, {'restaurant_id': 1786, 'lat': 45.43657, 'lng': 9.20034}, {'restaurant_id': 1787, 'lat': 44.41447, 'lng': 8.91885}, {'restaurant_id': 1788, 'lat': 45.47503, 'lng': 9.21456}, {'restaurant_id': 1789, 'lat': 45.45517, 'lng': 9.16342}, {'restaurant_id': 1790, 'lat': 45.55672, 'lng': 9.09783}, {'restaurant_id': 1791, 'lat': 45.49147, 'lng': 9.18439}, {'restaurant_id': 1793, 'lat': 45.55609, 'lng': 9.15773}, {'restaurant_id': 1794, 'lat': 45.47923, 'lng': 9.1885}, {'restaurant_id': 1795, 'lat': 45.48217, 'lng': 9.18978}, {'restaurant_id': 1796, 'lat': 45.46891, 'lng': 9.17622}, {'restaurant_id': 1797, 'lat': 45.48604, 'lng': 9.20611}, {'restaurant_id': 1798, 'lat': 45.46771, 'lng': 9.18696}, {'restaurant_id': 1799, 'lat': 45.50793, 'lng': 9.20306}, {'restaurant_id': 1800, 'lat': 45.46821, 'lng': 9.19164}, {'restaurant_id': 1801, 'lat': 45.50717, 'lng': 9.20379}, {'restaurant_id': 1802, 'lat': 45.45442, 'lng': 9.15979}, {'restaurant_id': 1803, 'lat': 45.45196, 'lng': 9.20864}, {'restaurant_id': 1804, 'lat': 45.51615, 'lng': 9.20907}, {'restaurant_id': 1805, 'lat': 45.46081, 'lng': 9.19413}, {'restaurant_id': 1806, 'lat': 45.46052, 'lng': 9.09618}, {'restaurant_id': 1807, 'lat': 45.46909, 'lng': 9.19908}, {'restaurant_id': 1808, 'lat': 45.46625, 'lng': 9.19308}, {'restaurant_id': 1809, 'lat': 45.46979, 'lng': 9.20704}, {'restaurant_id': 1810, 'lat': 45.4764, 'lng': 9.18861}, {'restaurant_id': 1811, 'lat': 45.45303, 'lng': 9.17312}, {'restaurant_id': 1812, 'lat': 45.44939, 'lng': 9.16466}, {'restaurant_id': 1813, 'lat': 45.49557, 'lng': 9.19419}, {'restaurant_id': 1814, 'lat': 45.48906, 'lng': 9.2204}, {'restaurant_id': 1815, 'lat': 45.4838, 'lng': 9.20445}, {'restaurant_id': 1816, 'lat': 45.45549, 'lng': 9.16424}, {'restaurant_id': 1817, 'lat': 45.4941, 'lng': 9.2189}, {'restaurant_id': 1818, 'lat': 45.47738, 'lng': 9.20909}, {'restaurant_id': 1819, 'lat': 45.46102, 'lng': 9.24401}, {'restaurant_id': 1820, 'lat': 45.44088, 'lng': 9.15636}, {'restaurant_id': 1821, 'lat': 45.48706, 'lng': 9.21333}, {'restaurant_id': 1822, 'lat': 45.45402, 'lng': 9.2039}, {'restaurant_id': 1823, 'lat': 45.45776, 'lng': 9.17655}, {'restaurant_id': 1824, 'lat': 45.47497, 'lng': 9.14214}, {'restaurant_id': 1825, 'lat': 45.44899, 'lng': 9.13686}, {'restaurant_id': 1826, 'lat': 45.49444, 'lng': 9.2214}, {'restaurant_id': 1827, 'lat': 45.45272, 'lng': 9.21481}, {'restaurant_id': 1828, 'lat': 45.47385, 'lng': 9.21173}, {'restaurant_id': 1829, 'lat': 45.48326, 'lng': 9.20994}, {'restaurant_id': 1830, 'lat': 45.47164, 'lng': 9.10925}, {'restaurant_id': 1831, 'lat': 45.45337, 'lng': 9.15165}, {'restaurant_id': 1832, 'lat': 45.45744, 'lng': 9.21694}, {'restaurant_id': 1833, 'lat': 45.48738, 'lng': 9.19115}, {'restaurant_id': 1834, 'lat': 45.48623, 'lng': 9.1975}, {'restaurant_id': 1835, 'lat': 45.48006, 'lng': 9.20057}, {'restaurant_id': 1836, 'lat': 45.44734, 'lng': 9.17666}, {'restaurant_id': 1837, 'lat': 45.48681, 'lng': 8.95458}, {'restaurant_id': 1838, 'lat': 45.46611, 'lng': 9.15025}, {'restaurant_id': 1839, 'lat': 45.50869, 'lng': 9.02132}, {'restaurant_id': 1840, 'lat': 45.50402, 'lng': 9.16376}, {'restaurant_id': 1841, 'lat': 45.4659, 'lng': 9.16625}, {'restaurant_id': 1842, 'lat': 45.46819, 'lng': 9.12998}, {'restaurant_id': 1843, 'lat': 45.4623, 'lng': 9.2234}, {'restaurant_id': 1844, 'lat': 45.45061, 'lng': 9.20685}, {'restaurant_id': 1845, 'lat': 45.56902, 'lng': 9.07319}, {'restaurant_id': 1846, 'lat': 45.45315, 'lng': 9.17988}, {'restaurant_id': 1847, 'lat': 45.46157, 'lng': 9.13695}, {'restaurant_id': 1848, 'lat': 45.48755, 'lng': 9.19024}, {'restaurant_id': 1849, 'lat': 45.44798, 'lng': 9.13988}, {'restaurant_id': 1850, 'lat': 45.4777, 'lng': 9.15618}, {'restaurant_id': 1851, 'lat': 45.45043, 'lng': 9.17982}, {'restaurant_id': 1852, 'lat': 45.57984, 'lng': 8.79937}, {'restaurant_id': 1853, 'lat': 45.47032, 'lng': 9.22665}, {'restaurant_id': 1854, 'lat': 45.48261, 'lng': 9.19365}, {'restaurant_id': 1855, 'lat': 45.48237, 'lng': 9.23413}, {'restaurant_id': 1856, 'lat': 45.51171, 'lng': 9.17499}, {'restaurant_id': 1857, 'lat': 45.46946, 'lng': 9.17083}, {'restaurant_id': 1858, 'lat': 45.50265, 'lng': 9.23857}, {'restaurant_id': 1859, 'lat': 45.4669, 'lng': 9.16535}, {'restaurant_id': 1860, 'lat': 45.46061, 'lng': 9.19395}, {'restaurant_id': 1861, 'lat': 45.55143, 'lng': 8.96416}, {'restaurant_id': 1862, 'lat': 45.50927, 'lng': 9.13199}, {'restaurant_id': 1863, 'lat': 45.49003, 'lng': 9.21806}, {'restaurant_id': 1864, 'lat': 45.45979, 'lng': 9.18979}, {'restaurant_id': 1865, 'lat': 45.44764, 'lng': 9.18105}, {'restaurant_id': 1866, 'lat': 45.51823, 'lng': 9.47663}, {'restaurant_id': 1867, 'lat': 45.50384, 'lng': 9.1043}, {'restaurant_id': 1868, 'lat': 45.47497, 'lng': 9.12434}, {'restaurant_id': 1869, 'lat': 45.4935, 'lng': 9.21626}, {'restaurant_id': 1870, 'lat': 45.46369, 'lng': 9.19049}, {'restaurant_id': 1871, 'lat': 45.45118, 'lng': 9.18873}, {'restaurant_id': 1872, 'lat': 45.45947, 'lng': 9.1921}, {'restaurant_id': 1873, 'lat': 45.48607, 'lng': 9.18833}, {'restaurant_id': 1874, 'lat': 45.45104, 'lng': 9.19101}, {'restaurant_id': 1875, 'lat': 45.48232, 'lng': 9.23018}, {'restaurant_id': 1876, 'lat': 45.45066, 'lng': 9.17795}, {'restaurant_id': 1877, 'lat': 45.46162, 'lng': 9.18517}, {'restaurant_id': 1878, 'lat': 45.45733, 'lng': 9.16929}, {'restaurant_id': 1879, 'lat': 45.45759, 'lng': 9.21906}, {'restaurant_id': 1880, 'lat': 45.46446, 'lng': 9.13952}, {'restaurant_id': 1881, 'lat': 45.49697, 'lng': 9.17063}, {'restaurant_id': 1882, 'lat': 45.47018, 'lng': 9.22752}, {'restaurant_id': 1883, 'lat': 45.46716, 'lng': 9.18593}, {'restaurant_id': 1884, 'lat': 45.45606, 'lng': 9.21765}, {'restaurant_id': 1885, 'lat': 45.46041, 'lng': 9.17662}, {'restaurant_id': 1887, 'lat': 45.47596, 'lng': 9.2075}, {'restaurant_id': 1888, 'lat': 45.46757, 'lng': 9.20659}, {'restaurant_id': 1889, 'lat': 45.43752, 'lng': 9.15889}, {'restaurant_id': 1890, 'lat': 45.46686, 'lng': 9.19462}, {'restaurant_id': 1891, 'lat': 45.45589, 'lng': 9.16264}, {'restaurant_id': 1893, 'lat': 45.50157, 'lng': 9.22852}, {'restaurant_id': 1894, 'lat': 45.52341, 'lng': 9.16153}, {'restaurant_id': 1895, 'lat': 45.45727, 'lng': 9.18739}, {'restaurant_id': 1896, 'lat': 45.48571, 'lng': 9.23317}, {'restaurant_id': 1897, 'lat': 45.47751, 'lng': 9.09096}, {'restaurant_id': 1898, 'lat': 44.41447, 'lng': 8.91885}, {'restaurant_id': 1899, 'lat': 45.48163, 'lng': 9.20052}, {'restaurant_id': 1900, 'lat': 45.4488, 'lng': 9.14238}, {'restaurant_id': 1901, 'lat': 45.46336, 'lng': 9.20822}, {'restaurant_id': 1902, 'lat': 45.46529, 'lng': 9.18445}, {'restaurant_id': 1903, 'lat': 45.49238, 'lng': 9.23119}, {'restaurant_id': 1904, 'lat': 45.45577, 'lng': 9.18059}, {'restaurant_id': 1905, 'lat': 45.44855, 'lng': 9.13932}, {'restaurant_id': 1906, 'lat': 45.47937, 'lng': 8.86609}, {'restaurant_id': 1907, 'lat': 45.49075, 'lng': 9.15056}, {'restaurant_id': 1908, 'lat': 45.4414, 'lng': 9.20011}, {'restaurant_id': 1909, 'lat': 45.4665, 'lng': 9.16482}, {'restaurant_id': 1910, 'lat': 45.48613, 'lng': 9.14237}, {'restaurant_id': 1911, 'lat': 45.44383, 'lng': 9.1279}, {'restaurant_id': 1912, 'lat': 45.48189, 'lng': 9.20189}, {'restaurant_id': 1913, 'lat': 45.50925, 'lng': 9.13175}, {'restaurant_id': 1914, 'lat': 45.50032, 'lng': 9.1296}, {'restaurant_id': 1915, 'lat': 45.45104, 'lng': 9.19614}, {'restaurant_id': 1916, 'lat': 45.4628, 'lng': 9.19706}, {'restaurant_id': 1917, 'lat': 45.4795, 'lng': 9.14591}, {'restaurant_id': 1918, 'lat': 45.4662, 'lng': 9.17609}, {'restaurant_id': 1919, 'lat': 45.47284, 'lng': 9.23254}, {'restaurant_id': 1920, 'lat': 45.49306, 'lng': 9.14835}, {'restaurant_id': 1921, 'lat': 45.46638, 'lng': 9.1978}, {'restaurant_id': 1922, 'lat': 45.44914, 'lng': 9.17962}, {'restaurant_id': 1923, 'lat': 45.50364, 'lng': 9.17456}, {'restaurant_id': 1924, 'lat': 45.44198, 'lng': 9.15503}, {'restaurant_id': 1925, 'lat': 45.56465, 'lng': 8.95663}, {'restaurant_id': 1926, 'lat': 45.4483, 'lng': 9.19807}, {'restaurant_id': 1927, 'lat': 45.48176, 'lng': 9.17584}, {'restaurant_id': 1928, 'lat': 45.46758, 'lng': 9.17346}, {'restaurant_id': 1929, 'lat': 45.43712, 'lng': 9.1784}, {'restaurant_id': 1930, 'lat': 45.45667, 'lng': 9.18728}, {'restaurant_id': 1931, 'lat': 45.51542, 'lng': 9.17245}, {'restaurant_id': 1932, 'lat': 45.46701, 'lng': 9.20217}, {'restaurant_id': 1933, 'lat': 45.47645, 'lng': 9.17071}, {'restaurant_id': 1934, 'lat': 45.46397, 'lng': 9.22798}, {'restaurant_id': 1935, 'lat': 45.46644, 'lng': 9.19297}, {'restaurant_id': 1936, 'lat': 45.48621, 'lng': 9.23195}, {'restaurant_id': 1937, 'lat': 45.5891, 'lng': 8.92491}, {'restaurant_id': 1938, 'lat': 45.45822, 'lng': 9.2167}, {'restaurant_id': 1939, 'lat': 45.48, 'lng': 9.16594}, {'restaurant_id': 1940, 'lat': 45.4626, 'lng': 9.19293}, {'restaurant_id': 1941, 'lat': 45.46422, 'lng': 9.16113}, {'restaurant_id': 1942, 'lat': 45.48743, 'lng': 9.16734}, {'restaurant_id': 1943, 'lat': 45.47913, 'lng': 9.18564}, {'restaurant_id': 1944, 'lat': 45.4454, 'lng': 9.16169}, {'restaurant_id': 1945, 'lat': 45.46758, 'lng': 9.1751}, {'restaurant_id': 1946, 'lat': 45.46562, 'lng': 9.19833}, {'restaurant_id': 1948, 'lat': 45.43748, 'lng': 9.20003}, {'restaurant_id': 1949, 'lat': 45.52843, 'lng': 9.17322}, {'restaurant_id': 1950, 'lat': 45.52374, 'lng': 9.17396}, {'restaurant_id': 1951, 'lat': 45.4829, 'lng': 9.20084}, {'restaurant_id': 1952, 'lat': 45.47134, 'lng': 9.18433}, {'restaurant_id': 1953, 'lat': 45.4548, 'lng': 9.20433}, {'restaurant_id': 1954, 'lat': 45.46645, 'lng': 9.16245}, {'restaurant_id': 1955, 'lat': 45.51869, 'lng': 9.17034}, {'restaurant_id': 1956, 'lat': 45.4829, 'lng': 9.16591}, {'restaurant_id': 1957, 'lat': 45.45845, 'lng': 9.1545}, {'restaurant_id': 1958, 'lat': 45.44916, 'lng': 9.1776}, {'restaurant_id': 1959, 'lat': 45.45281, 'lng': 9.1742}, {'restaurant_id': 1960, 'lat': 45.46107, 'lng': 9.17276}, {'restaurant_id': 1961, 'lat': 45.51457, 'lng': 9.17302}, {'restaurant_id': 1962, 'lat': 45.52292, 'lng': 9.21549}, {'restaurant_id': 1963, 'lat': 45.47812, 'lng': 8.88171}, {'restaurant_id': 1964, 'lat': 45.46093, 'lng': 9.14191}, {'restaurant_id': 1965, 'lat': 45.48618, 'lng': 9.12921}, {'restaurant_id': 1966, 'lat': 45.48857, 'lng': 9.22374}, {'restaurant_id': 1967, 'lat': 45.51529, 'lng': 9.21169}, {'restaurant_id': 1968, 'lat': 45.45683, 'lng': 9.14787}, {'restaurant_id': 1970, 'lat': 45.47881, 'lng': 9.20329}, {'restaurant_id': 1971, 'lat': 45.45479, 'lng': 9.16096}, {'restaurant_id': 1972, 'lat': 45.4729, 'lng': 9.18739}, {'restaurant_id': 1973, 'lat': 45.4819, 'lng': 9.19891}, {'restaurant_id': 1974, 'lat': 45.50103, 'lng': 9.41693}, {'restaurant_id': 1975, 'lat': 45.45336, 'lng': 9.20895}, {'restaurant_id': 1976, 'lat': 45.43612, 'lng': 9.24083}, {'restaurant_id': 1977, 'lat': 45.4777, 'lng': 9.15618}, {'restaurant_id': 1978, 'lat': 45.49869, 'lng': 9.16786}, {'restaurant_id': 1980, 'lat': 45.41889, 'lng': 9.17494}, {'restaurant_id': 1981, 'lat': 45.46238, 'lng': 9.21284}, {'restaurant_id': 1982, 'lat': 45.48987, 'lng': 9.18346}, {'restaurant_id': 1983, 'lat': 45.56935, 'lng': 9.46015}, {'restaurant_id': 1984, 'lat': 45.46491, 'lng': 9.23232}, {'restaurant_id': 1985, 'lat': 45.49526, 'lng': 9.19387}, {'restaurant_id': 1986, 'lat': 45.47715, 'lng': 9.20692}, {'restaurant_id': 1987, 'lat': 45.46357, 'lng': 9.1993}, {'restaurant_id': 1988, 'lat': 45.45577, 'lng': 9.18059}, {'restaurant_id': 1989, 'lat': 45.43166, 'lng': 9.181}, {'restaurant_id': 1990, 'lat': 45.43678, 'lng': 9.15405}, {'restaurant_id': 1991, 'lat': 45.4959, 'lng': 9.21983}, {'restaurant_id': 1992, 'lat': 45.45808, 'lng': 9.21217}, {'restaurant_id': 1993, 'lat': 45.66513, 'lng': 9.12096}, {'restaurant_id': 1994, 'lat': 45.48725, 'lng': 9.20093}, {'restaurant_id': 1995, 'lat': 45.45512, 'lng': 9.2015}, {'restaurant_id': 1996, 'lat': 45.44543, 'lng': 9.12334}, {'restaurant_id': 1997, 'lat': 45.47477, 'lng': 9.1393}, {'restaurant_id': 1998, 'lat': 45.48046, 'lng': 9.23403}, {'restaurant_id': 1999, 'lat': 45.45577, 'lng': 9.18059}, {'restaurant_id': 2000, 'lat': 45.46148, 'lng': 9.13581}, {'restaurant_id': 2001, 'lat': 45.46057, 'lng': 9.20836}, {'restaurant_id': 2002, 'lat': 45.4675, 'lng': 9.13884}, {'restaurant_id': 2003, 'lat': 45.46388, 'lng': 9.15241}, {'restaurant_id': 2004, 'lat': 45.48158, 'lng': 9.18735}, {'restaurant_id': 2005, 'lat': 45.45315, 'lng': 9.16698}, {'restaurant_id': 2006, 'lat': 45.4742, 'lng': 9.19467}, {'restaurant_id': 2007, 'lat': 45.46854, 'lng': 9.13359}, {'restaurant_id': 2008, 'lat': 45.39219, 'lng': 8.92012}, {'restaurant_id': 2009, 'lat': 45.45221, 'lng': 9.21437}, {'restaurant_id': 2011, 'lat': 45.4769, 'lng': 9.21454}, {'restaurant_id': 2012, 'lat': 45.4829, 'lng': 9.16591}, {'restaurant_id': 2013, 'lat': 45.48403, 'lng': 9.20469}, {'restaurant_id': 2014, 'lat': 45.44357, 'lng': 9.21636}, {'restaurant_id': 2015, 'lat': 45.51024, 'lng': 9.17637}, {'restaurant_id': 2016, 'lat': 45.49759, 'lng': 9.14185}, {'restaurant_id': 2017, 'lat': 45.44436, 'lng': 9.2164}, {'restaurant_id': 2018, 'lat': 45.45302, 'lng': 9.17143}, {'restaurant_id': 2019, 'lat': 45.48139, 'lng': 9.23634}, {'restaurant_id': 2020, 'lat': 45.49105, 'lng': 9.2392}, {'restaurant_id': 2021, 'lat': 45.47333, 'lng': 9.19565}, {'restaurant_id': 2022, 'lat': 45.46563, 'lng': 9.18491}, {'restaurant_id': 2023, 'lat': 45.46637, 'lng': 9.15967}, {'restaurant_id': 2024, 'lat': 45.51608, 'lng': 9.12743}, {'restaurant_id': 2025, 'lat': 45.51176, 'lng': 9.22409}, {'restaurant_id': 2026, 'lat': 45.47105, 'lng': 9.22927}, {'restaurant_id': 2027, 'lat': 45.4753, 'lng': 9.18915}, {'restaurant_id': 2028, 'lat': 45.38776, 'lng': 8.98683}, {'restaurant_id': 2030, 'lat': 45.49626, 'lng': 9.14065}, {'restaurant_id': 2031, 'lat': 45.45916, 'lng': 9.1474}, {'restaurant_id': 2032, 'lat': 45.52093, 'lng': 9.16937}, {'restaurant_id': 2033, 'lat': 45.45284, 'lng': 9.20326}, {'restaurant_id': 2034, 'lat': 45.47797, 'lng': 9.14772}, {'restaurant_id': 2035, 'lat': 45.45234, 'lng': 9.15935}, {'restaurant_id': 2036, 'lat': 45.47553, 'lng': 9.20546}, {'restaurant_id': 2037, 'lat': 45.4783, 'lng': 9.18521}, {'restaurant_id': 2038, 'lat': 45.44318, 'lng': 9.21265}, {'restaurant_id': 2039, 'lat': 45.4833, 'lng': 9.18888}, {'restaurant_id': 2040, 'lat': 45.4683, 'lng': 9.15615}, {'restaurant_id': 2041, 'lat': 45.55641, 'lng': 8.95267}, {'restaurant_id': 2042, 'lat': 45.46272, 'lng': 9.20739}, {'restaurant_id': 2043, 'lat': 45.44832, 'lng': 9.14166}, {'restaurant_id': 2044, 'lat': 45.4777, 'lng': 9.15618}, {'restaurant_id': 2045, 'lat': 45.47561, 'lng': 9.20462}, {'restaurant_id': 2046, 'lat': 45.49452, 'lng': 9.21047}, {'restaurant_id': 2047, 'lat': 45.48957, 'lng': 9.18698}, {'restaurant_id': 2048, 'lat': 45.50606, 'lng': 9.26786}, {'restaurant_id': 2049, 'lat': 45.50435, 'lng': 9.18017}, {'restaurant_id': 2050, 'lat': 45.48422, 'lng': 9.23595}, {'restaurant_id': 2051, 'lat': 45.48043, 'lng': 9.17377}, {'restaurant_id': 2052, 'lat': 45.46331, 'lng': 9.18934}, {'restaurant_id': 2053, 'lat': 45.49039, 'lng': 9.1503}, {'restaurant_id': 2054, 'lat': 45.46783, 'lng': 9.18706}, {'restaurant_id': 2055, 'lat': 45.46551, 'lng': 9.17611}, {'restaurant_id': 2056, 'lat': 45.49127, 'lng': 9.18777}, {'restaurant_id': 2057, 'lat': 45.4549, 'lng': 9.21645}, {'restaurant_id': 2058, 'lat': 45.45535, 'lng': 9.19676}, {'restaurant_id': 2059, 'lat': 45.46675, 'lng': 9.2114}, {'restaurant_id': 2061, 'lat': 45.48492, 'lng': 9.21529}, {'restaurant_id': 2062, 'lat': 45.46609, 'lng': 9.18573}, {'restaurant_id': 2063, 'lat': 45.46655, 'lng': 9.15156}, {'restaurant_id': 2064, 'lat': 45.46859, 'lng': 9.19132}, {'restaurant_id': 2065, 'lat': 45.49378, 'lng': 9.15761}, {'restaurant_id': 2066, 'lat': 45.46732, 'lng': 9.18435}, {'restaurant_id': 2067, 'lat': 45.45096, 'lng': 9.14271}, {'restaurant_id': 2068, 'lat': 45.47261, 'lng': 9.20986}, {'restaurant_id': 2069, 'lat': 45.46565, 'lng': 9.15852}, {'restaurant_id': 2070, 'lat': 45.49173, 'lng': 9.16109}, {'restaurant_id': 2071, 'lat': 45.4389, 'lng': 9.15834}, {'restaurant_id': 2072, 'lat': 45.49499, 'lng': 9.23753}, {'restaurant_id': 2073, 'lat': 45.48109, 'lng': 9.21149}, {'restaurant_id': 2074, 'lat': 45.44945, 'lng': 9.21682}, {'restaurant_id': 2075, 'lat': 45.51615, 'lng': 9.20907}, {'restaurant_id': 2076, 'lat': 45.45781, 'lng': 9.1219}, {'restaurant_id': 2077, 'lat': 45.50615, 'lng': 9.2458}, {'restaurant_id': 2078, 'lat': 45.48698, 'lng': 9.07808}, {'restaurant_id': 2079, 'lat': 45.48304, 'lng': 9.18172}, {'restaurant_id': 2080, 'lat': 45.48571, 'lng': 9.23317}, {'restaurant_id': 2081, 'lat': 45.4742, 'lng': 9.19467}, {'restaurant_id': 2082, 'lat': 45.50211, 'lng': 9.12441}, {'restaurant_id': 2083, 'lat': 45.49038, 'lng': 9.21816}, {'restaurant_id': 2085, 'lat': 45.47091, 'lng': 9.20119}, {'restaurant_id': 2086, 'lat': 45.45725, 'lng': 9.20784}, {'restaurant_id': 2087, 'lat': 45.47826, 'lng': 9.16034}, {'restaurant_id': 2088, 'lat': 45.45588, 'lng': 9.19636}, {'restaurant_id': 2089, 'lat': 45.45103, 'lng': 9.19484}, {'restaurant_id': 2090, 'lat': 45.57333, 'lng': 8.03947}, {'restaurant_id': 2091, 'lat': 45.51546, 'lng': 9.21115}, {'restaurant_id': 2092, 'lat': 45.51462, 'lng': 9.21158}, {'restaurant_id': 2093, 'lat': 45.4662, 'lng': 9.22419}, {'restaurant_id': 2094, 'lat': 45.47664, 'lng': 9.18151}, {'restaurant_id': 2095, 'lat': 45.4501, 'lng': 9.16738}, {'restaurant_id': 2096, 'lat': 45.46115, 'lng': 9.19664}, {'restaurant_id': 2097, 'lat': 39.390897, 'lng': -99.066067}, {'restaurant_id': 2098, 'lat': 45.51462, 'lng': 9.21158}, {'restaurant_id': 2099, 'lat': 45.44304, 'lng': 9.13902}, {'restaurant_id': 2100, 'lat': 45.49171, 'lng': 9.2053}, {'restaurant_id': 2101, 'lat': 45.5001, 'lng': 9.18349}, {'restaurant_id': 2102, 'lat': 45.44467, 'lng': 9.15491}, {'restaurant_id': 2103, 'lat': 45.47895, 'lng': 9.14826}, {'restaurant_id': 2104, 'lat': 45.49545, 'lng': 9.19017}, {'restaurant_id': 2105, 'lat': 45.49555, 'lng': 9.17217}, {'restaurant_id': 2106, 'lat': 45.48879, 'lng': 9.20323}, {'restaurant_id': 2107, 'lat': 45.45456, 'lng': 9.20421}, {'restaurant_id': 2108, 'lat': 45.46724, 'lng': 9.15495}, {'restaurant_id': 2109, 'lat': 45.46851, 'lng': 8.89214}, {'restaurant_id': 2110, 'lat': 45.48555, 'lng': 9.16135}, {'restaurant_id': 2111, 'lat': 45.45946, 'lng': 9.16606}, {'restaurant_id': 2112, 'lat': 45.48597, 'lng': 9.22907}, {'restaurant_id': 2113, 'lat': 45.50534, 'lng': 9.22274}, {'restaurant_id': 2114, 'lat': 45.4453, 'lng': 9.21309}, {'restaurant_id': 2115, 'lat': 45.47674, 'lng': 9.18409}, {'restaurant_id': 2116, 'lat': 45.4777, 'lng': 9.15618}, {'restaurant_id': 2117, 'lat': 45.96209, 'lng': 12.9632}, {'restaurant_id': 2118, 'lat': 45.48899, 'lng': 9.21302}, {'restaurant_id': 2119, 'lat': 45.46897, 'lng': 9.21135}, {'restaurant_id': 2120, 'lat': 45.46655, 'lng': 9.17676}, {'restaurant_id': 2121, 'lat': 45.49169, 'lng': 9.23552}, {'restaurant_id': 2122, 'lat': 45.45637, 'lng': 9.14223}, {'restaurant_id': 2123, 'lat': 45.45625, 'lng': 9.18549}, {'restaurant_id': 2124, 'lat': 45.46687, 'lng': 9.14576}, {'restaurant_id': 2125, 'lat': 45.51819, 'lng': 9.20836}, {'restaurant_id': 2126, 'lat': 45.45105, 'lng': 9.20349}, {'restaurant_id': 2127, 'lat': 45.48886, 'lng': 9.19339}, {'restaurant_id': 2128, 'lat': 45.49594, 'lng': 9.19238}, {'restaurant_id': 2129, 'lat': 45.49083, 'lng': 9.18388}, {'restaurant_id': 2130, 'lat': 45.46061, 'lng': 9.19395}, {'restaurant_id': 2131, 'lat': 45.4755, 'lng': 9.22336}, {'restaurant_id': 2132, 'lat': 45.46945, 'lng': 9.24371}, {'restaurant_id': 2133, 'lat': 45.51043, 'lng': 9.21874}, {'restaurant_id': 2134, 'lat': 45.44711, 'lng': 9.1537}, {'restaurant_id': 2135, 'lat': 45.47916, 'lng': 9.182}, {'restaurant_id': 2136, 'lat': 45.43723, 'lng': 9.21701}, {'restaurant_id': 2137, 'lat': 45.47645, 'lng': 9.2056}, {'restaurant_id': 2138, 'lat': 45.45432, 'lng': 9.17352}, {'restaurant_id': 2139, 'lat': 45.50489, 'lng': 9.10511}, {'restaurant_id': 2140, 'lat': 45.46568, 'lng': 9.18204}, {'restaurant_id': 2141, 'lat': 45.50643, 'lng': 9.16004}, {'restaurant_id': 2142, 'lat': 45.48919, 'lng': 9.1872}, {'restaurant_id': 2143, 'lat': 45.44433, 'lng': 9.26249}, {'restaurant_id': 2144, 'lat': 45.45723, 'lng': 9.21276}, {'restaurant_id': 2145, 'lat': 45.41221, 'lng': 9.17411}, {'restaurant_id': 2146, 'lat': 45.45451, 'lng': 9.13412}, {'restaurant_id': 2147, 'lat': 45.51591, 'lng': 9.24581}, {'restaurant_id': 2148, 'lat': 45.48579, 'lng': 9.16307}, {'restaurant_id': 2149, 'lat': 45.49967, 'lng': 9.22391}, {'restaurant_id': 2150, 'lat': 45.46326, 'lng': 9.18378}, {'restaurant_id': 2151, 'lat': 45.47491, 'lng': 9.21129}, {'restaurant_id': 2152, 'lat': 45.47218, 'lng': 9.2289}, {'restaurant_id': 2153, 'lat': 45.45772, 'lng': 9.19297}, {'restaurant_id': 2154, 'lat': 45.40252, 'lng': 9.14773}, {'restaurant_id': 2155, 'lat': 45.45646, 'lng': 9.1954}, {'restaurant_id': 2157, 'lat': 45.45298, 'lng': 9.17189}, {'restaurant_id': 2158, 'lat': 45.45889, 'lng': 9.21105}, {'restaurant_id': 2159, 'lat': 45.48201, 'lng': 9.20091}, {'restaurant_id': 2160, 'lat': 45.44383, 'lng': 9.21508}, {'restaurant_id': 2161, 'lat': 45.46028, 'lng': 9.21017}, {'restaurant_id': 2162, 'lat': 45.48262, 'lng': 9.16681}, {'restaurant_id': 2163, 'lat': 45.46614, 'lng': 9.19168}, {'restaurant_id': 2164, 'lat': 45.46402, 'lng': 9.19641}, {'restaurant_id': 2165, 'lat': 45.46593, 'lng': 9.17678}, {'restaurant_id': 2166, 'lat': 45.45998, 'lng': 9.17552}, {'restaurant_id': 2167, 'lat': 45.45807, 'lng': 9.18811}, {'restaurant_id': 2168, 'lat': 45.46032, 'lng': 9.20513}, {'restaurant_id': 2169, 'lat': 45.48912, 'lng': 9.19143}, {'restaurant_id': 2170, 'lat': 45.43101, 'lng': 9.17263}, {'restaurant_id': 2171, 'lat': 45.44391, 'lng': 9.19623}, {'restaurant_id': 2172, 'lat': 45.45636, 'lng': 9.18745}, {'restaurant_id': 2173, 'lat': 45.51601, 'lng': 9.16911}, {'restaurant_id': 2174, 'lat': 45.48158, 'lng': 9.17765}, {'restaurant_id': 2175, 'lat': 45.4782, 'lng': 9.20021}, {'restaurant_id': 2176, 'lat': 45.47448, 'lng': 8.94267}, {'restaurant_id': 2177, 'lat': 45.4753, 'lng': 9.20763}, {'restaurant_id': 2178, 'lat': 45.50301, 'lng': 9.17975}, {'restaurant_id': 2179, 'lat': 45.45303, 'lng': 9.1742}, {'restaurant_id': 2180, 'lat': 45.47134, 'lng': 9.18433}, {'restaurant_id': 2181, 'lat': 45.43994, 'lng': 9.19969}, {'restaurant_id': 2182, 'lat': 45.48547, 'lng': 9.23528}, {'restaurant_id': 2183, 'lat': 45.47875, 'lng': 9.1747}, {'restaurant_id': 2184, 'lat': 45.46471, 'lng': 9.15899}, {'restaurant_id': 2185, 'lat': 45.48912, 'lng': 9.18286}, {'restaurant_id': 2186, 'lat': 45.49187, 'lng': 9.18892}, {'restaurant_id': 2187, 'lat': 45.46196, 'lng': 9.15469}, {'restaurant_id': 2188, 'lat': 43.3445, 'lng': 12.58464}, {'restaurant_id': 2189, 'lat': 45.44845, 'lng': 9.11838}, {'restaurant_id': 2190, 'lat': 45.44623, 'lng': 9.16382}, {'restaurant_id': 2191, 'lat': 45.51555, 'lng': 9.17065}, {'restaurant_id': 2192, 'lat': 45.47162, 'lng': 9.22984}, {'restaurant_id': 2193, 'lat': 45.449, 'lng': 9.19743}, {'restaurant_id': 2194, 'lat': 45.45762, 'lng': 9.18166}, {'restaurant_id': 2195, 'lat': 45.48137, 'lng': 9.18554}, {'restaurant_id': 2196, 'lat': 45.45398, 'lng': 9.16389}, {'restaurant_id': 2197, 'lat': 45.49286, 'lng': 9.11122}, {'restaurant_id': 2198, 'lat': 45.49526, 'lng': 9.19387}, {'restaurant_id': 2199, 'lat': 45.51057, 'lng': 9.13733}, {'restaurant_id': 2200, 'lat': 45.52286, 'lng': 9.20857}, {'restaurant_id': 2201, 'lat': 45.47093, 'lng': 9.15979}, {'restaurant_id': 2202, 'lat': 45.46421, 'lng': 9.18854}, {'restaurant_id': 2204, 'lat': 45.46349, 'lng': 9.18396}, {'restaurant_id': 2205, 'lat': 45.46257, 'lng': 9.21022}, {'restaurant_id': 2206, 'lat': 45.44396, 'lng': 9.21648}, {'restaurant_id': 2208, 'lat': 45.51615, 'lng': 9.20907}, {'restaurant_id': 2209, 'lat': 45.47875, 'lng': 9.16287}, {'restaurant_id': 2210, 'lat': 45.48423, 'lng': 9.22559}, {'restaurant_id': 2211, 'lat': 45.48295, 'lng': 9.22339}, {'restaurant_id': 2212, 'lat': 45.48694, 'lng': 9.16742}, {'restaurant_id': 2214, 'lat': 45.49752, 'lng': 9.11367}, {'restaurant_id': 2215, 'lat': 45.45576, 'lng': 9.18754}, {'restaurant_id': 2216, 'lat': 45.50842, 'lng': 9.22417}, {'restaurant_id': 2217, 'lat': 45.44379, 'lng': 9.15169}, {'restaurant_id': 2218, 'lat': 45.47835, 'lng': 9.20919}, {'restaurant_id': 2219, 'lat': 45.48026, 'lng': 9.21265}, {'restaurant_id': 2220, 'lat': 45.46722, 'lng': 9.14567}, {'restaurant_id': 2221, 'lat': 45.48231, 'lng': 9.17862}, {'restaurant_id': 2222, 'lat': 45.48776, 'lng': 9.19861}, {'restaurant_id': 2223, 'lat': 45.49861, 'lng': 9.19666}, {'restaurant_id': 2224, 'lat': 45.4761, 'lng': 9.17052}, {'restaurant_id': 2225, 'lat': 45.45129, 'lng': 9.17178}, {'restaurant_id': 2226, 'lat': 45.44515, 'lng': 9.14453}, {'restaurant_id': 2227, 'lat': 45.50337, 'lng': 9.16324}, {'restaurant_id': 2228, 'lat': 45.50275, 'lng': 9.1635}, {'restaurant_id': 2229, 'lat': 45.44948, 'lng': 9.20656}, {'restaurant_id': 2230, 'lat': 45.48278, 'lng': 9.19806}, {'restaurant_id': 2231, 'lat': 45.53811, 'lng': 9.23761}, {'restaurant_id': 2232, 'lat': 45.46868, 'lng': 9.19029}, {'restaurant_id': 2233, 'lat': 45.48214, 'lng': 9.20008}, {'restaurant_id': 2234, 'lat': 45.47561, 'lng': 9.20462}, {'restaurant_id': 2235, 'lat': 45.60812, 'lng': 9.51978}, {'restaurant_id': 2236, 'lat': 45.46397, 'lng': 9.1785}, {'restaurant_id': 2238, 'lat': 45.48886, 'lng': 9.14913}, {'restaurant_id': 2239, 'lat': 45.49032, 'lng': 9.21483}, {'restaurant_id': 2240, 'lat': 45.471228, 'lng': 9.120635}, {'restaurant_id': 2241, 'lat': 45.47623, 'lng': 9.08691}, {'restaurant_id': 2242, 'lat': 45.47838, 'lng': 9.18796}, {'restaurant_id': 2243, 'lat': 45.47325, 'lng': 9.22445}, {'restaurant_id': 2244, 'lat': 45.50111, 'lng': 9.41666}, {'restaurant_id': 2246, 'lat': 45.48061, 'lng': 9.19854}, {'restaurant_id': 2247, 'lat': 45.46008, 'lng': 9.20289}, {'restaurant_id': 2248, 'lat': 45.46949, 'lng': 9.15621}, {'restaurant_id': 2249, 'lat': 45.47363, 'lng': 9.18716}, {'restaurant_id': 2250, 'lat': 45.5021, 'lng': 9.16542}, {'restaurant_id': 2251, 'lat': 45.4712, 'lng': 9.2452}, {'restaurant_id': 2252, 'lat': 45.50039, 'lng': 9.23539}, {'restaurant_id': 2253, 'lat': 45.44438, 'lng': 9.11709}, {'restaurant_id': 2254, 'lat': 45.46769, 'lng': 9.12922}, {'restaurant_id': 2255, 'lat': 45.48517, 'lng': 9.23106}, {'restaurant_id': 2256, 'lat': 45.45038, 'lng': 9.15513}, {'restaurant_id': 2257, 'lat': 45.49786, 'lng': 9.208}, {'restaurant_id': 2258, 'lat': 45.47644, 'lng': 9.19084}, {'restaurant_id': 2259, 'lat': 45.46681, 'lng': 8.9204}, {'restaurant_id': 2260, 'lat': 45.51599, 'lng': 9.17354}, {'restaurant_id': 2261, 'lat': 45.47198, 'lng': 9.20195}, {'restaurant_id': 2262, 'lat': 45.48381, 'lng': 9.20381}, {'restaurant_id': 2263, 'lat': 45.42846, 'lng': 9.20235}, {'restaurant_id': 2264, 'lat': 45.49723, 'lng': 8.87}, {'restaurant_id': 2265, 'lat': 45.45868, 'lng': 9.21048}, {'restaurant_id': 2268, 'lat': 45.49084, 'lng': 9.22493}, {'restaurant_id': 2269, 'lat': 45.4771, 'lng': 9.20622}, {'restaurant_id': 2270, 'lat': 45.48347, 'lng': 9.20293}, {'restaurant_id': 2271, 'lat': 45.47351, 'lng': 9.11754}, {'restaurant_id': 2272, 'lat': 45.47294, 'lng': 9.19489}, {'restaurant_id': 2273, 'lat': 45.49014, 'lng': 9.18343}, {'restaurant_id': 2274, 'lat': 45.45231, 'lng': 9.25302}, {'restaurant_id': 2275, 'lat': 45.44445, 'lng': 9.1825}, {'restaurant_id': 2276, 'lat': 45.48334, 'lng': 9.18912}, {'restaurant_id': 2277, 'lat': 45.47491, 'lng': 9.14435}, {'restaurant_id': 2278, 'lat': 45.4728, 'lng': 9.23308}, {'restaurant_id': 2279, 'lat': 45.47988, 'lng': 9.1284}, {'restaurant_id': 2280, 'lat': 45.45084, 'lng': 9.19004}, {'restaurant_id': 2281, 'lat': 45.48637, 'lng': 9.1869}, {'restaurant_id': 2282, 'lat': 45.44282, 'lng': 9.21882}, {'restaurant_id': 2283, 'lat': 45.47836, 'lng': 9.17632}, {'restaurant_id': 2284, 'lat': 45.47769, 'lng': 9.2063}, {'restaurant_id': 2286, 'lat': 45.49859, 'lng': 9.16731}, {'restaurant_id': 2287, 'lat': 45.48715, 'lng': 9.21175}, {'restaurant_id': 2288, 'lat': 45.49906, 'lng': 9.42296}, {'restaurant_id': 2289, 'lat': 45.46656, 'lng': 9.19764}, {'restaurant_id': 2290, 'lat': 45.45164, 'lng': 9.17927}, {'restaurant_id': 2291, 'lat': 45.48091, 'lng': 9.22497}, {'restaurant_id': 2292, 'lat': 45.47421, 'lng': 9.21494}, {'restaurant_id': 2293, 'lat': 45.46904, 'lng': 9.1882}, {'restaurant_id': 2294, 'lat': 45.48896, 'lng': 9.18279}, {'restaurant_id': 2295, 'lat': 45.44175, 'lng': 9.17402}, {'restaurant_id': 2296, 'lat': 45.46552, 'lng': 9.17554}, {'restaurant_id': 2297, 'lat': 45.44036, 'lng': 9.17871}, {'restaurant_id': 2298, 'lat': 44.72615, 'lng': 8.45251}, {'restaurant_id': 2300, 'lat': 45.47632, 'lng': 9.22527}, {'restaurant_id': 2301, 'lat': 45.48585, 'lng': 9.20307}, {'restaurant_id': 2302, 'lat': 45.54632, 'lng': 8.95183}, {'restaurant_id': 2303, 'lat': 45.49474, 'lng': 9.18555}, {'restaurant_id': 2304, 'lat': 45.46571, 'lng': 9.20984}, {'restaurant_id': 2305, 'lat': 45.46625, 'lng': 9.19308}, {'restaurant_id': 2306, 'lat': 45.46563, 'lng': 9.19147}, {'restaurant_id': 2307, 'lat': 45.48585, 'lng': 9.20307}, {'restaurant_id': 2308, 'lat': 45.4843, 'lng': 9.21446}, {'restaurant_id': 2309, 'lat': 45.46836, 'lng': 9.22278}, {'restaurant_id': 2310, 'lat': 45.4363, 'lng': 9.21786}, {'restaurant_id': 2311, 'lat': 45.47432, 'lng': 9.18358}, {'restaurant_id': 2312, 'lat': 45.48032, 'lng': 9.18636}, {'restaurant_id': 2313, 'lat': 45.47284, 'lng': 9.23254}, {'restaurant_id': 2314, 'lat': 45.31172, 'lng': 8.87606}, {'restaurant_id': 2316, 'lat': 45.51992, 'lng': 8.8508}, {'restaurant_id': 2317, 'lat': 45.43371, 'lng': 9.20087}, {'restaurant_id': 2318, 'lat': 45.49141, 'lng': 9.19175}, {'restaurant_id': 2319, 'lat': 45.45214, 'lng': 9.21607}, {'restaurant_id': 2320, 'lat': 45.5141, 'lng': 9.22494}, {'restaurant_id': 2321, 'lat': 45.46469, 'lng': 9.19073}, {'restaurant_id': 2322, 'lat': 45.42628, 'lng': 9.16991}, {'restaurant_id': 2323, 'lat': 45.46638, 'lng': 9.16357}, {'restaurant_id': 2324, 'lat': 45.4527, 'lng': 9.17577}, {'restaurant_id': 2325, 'lat': 45.44344, 'lng': 9.17657}, {'restaurant_id': 2326, 'lat': 45.50037, 'lng': 9.22119}, {'restaurant_id': 2327, 'lat': 45.48349, 'lng': 9.20441}, {'restaurant_id': 2328, 'lat': 45.44505, 'lng': 9.17762}, {'restaurant_id': 2329, 'lat': 45.47912, 'lng': 9.18384}, {'restaurant_id': 2330, 'lat': 45.4501, 'lng': 9.16738}, {'restaurant_id': 2331, 'lat': 45.49613, 'lng': 9.21766}, {'restaurant_id': 2332, 'lat': 45.46504, 'lng': 9.19067}, {'restaurant_id': 2333, 'lat': 45.48567, 'lng': 9.21601}, {'restaurant_id': 2334, 'lat': 45.48928, 'lng': 9.1904}, {'restaurant_id': 2335, 'lat': 45.46274, 'lng': 9.21048}, {'restaurant_id': 2336, 'lat': 45.48307, 'lng': 9.16407}, {'restaurant_id': 2337, 'lat': 45.46457, 'lng': 9.18633}, {'restaurant_id': 2338, 'lat': 45.51615, 'lng': 9.20907}, {'restaurant_id': 2339, 'lat': 45.45009, 'lng': 9.14636}, {'restaurant_id': 2340, 'lat': 45.50193, 'lng': 9.21209}, {'restaurant_id': 2341, 'lat': 45.48617, 'lng': 9.22713}, {'restaurant_id': 2342, 'lat': 45.44679, 'lng': 9.19619}, {'restaurant_id': 2343, 'lat': 41.80826, 'lng': 12.68147}, {'restaurant_id': 2344, 'lat': 45.44669, 'lng': 9.12592}, {'restaurant_id': 2345, 'lat': 45.45606, 'lng': 9.18119}, {'restaurant_id': 2347, 'lat': 45.52116, 'lng': 9.21435}, {'restaurant_id': 2348, 'lat': 45.4634, 'lng': 9.18839}, {'restaurant_id': 2349, 'lat': 45.48621, 'lng': 9.23248}, {'restaurant_id': 2350, 'lat': 45.48796, 'lng': 9.21743}, {'restaurant_id': 2351, 'lat': 45.4509, 'lng': 9.20204}, {'restaurant_id': 2352, 'lat': 45.4777, 'lng': 9.15618}, {'restaurant_id': 2353, 'lat': 45.50923, 'lng': 9.18869}, {'restaurant_id': 2354, 'lat': 45.46811, 'lng': 9.20978}, {'restaurant_id': 2355, 'lat': 45.48003, 'lng': 9.22553}, {'restaurant_id': 2356, 'lat': 45.45369, 'lng': 9.15229}, {'restaurant_id': 2357, 'lat': 45.5098, 'lng': 9.22362}, {'restaurant_id': 2358, 'lat': 43.98014, 'lng': 10.1501}, {'restaurant_id': 2359, 'lat': 45.45577, 'lng': 9.18059}, {'restaurant_id': 2360, 'lat': 45.58882, 'lng': 9.07835}, {'restaurant_id': 2361, 'lat': 45.49514, 'lng': 9.1765}, {'restaurant_id': 2362, 'lat': 45.46535, 'lng': 9.19067}, {'restaurant_id': 2363, 'lat': 45.48538, 'lng': 9.16305}, {'restaurant_id': 2364, 'lat': 45.45323, 'lng': 9.18051}, {'restaurant_id': 2365, 'lat': 45.50435, 'lng': 9.17705}, {'restaurant_id': 2366, 'lat': 45.46441, 'lng': 9.19359}, {'restaurant_id': 2367, 'lat': 45.47721, 'lng': 9.17451}, {'restaurant_id': 2368, 'lat': 45.47105, 'lng': 9.22927}, {'restaurant_id': 2369, 'lat': 45.51741, 'lng': 9.24582}, {'restaurant_id': 2370, 'lat': 45.45742, 'lng': 9.20375}, {'restaurant_id': 2371, 'lat': 45.44649, 'lng': 9.16515}, {'restaurant_id': 2372, 'lat': 45.47645, 'lng': 9.17202}, {'restaurant_id': 2373, 'lat': 45.4777, 'lng': 9.15618}, {'restaurant_id': 2374, 'lat': 45.43248, 'lng': 9.26394}, {'restaurant_id': 2375, 'lat': 45.46645, 'lng': 9.16245}, {'restaurant_id': 2376, 'lat': 45.43612, 'lng': 9.24083}, {'restaurant_id': 2377, 'lat': 45.4304, 'lng': 9.17875}, {'restaurant_id': 2378, 'lat': 45.48619, 'lng': 9.1582}, {'restaurant_id': 2379, 'lat': 45.46285, 'lng': 9.20776}, {'restaurant_id': 2380, 'lat': 45.4467, 'lng': 9.18311}, {'restaurant_id': 2381, 'lat': 45.45218, 'lng': 9.22701}, {'restaurant_id': 2382, 'lat': 45.46657, 'lng': 9.13982}, {'restaurant_id': 2384, 'lat': 45.52092, 'lng': 9.21645}, {'restaurant_id': 2385, 'lat': 45.49602, 'lng': 9.13892}, {'restaurant_id': 2386, 'lat': 45.49341, 'lng': 9.22649}, {'restaurant_id': 2387, 'lat': 45.48609, 'lng': 9.19512}, {'restaurant_id': 2388, 'lat': 45.46553, 'lng': 9.1981}, {'restaurant_id': 2389, 'lat': 45.46444, 'lng': 9.18731}, {'restaurant_id': 2390, 'lat': 45.4777, 'lng': 9.15618}, {'restaurant_id': 2391, 'lat': 45.46859, 'lng': 9.17623}, {'restaurant_id': 2392, 'lat': 45.51696, 'lng': 9.17102}, {'restaurant_id': 2393, 'lat': 45.51337, 'lng': 9.11993}, {'restaurant_id': 2394, 'lat': 45.48796, 'lng': 9.16408}, {'restaurant_id': 2395, 'lat': 45.44582, 'lng': 9.12298}, {'restaurant_id': 2396, 'lat': 45.48584, 'lng': 9.20593}, {'restaurant_id': 2397, 'lat': 45.45255, 'lng': 9.14759}, {'restaurant_id': 2398, 'lat': 45.45082, 'lng': 9.19536}, {'restaurant_id': 2399, 'lat': 45.46214, 'lng': 9.19901}, {'restaurant_id': 2400, 'lat': 45.44444, 'lng': 9.21551}, {'restaurant_id': 2401, 'lat': 45.4673, 'lng': 9.15332}, {'restaurant_id': 2402, 'lat': 45.44735, 'lng': 9.2109}, {'restaurant_id': 2403, 'lat': 45.47867, 'lng': 9.21328}, {'restaurant_id': 2404, 'lat': 45.45968, 'lng': 9.11295}, {'restaurant_id': 2405, 'lat': 45.55237, 'lng': 9.13961}, {'restaurant_id': 2407, 'lat': 45.48533, 'lng': 9.2033}, {'restaurant_id': 2408, 'lat': 45.45309, 'lng': 9.17055}, {'restaurant_id': 2409, 'lat': 45.48994, 'lng': 9.18984}, {'restaurant_id': 2410, 'lat': 45.45308, 'lng': 9.17563}, {'restaurant_id': 2411, 'lat': 45.5191, 'lng': 9.19223}, {'restaurant_id': 2412, 'lat': 45.43709, 'lng': 9.19201}, {'restaurant_id': 2413, 'lat': 45.44865, 'lng': 9.20667}, {'restaurant_id': 2414, 'lat': 45.45905, 'lng': 9.18454}, {'restaurant_id': 2415, 'lat': 45.49968, 'lng': 9.13075}, {'restaurant_id': 2416, 'lat': 45.49972, 'lng': 9.16874}, {'restaurant_id': 2418, 'lat': 45.45006, 'lng': 9.22033}, {'restaurant_id': 2419, 'lat': 45.51477, 'lng': 9.20802}, {'restaurant_id': 2420, 'lat': 45.48999, 'lng': 9.22325}, {'restaurant_id': 2421, 'lat': 45.45544, 'lng': 9.20247}, {'restaurant_id': 2422, 'lat': 45.4681, 'lng': 9.17557}, {'restaurant_id': 2423, 'lat': 45.48533, 'lng': 9.2033}, {'restaurant_id': 2424, 'lat': 45.48533, 'lng': 9.2033}, {'restaurant_id': 2425, 'lat': 45.46321, 'lng': 9.13443}, {'restaurant_id': 2426, 'lat': 45.44131, 'lng': 9.21389}, {'restaurant_id': 2427, 'lat': 45.50547, 'lng': 9.13618}, {'restaurant_id': 2428, 'lat': 45.48473, 'lng': 9.21587}, {'restaurant_id': 2429, 'lat': 45.48076, 'lng': 9.1927}, {'restaurant_id': 2430, 'lat': 45.49832, 'lng': 9.22018}, {'restaurant_id': 2431, 'lat': 45.48735, 'lng': 9.17043}, {'restaurant_id': 2432, 'lat': 45.47206, 'lng': 9.21429}, {'restaurant_id': 2433, 'lat': 45.47807, 'lng': 9.20414}, {'restaurant_id': 2434, 'lat': 45.48921, 'lng': 9.15294}, {'restaurant_id': 2435, 'lat': 45.45312, 'lng': 9.15721}, {'restaurant_id': 2436, 'lat': 45.47643, 'lng': 9.14402}, {'restaurant_id': 2437, 'lat': 45.57477, 'lng': 9.07551}, {'restaurant_id': 2438, 'lat': 45.45318, 'lng': 9.2009}, {'restaurant_id': 2439, 'lat': 45.46849, 'lng': 9.22645}, {'restaurant_id': 2440, 'lat': 45.50286, 'lng': 9.1812}, {'restaurant_id': 2441, 'lat': 45.48621, 'lng': 9.23248}, {'restaurant_id': 2442, 'lat': 45.51693, 'lng': 9.12049}]\n"
          ]
        }
      ]
    },
    {
      "cell_type": "code",
      "metadata": {
        "colab": {
          "base_uri": "https://localhost:8080/",
          "height": 359
        },
        "id": "kCtPw7VbRQAX",
        "outputId": "905e2ca1-9ba9-48d9-8742-d4a69af4e149"
      },
      "source": [
        "ds_restaurant_location = pd.DataFrame(restaurant_location)\n",
        "ds_restaurant_location.set_index(\"restaurant_id\")\n",
        "ds_restaurant_location.head(10)"
      ],
      "execution_count": 18,
      "outputs": [
        {
          "output_type": "execute_result",
          "data": {
            "text/html": [
              "<div>\n",
              "<style scoped>\n",
              "    .dataframe tbody tr th:only-of-type {\n",
              "        vertical-align: middle;\n",
              "    }\n",
              "\n",
              "    .dataframe tbody tr th {\n",
              "        vertical-align: top;\n",
              "    }\n",
              "\n",
              "    .dataframe thead th {\n",
              "        text-align: right;\n",
              "    }\n",
              "</style>\n",
              "<table border=\"1\" class=\"dataframe\">\n",
              "  <thead>\n",
              "    <tr style=\"text-align: right;\">\n",
              "      <th></th>\n",
              "      <th>restaurant_id</th>\n",
              "      <th>lat</th>\n",
              "      <th>lng</th>\n",
              "    </tr>\n",
              "  </thead>\n",
              "  <tbody>\n",
              "    <tr>\n",
              "      <th>0</th>\n",
              "      <td>0</td>\n",
              "      <td>45.47940</td>\n",
              "      <td>9.18209</td>\n",
              "    </tr>\n",
              "    <tr>\n",
              "      <th>1</th>\n",
              "      <td>1</td>\n",
              "      <td>45.46201</td>\n",
              "      <td>9.21903</td>\n",
              "    </tr>\n",
              "    <tr>\n",
              "      <th>2</th>\n",
              "      <td>2</td>\n",
              "      <td>45.46848</td>\n",
              "      <td>9.12568</td>\n",
              "    </tr>\n",
              "    <tr>\n",
              "      <th>3</th>\n",
              "      <td>3</td>\n",
              "      <td>45.46162</td>\n",
              "      <td>9.19556</td>\n",
              "    </tr>\n",
              "    <tr>\n",
              "      <th>4</th>\n",
              "      <td>4</td>\n",
              "      <td>45.45179</td>\n",
              "      <td>9.18687</td>\n",
              "    </tr>\n",
              "    <tr>\n",
              "      <th>5</th>\n",
              "      <td>5</td>\n",
              "      <td>45.45298</td>\n",
              "      <td>9.17189</td>\n",
              "    </tr>\n",
              "    <tr>\n",
              "      <th>6</th>\n",
              "      <td>6</td>\n",
              "      <td>45.45381</td>\n",
              "      <td>9.16346</td>\n",
              "    </tr>\n",
              "    <tr>\n",
              "      <th>7</th>\n",
              "      <td>7</td>\n",
              "      <td>45.47149</td>\n",
              "      <td>9.18479</td>\n",
              "    </tr>\n",
              "    <tr>\n",
              "      <th>8</th>\n",
              "      <td>8</td>\n",
              "      <td>45.48343</td>\n",
              "      <td>9.21540</td>\n",
              "    </tr>\n",
              "    <tr>\n",
              "      <th>9</th>\n",
              "      <td>9</td>\n",
              "      <td>45.45984</td>\n",
              "      <td>9.19142</td>\n",
              "    </tr>\n",
              "  </tbody>\n",
              "</table>\n",
              "</div>"
            ],
            "text/plain": [
              "   restaurant_id       lat      lng\n",
              "0              0  45.47940  9.18209\n",
              "1              1  45.46201  9.21903\n",
              "2              2  45.46848  9.12568\n",
              "3              3  45.46162  9.19556\n",
              "4              4  45.45179  9.18687\n",
              "5              5  45.45298  9.17189\n",
              "6              6  45.45381  9.16346\n",
              "7              7  45.47149  9.18479\n",
              "8              8  45.48343  9.21540\n",
              "9              9  45.45984  9.19142"
            ]
          },
          "metadata": {},
          "execution_count": 18
        }
      ]
    },
    {
      "cell_type": "markdown",
      "metadata": {
        "id": "MhhxhMTWRrcX"
      },
      "source": [
        "Adding 'Quartiere'"
      ]
    },
    {
      "cell_type": "code",
      "metadata": {
        "colab": {
          "base_uri": "https://localhost:8080/"
        },
        "id": "x_JK9KMcRqgY",
        "outputId": "0650a5aa-d49d-458c-9fe2-74b7bebaed3c"
      },
      "source": [
        "!pip install geopandas\n",
        "!pip install rtree\n",
        "!pip install pygeos\n",
        "import pygeos\n",
        "import rtree\n",
        "import geopandas as gpd\n",
        "!sudo apt install libspatialindex-dev\n",
        "!pip install --upgrade geopandas"
      ],
      "execution_count": 19,
      "outputs": [
        {
          "output_type": "stream",
          "name": "stdout",
          "text": [
            "Collecting geopandas\n",
            "  Downloading geopandas-0.9.0-py2.py3-none-any.whl (994 kB)\n",
            "\u001b[K     |████████████████████████████████| 994 kB 6.5 MB/s \n",
            "\u001b[?25hCollecting fiona>=1.8\n",
            "  Downloading Fiona-1.8.20-cp37-cp37m-manylinux1_x86_64.whl (15.4 MB)\n",
            "\u001b[K     |████████████████████████████████| 15.4 MB 37 kB/s \n",
            "\u001b[?25hCollecting pyproj>=2.2.0\n",
            "  Downloading pyproj-3.2.0-cp37-cp37m-manylinux_2_24_x86_64.whl (6.3 MB)\n",
            "\u001b[K     |████████████████████████████████| 6.3 MB 49.0 MB/s \n",
            "\u001b[?25hRequirement already satisfied: shapely>=1.6 in /usr/local/lib/python3.7/dist-packages (from geopandas) (1.7.1)\n",
            "Requirement already satisfied: pandas>=0.24.0 in /usr/local/lib/python3.7/dist-packages (from geopandas) (1.1.5)\n",
            "Collecting cligj>=0.5\n",
            "  Downloading cligj-0.7.2-py3-none-any.whl (7.1 kB)\n",
            "Requirement already satisfied: attrs>=17 in /usr/local/lib/python3.7/dist-packages (from fiona>=1.8->geopandas) (21.2.0)\n",
            "Collecting click-plugins>=1.0\n",
            "  Downloading click_plugins-1.1.1-py2.py3-none-any.whl (7.5 kB)\n",
            "Collecting munch\n",
            "  Downloading munch-2.5.0-py2.py3-none-any.whl (10 kB)\n",
            "Requirement already satisfied: setuptools in /usr/local/lib/python3.7/dist-packages (from fiona>=1.8->geopandas) (57.4.0)\n",
            "Requirement already satisfied: six>=1.7 in /usr/local/lib/python3.7/dist-packages (from fiona>=1.8->geopandas) (1.15.0)\n",
            "Requirement already satisfied: click>=4.0 in /usr/local/lib/python3.7/dist-packages (from fiona>=1.8->geopandas) (7.1.2)\n",
            "Requirement already satisfied: certifi in /usr/local/lib/python3.7/dist-packages (from fiona>=1.8->geopandas) (2021.5.30)\n",
            "Requirement already satisfied: pytz>=2017.2 in /usr/local/lib/python3.7/dist-packages (from pandas>=0.24.0->geopandas) (2018.9)\n",
            "Requirement already satisfied: python-dateutil>=2.7.3 in /usr/local/lib/python3.7/dist-packages (from pandas>=0.24.0->geopandas) (2.8.2)\n",
            "Requirement already satisfied: numpy>=1.15.4 in /usr/local/lib/python3.7/dist-packages (from pandas>=0.24.0->geopandas) (1.19.5)\n",
            "Installing collected packages: munch, cligj, click-plugins, pyproj, fiona, geopandas\n",
            "Successfully installed click-plugins-1.1.1 cligj-0.7.2 fiona-1.8.20 geopandas-0.9.0 munch-2.5.0 pyproj-3.2.0\n",
            "Collecting rtree\n",
            "  Downloading Rtree-0.9.7-cp37-cp37m-manylinux2010_x86_64.whl (994 kB)\n",
            "\u001b[K     |████████████████████████████████| 994 kB 7.7 MB/s \n",
            "\u001b[?25hInstalling collected packages: rtree\n",
            "Successfully installed rtree-0.9.7\n",
            "Collecting pygeos\n",
            "  Downloading pygeos-0.10.2-cp37-cp37m-manylinux_2_12_x86_64.manylinux2010_x86_64.whl (1.8 MB)\n",
            "\u001b[K     |████████████████████████████████| 1.8 MB 7.8 MB/s \n",
            "\u001b[?25hRequirement already satisfied: numpy>=1.13 in /usr/local/lib/python3.7/dist-packages (from pygeos) (1.19.5)\n",
            "Installing collected packages: pygeos\n",
            "Successfully installed pygeos-0.10.2\n"
          ]
        },
        {
          "output_type": "stream",
          "name": "stderr",
          "text": [
            "/usr/local/lib/python3.7/dist-packages/geopandas/_compat.py:110: UserWarning: The Shapely GEOS version (3.8.0-CAPI-1.13.1 ) is incompatible with the GEOS version PyGEOS was compiled with (3.9.1-CAPI-1.14.2). Conversions between both will be slow.\n",
            "  shapely_geos_version, geos_capi_version_string\n"
          ]
        },
        {
          "output_type": "stream",
          "name": "stdout",
          "text": [
            "Reading package lists... Done\n",
            "Building dependency tree       \n",
            "Reading state information... Done\n",
            "The following additional packages will be installed:\n",
            "  libspatialindex-c4v5 libspatialindex4v5\n",
            "The following NEW packages will be installed:\n",
            "  libspatialindex-c4v5 libspatialindex-dev libspatialindex4v5\n",
            "0 upgraded, 3 newly installed, 0 to remove and 40 not upgraded.\n",
            "Need to get 555 kB of archives.\n",
            "After this operation, 3,308 kB of additional disk space will be used.\n",
            "Get:1 http://archive.ubuntu.com/ubuntu bionic/universe amd64 libspatialindex4v5 amd64 1.8.5-5 [219 kB]\n",
            "Get:2 http://archive.ubuntu.com/ubuntu bionic/universe amd64 libspatialindex-c4v5 amd64 1.8.5-5 [51.7 kB]\n",
            "Get:3 http://archive.ubuntu.com/ubuntu bionic/universe amd64 libspatialindex-dev amd64 1.8.5-5 [285 kB]\n",
            "Fetched 555 kB in 1s (429 kB/s)\n",
            "debconf: unable to initialize frontend: Dialog\n",
            "debconf: (No usable dialog-like program is installed, so the dialog based frontend cannot be used. at /usr/share/perl5/Debconf/FrontEnd/Dialog.pm line 76, <> line 3.)\n",
            "debconf: falling back to frontend: Readline\n",
            "debconf: unable to initialize frontend: Readline\n",
            "debconf: (This frontend requires a controlling tty.)\n",
            "debconf: falling back to frontend: Teletype\n",
            "dpkg-preconfigure: unable to re-open stdin: \n",
            "Selecting previously unselected package libspatialindex4v5:amd64.\n",
            "(Reading database ... 148492 files and directories currently installed.)\n",
            "Preparing to unpack .../libspatialindex4v5_1.8.5-5_amd64.deb ...\n",
            "Unpacking libspatialindex4v5:amd64 (1.8.5-5) ...\n",
            "Selecting previously unselected package libspatialindex-c4v5:amd64.\n",
            "Preparing to unpack .../libspatialindex-c4v5_1.8.5-5_amd64.deb ...\n",
            "Unpacking libspatialindex-c4v5:amd64 (1.8.5-5) ...\n",
            "Selecting previously unselected package libspatialindex-dev:amd64.\n",
            "Preparing to unpack .../libspatialindex-dev_1.8.5-5_amd64.deb ...\n",
            "Unpacking libspatialindex-dev:amd64 (1.8.5-5) ...\n",
            "Setting up libspatialindex4v5:amd64 (1.8.5-5) ...\n",
            "Setting up libspatialindex-c4v5:amd64 (1.8.5-5) ...\n",
            "Setting up libspatialindex-dev:amd64 (1.8.5-5) ...\n",
            "Processing triggers for libc-bin (2.27-3ubuntu1.2) ...\n",
            "/sbin/ldconfig.real: /usr/local/lib/python3.7/dist-packages/ideep4py/lib/libmkldnn.so.0 is not a symbolic link\n",
            "\n",
            "Requirement already satisfied: geopandas in /usr/local/lib/python3.7/dist-packages (0.9.0)\n",
            "Requirement already satisfied: pandas>=0.24.0 in /usr/local/lib/python3.7/dist-packages (from geopandas) (1.1.5)\n",
            "Requirement already satisfied: shapely>=1.6 in /usr/local/lib/python3.7/dist-packages (from geopandas) (1.7.1)\n",
            "Requirement already satisfied: pyproj>=2.2.0 in /usr/local/lib/python3.7/dist-packages (from geopandas) (3.2.0)\n",
            "Requirement already satisfied: fiona>=1.8 in /usr/local/lib/python3.7/dist-packages (from geopandas) (1.8.20)\n",
            "Requirement already satisfied: cligj>=0.5 in /usr/local/lib/python3.7/dist-packages (from fiona>=1.8->geopandas) (0.7.2)\n",
            "Requirement already satisfied: munch in /usr/local/lib/python3.7/dist-packages (from fiona>=1.8->geopandas) (2.5.0)\n",
            "Requirement already satisfied: setuptools in /usr/local/lib/python3.7/dist-packages (from fiona>=1.8->geopandas) (57.4.0)\n",
            "Requirement already satisfied: attrs>=17 in /usr/local/lib/python3.7/dist-packages (from fiona>=1.8->geopandas) (21.2.0)\n",
            "Requirement already satisfied: click>=4.0 in /usr/local/lib/python3.7/dist-packages (from fiona>=1.8->geopandas) (7.1.2)\n",
            "Requirement already satisfied: certifi in /usr/local/lib/python3.7/dist-packages (from fiona>=1.8->geopandas) (2021.5.30)\n",
            "Requirement already satisfied: click-plugins>=1.0 in /usr/local/lib/python3.7/dist-packages (from fiona>=1.8->geopandas) (1.1.1)\n",
            "Requirement already satisfied: six>=1.7 in /usr/local/lib/python3.7/dist-packages (from fiona>=1.8->geopandas) (1.15.0)\n",
            "Requirement already satisfied: numpy>=1.15.4 in /usr/local/lib/python3.7/dist-packages (from pandas>=0.24.0->geopandas) (1.19.5)\n",
            "Requirement already satisfied: python-dateutil>=2.7.3 in /usr/local/lib/python3.7/dist-packages (from pandas>=0.24.0->geopandas) (2.8.2)\n",
            "Requirement already satisfied: pytz>=2017.2 in /usr/local/lib/python3.7/dist-packages (from pandas>=0.24.0->geopandas) (2018.9)\n"
          ]
        }
      ]
    },
    {
      "cell_type": "code",
      "metadata": {
        "colab": {
          "base_uri": "https://localhost:8080/",
          "height": 375
        },
        "id": "EZBqrQtuSLlD",
        "outputId": "dce8d029-1655-4beb-b583-198b5737faf0"
      },
      "source": [
        "# 1-  Listing points\n",
        "listings = ds_restaurant_location\n",
        "# 2 - convert to Geopandas Geodataframe\n",
        "gdf_listings = gpd.GeoDataFrame(listings,   geometry=gpd.points_from_xy(listings.lng, listings.lat))\n",
        "# 3 - Neighbourhoods\n",
        "milan_areas = gpd.read_file('ds964_nil_wm.geojson')\n",
        "milan_areas.head()"
      ],
      "execution_count": 20,
      "outputs": [
        {
          "output_type": "execute_result",
          "data": {
            "text/html": [
              "<div>\n",
              "<style scoped>\n",
              "    .dataframe tbody tr th:only-of-type {\n",
              "        vertical-align: middle;\n",
              "    }\n",
              "\n",
              "    .dataframe tbody tr th {\n",
              "        vertical-align: top;\n",
              "    }\n",
              "\n",
              "    .dataframe thead th {\n",
              "        text-align: right;\n",
              "    }\n",
              "</style>\n",
              "<table border=\"1\" class=\"dataframe\">\n",
              "  <thead>\n",
              "    <tr style=\"text-align: right;\">\n",
              "      <th></th>\n",
              "      <th>ID_NIL</th>\n",
              "      <th>NIL</th>\n",
              "      <th>Valido_dal</th>\n",
              "      <th>Valido_al</th>\n",
              "      <th>Fonte</th>\n",
              "      <th>Shape_Length</th>\n",
              "      <th>Shape_Area</th>\n",
              "      <th>OBJECTID</th>\n",
              "      <th>geometry</th>\n",
              "    </tr>\n",
              "  </thead>\n",
              "  <tbody>\n",
              "    <tr>\n",
              "      <th>0</th>\n",
              "      <td>48</td>\n",
              "      <td>RONCHETTO SUL NAVIGLIO - Q.RE LODOVICO IL MORO</td>\n",
              "      <td>05/02/2020</td>\n",
              "      <td>Vigente</td>\n",
              "      <td>Milano 2030 - PGT Approvato</td>\n",
              "      <td>8723.368714</td>\n",
              "      <td>2.406306e+06</td>\n",
              "      <td>89</td>\n",
              "      <td>POLYGON ((9.15422 45.43775, 9.15274 45.43887, ...</td>\n",
              "    </tr>\n",
              "    <tr>\n",
              "      <th>1</th>\n",
              "      <td>64</td>\n",
              "      <td>TRENNO</td>\n",
              "      <td>05/02/2020</td>\n",
              "      <td>Vigente</td>\n",
              "      <td>Milano 2030 - PGT Approvato</td>\n",
              "      <td>3309.998800</td>\n",
              "      <td>4.896921e+05</td>\n",
              "      <td>90</td>\n",
              "      <td>POLYGON ((9.10623 45.49016, 9.10591 45.49084, ...</td>\n",
              "    </tr>\n",
              "    <tr>\n",
              "      <th>2</th>\n",
              "      <td>67</td>\n",
              "      <td>PORTELLO</td>\n",
              "      <td>05/02/2020</td>\n",
              "      <td>Vigente</td>\n",
              "      <td>Milano 2030 - PGT Approvato</td>\n",
              "      <td>3800.750663</td>\n",
              "      <td>9.096022e+05</td>\n",
              "      <td>91</td>\n",
              "      <td>POLYGON ((9.15636 45.48785, 9.15495 45.48852, ...</td>\n",
              "    </tr>\n",
              "    <tr>\n",
              "      <th>3</th>\n",
              "      <td>81</td>\n",
              "      <td>BOVISASCA</td>\n",
              "      <td>05/02/2020</td>\n",
              "      <td>Vigente</td>\n",
              "      <td>Milano 2030 - PGT Approvato</td>\n",
              "      <td>7105.469715</td>\n",
              "      <td>1.578028e+06</td>\n",
              "      <td>92</td>\n",
              "      <td>POLYGON ((9.16803 45.52234, 9.16763 45.52272, ...</td>\n",
              "    </tr>\n",
              "    <tr>\n",
              "      <th>4</th>\n",
              "      <td>84</td>\n",
              "      <td>PARCO NORD</td>\n",
              "      <td>05/02/2020</td>\n",
              "      <td>Vigente</td>\n",
              "      <td>Milano 2030 - PGT Approvato</td>\n",
              "      <td>11741.717005</td>\n",
              "      <td>1.532331e+06</td>\n",
              "      <td>93</td>\n",
              "      <td>POLYGON ((9.20040 45.52848, 9.20028 45.52846, ...</td>\n",
              "    </tr>\n",
              "  </tbody>\n",
              "</table>\n",
              "</div>"
            ],
            "text/plain": [
              "   ID_NIL  ...                                           geometry\n",
              "0      48  ...  POLYGON ((9.15422 45.43775, 9.15274 45.43887, ...\n",
              "1      64  ...  POLYGON ((9.10623 45.49016, 9.10591 45.49084, ...\n",
              "2      67  ...  POLYGON ((9.15636 45.48785, 9.15495 45.48852, ...\n",
              "3      81  ...  POLYGON ((9.16803 45.52234, 9.16763 45.52272, ...\n",
              "4      84  ...  POLYGON ((9.20040 45.52848, 9.20028 45.52846, ...\n",
              "\n",
              "[5 rows x 9 columns]"
            ]
          },
          "metadata": {},
          "execution_count": 20
        }
      ]
    },
    {
      "cell_type": "code",
      "metadata": {
        "colab": {
          "base_uri": "https://localhost:8080/",
          "height": 604
        },
        "id": "EP_toimkTNhW",
        "outputId": "c4168961-03eb-4929-b281-85e48324a759"
      },
      "source": [
        "sjoined_listings = gpd.sjoin(gdf_listings, milan_areas, op=\"within\")\n",
        "sjoined_listings.head()"
      ],
      "execution_count": 21,
      "outputs": [
        {
          "output_type": "stream",
          "name": "stderr",
          "text": [
            "/usr/local/lib/python3.7/dist-packages/ipykernel_launcher.py:1: UserWarning: CRS mismatch between the CRS of left geometries and the CRS of right geometries.\n",
            "Use `to_crs()` to reproject one of the input geometries to match the CRS of the other.\n",
            "\n",
            "Left CRS: None\n",
            "Right CRS: EPSG:4326\n",
            "\n",
            "  \"\"\"Entry point for launching an IPython kernel.\n"
          ]
        },
        {
          "output_type": "execute_result",
          "data": {
            "text/html": [
              "<div>\n",
              "<style scoped>\n",
              "    .dataframe tbody tr th:only-of-type {\n",
              "        vertical-align: middle;\n",
              "    }\n",
              "\n",
              "    .dataframe tbody tr th {\n",
              "        vertical-align: top;\n",
              "    }\n",
              "\n",
              "    .dataframe thead th {\n",
              "        text-align: right;\n",
              "    }\n",
              "</style>\n",
              "<table border=\"1\" class=\"dataframe\">\n",
              "  <thead>\n",
              "    <tr style=\"text-align: right;\">\n",
              "      <th></th>\n",
              "      <th>restaurant_id</th>\n",
              "      <th>lat</th>\n",
              "      <th>lng</th>\n",
              "      <th>geometry</th>\n",
              "      <th>index_right</th>\n",
              "      <th>ID_NIL</th>\n",
              "      <th>NIL</th>\n",
              "      <th>Valido_dal</th>\n",
              "      <th>Valido_al</th>\n",
              "      <th>Fonte</th>\n",
              "      <th>Shape_Length</th>\n",
              "      <th>Shape_Area</th>\n",
              "      <th>OBJECTID</th>\n",
              "    </tr>\n",
              "  </thead>\n",
              "  <tbody>\n",
              "    <tr>\n",
              "      <th>0</th>\n",
              "      <td>0</td>\n",
              "      <td>45.47940</td>\n",
              "      <td>9.18209</td>\n",
              "      <td>POINT (9.18209 45.47940)</td>\n",
              "      <td>84</td>\n",
              "      <td>2</td>\n",
              "      <td>BRERA</td>\n",
              "      <td>05/02/2020</td>\n",
              "      <td>Vigente</td>\n",
              "      <td>Milano 2030 - PGT Approvato</td>\n",
              "      <td>5461.667196</td>\n",
              "      <td>1.637333e+06</td>\n",
              "      <td>173</td>\n",
              "    </tr>\n",
              "    <tr>\n",
              "      <th>7</th>\n",
              "      <td>7</td>\n",
              "      <td>45.47149</td>\n",
              "      <td>9.18479</td>\n",
              "      <td>POINT (9.18479 45.47149)</td>\n",
              "      <td>84</td>\n",
              "      <td>2</td>\n",
              "      <td>BRERA</td>\n",
              "      <td>05/02/2020</td>\n",
              "      <td>Vigente</td>\n",
              "      <td>Milano 2030 - PGT Approvato</td>\n",
              "      <td>5461.667196</td>\n",
              "      <td>1.637333e+06</td>\n",
              "      <td>173</td>\n",
              "    </tr>\n",
              "    <tr>\n",
              "      <th>16</th>\n",
              "      <td>16</td>\n",
              "      <td>45.47585</td>\n",
              "      <td>9.18945</td>\n",
              "      <td>POINT (9.18945 45.47585)</td>\n",
              "      <td>84</td>\n",
              "      <td>2</td>\n",
              "      <td>BRERA</td>\n",
              "      <td>05/02/2020</td>\n",
              "      <td>Vigente</td>\n",
              "      <td>Milano 2030 - PGT Approvato</td>\n",
              "      <td>5461.667196</td>\n",
              "      <td>1.637333e+06</td>\n",
              "      <td>173</td>\n",
              "    </tr>\n",
              "    <tr>\n",
              "      <th>35</th>\n",
              "      <td>35</td>\n",
              "      <td>45.46948</td>\n",
              "      <td>9.18211</td>\n",
              "      <td>POINT (9.18211 45.46948)</td>\n",
              "      <td>84</td>\n",
              "      <td>2</td>\n",
              "      <td>BRERA</td>\n",
              "      <td>05/02/2020</td>\n",
              "      <td>Vigente</td>\n",
              "      <td>Milano 2030 - PGT Approvato</td>\n",
              "      <td>5461.667196</td>\n",
              "      <td>1.637333e+06</td>\n",
              "      <td>173</td>\n",
              "    </tr>\n",
              "    <tr>\n",
              "      <th>50</th>\n",
              "      <td>50</td>\n",
              "      <td>45.47789</td>\n",
              "      <td>9.18899</td>\n",
              "      <td>POINT (9.18899 45.47789)</td>\n",
              "      <td>84</td>\n",
              "      <td>2</td>\n",
              "      <td>BRERA</td>\n",
              "      <td>05/02/2020</td>\n",
              "      <td>Vigente</td>\n",
              "      <td>Milano 2030 - PGT Approvato</td>\n",
              "      <td>5461.667196</td>\n",
              "      <td>1.637333e+06</td>\n",
              "      <td>173</td>\n",
              "    </tr>\n",
              "  </tbody>\n",
              "</table>\n",
              "</div>"
            ],
            "text/plain": [
              "    restaurant_id       lat      lng  ... Shape_Length    Shape_Area  OBJECTID\n",
              "0               0  45.47940  9.18209  ...  5461.667196  1.637333e+06       173\n",
              "7               7  45.47149  9.18479  ...  5461.667196  1.637333e+06       173\n",
              "16             16  45.47585  9.18945  ...  5461.667196  1.637333e+06       173\n",
              "35             35  45.46948  9.18211  ...  5461.667196  1.637333e+06       173\n",
              "50             50  45.47789  9.18899  ...  5461.667196  1.637333e+06       173\n",
              "\n",
              "[5 rows x 13 columns]"
            ]
          },
          "metadata": {},
          "execution_count": 21
        }
      ]
    },
    {
      "cell_type": "code",
      "metadata": {
        "id": "wXdRoDnLQ3vi"
      },
      "source": [
        "sjoined_listings.to_csv('rest_locationinfo.csv') "
      ],
      "execution_count": 22,
      "outputs": []
    },
    {
      "cell_type": "code",
      "metadata": {
        "colab": {
          "base_uri": "https://localhost:8080/"
        },
        "id": "8Bc1wMS0Sc5Q",
        "outputId": "e14728cc-96a0-4c01-9b1f-3e6b19241389"
      },
      "source": [
        "grouped = sjoined_listings.groupby('ID_NIL').size()\n",
        "df_nil = grouped.to_frame().reset_index()\n",
        "df_nil.columns = ['ID_NIL', 'restaurants_count']\n",
        "df_nil=df_nil.set_index('ID_NIL')\n",
        "temp = sjoined_listings[['ID_NIL','NIL']]\n",
        "temp=temp.set_index('ID_NIL')\n",
        "result = temp.join(df_nil)\n",
        "result = result.reset_index()\n",
        "result = result.drop_duplicates(subset=['ID_NIL'], keep='first')\n",
        "print(result)"
      ],
      "execution_count": 23,
      "outputs": [
        {
          "output_type": "stream",
          "name": "stdout",
          "text": [
            "      ID_NIL                                  NIL  restaurants_count\n",
            "0          1                                DUOMO                205\n",
            "205        2                                BRERA                114\n",
            "319        4                            GUASTALLA                 55\n",
            "374        5     PORTA VIGENTINA - PORTA LODOVICA                 44\n",
            "418        6  PORTA TICINESE - CONCA DEL NAVIGLIO                 81\n",
            "...      ...                                  ...                ...\n",
            "2258      82                             COMASINA                  1\n",
            "2259      83                             BRUZZANO                  2\n",
            "2261      85                  PARCO DELLE ABBAZIE                  1\n",
            "2262      87                              ASSIANO                  1\n",
            "2263      88                PARCO BOSCO IN CITTA'                  2\n",
            "\n",
            "[79 rows x 3 columns]\n"
          ]
        }
      ]
    },
    {
      "cell_type": "code",
      "metadata": {
        "id": "AIpdY6ELTXcx"
      },
      "source": [
        "df_cleaned=df\n",
        "df = pd.read_csv(\"nil.csv\")\n",
        "temp = sjoined_listings[['ID_NIL','NIL']]\n",
        "temp=temp.set_index('NIL')"
      ],
      "execution_count": 24,
      "outputs": []
    },
    {
      "cell_type": "code",
      "metadata": {
        "id": "NRA27nVFfUi8"
      },
      "source": [
        "df=df.set_index('NIL')\n",
        "result1 = temp.join(df)\n",
        "result1 = result1.reset_index()\n",
        "result1 = result1.drop_duplicates(subset=['NIL'], keep='first')"
      ],
      "execution_count": 25,
      "outputs": []
    },
    {
      "cell_type": "code",
      "metadata": {
        "id": "HFN6DBpvgBWh"
      },
      "source": [
        "result = result.set_index('ID_NIL')\n",
        "result1 = result1.set_index('ID_NIL')"
      ],
      "execution_count": 26,
      "outputs": []
    },
    {
      "cell_type": "code",
      "metadata": {
        "id": "vszKPXt0hWh0"
      },
      "source": [
        "result2=pd.concat([result, result1], axis=1)\n",
        "result2=result2.reset_index()\n",
        "result2.to_csv('quartieri.csv') "
      ],
      "execution_count": 27,
      "outputs": []
    },
    {
      "cell_type": "code",
      "metadata": {
        "id": "HDn7eZA3ng_5"
      },
      "source": [
        "sjoined_listings.head()\n",
        "restloc = DataFrame(sjoined_listings,columns=['restaurant_id','lat','lng','ID_NIL','NIL'])"
      ],
      "execution_count": 33,
      "outputs": []
    },
    {
      "cell_type": "code",
      "metadata": {
        "colab": {
          "base_uri": "https://localhost:8080/",
          "height": 204
        },
        "id": "6W0294xSoX6t",
        "outputId": "af47e42b-ff1c-40d8-8c13-053becede865"
      },
      "source": [
        "restloc.head()"
      ],
      "execution_count": 34,
      "outputs": [
        {
          "output_type": "execute_result",
          "data": {
            "text/html": [
              "<div>\n",
              "<style scoped>\n",
              "    .dataframe tbody tr th:only-of-type {\n",
              "        vertical-align: middle;\n",
              "    }\n",
              "\n",
              "    .dataframe tbody tr th {\n",
              "        vertical-align: top;\n",
              "    }\n",
              "\n",
              "    .dataframe thead th {\n",
              "        text-align: right;\n",
              "    }\n",
              "</style>\n",
              "<table border=\"1\" class=\"dataframe\">\n",
              "  <thead>\n",
              "    <tr style=\"text-align: right;\">\n",
              "      <th></th>\n",
              "      <th>restaurant_id</th>\n",
              "      <th>lat</th>\n",
              "      <th>lng</th>\n",
              "      <th>ID_NIL</th>\n",
              "      <th>NIL</th>\n",
              "    </tr>\n",
              "  </thead>\n",
              "  <tbody>\n",
              "    <tr>\n",
              "      <th>0</th>\n",
              "      <td>0</td>\n",
              "      <td>45.47940</td>\n",
              "      <td>9.18209</td>\n",
              "      <td>2</td>\n",
              "      <td>BRERA</td>\n",
              "    </tr>\n",
              "    <tr>\n",
              "      <th>7</th>\n",
              "      <td>7</td>\n",
              "      <td>45.47149</td>\n",
              "      <td>9.18479</td>\n",
              "      <td>2</td>\n",
              "      <td>BRERA</td>\n",
              "    </tr>\n",
              "    <tr>\n",
              "      <th>16</th>\n",
              "      <td>16</td>\n",
              "      <td>45.47585</td>\n",
              "      <td>9.18945</td>\n",
              "      <td>2</td>\n",
              "      <td>BRERA</td>\n",
              "    </tr>\n",
              "    <tr>\n",
              "      <th>35</th>\n",
              "      <td>35</td>\n",
              "      <td>45.46948</td>\n",
              "      <td>9.18211</td>\n",
              "      <td>2</td>\n",
              "      <td>BRERA</td>\n",
              "    </tr>\n",
              "    <tr>\n",
              "      <th>50</th>\n",
              "      <td>50</td>\n",
              "      <td>45.47789</td>\n",
              "      <td>9.18899</td>\n",
              "      <td>2</td>\n",
              "      <td>BRERA</td>\n",
              "    </tr>\n",
              "  </tbody>\n",
              "</table>\n",
              "</div>"
            ],
            "text/plain": [
              "    restaurant_id       lat      lng  ID_NIL    NIL\n",
              "0               0  45.47940  9.18209       2  BRERA\n",
              "7               7  45.47149  9.18479       2  BRERA\n",
              "16             16  45.47585  9.18945       2  BRERA\n",
              "35             35  45.46948  9.18211       2  BRERA\n",
              "50             50  45.47789  9.18899       2  BRERA"
            ]
          },
          "metadata": {},
          "execution_count": 34
        }
      ]
    },
    {
      "cell_type": "code",
      "metadata": {
        "id": "DkG30vwHpDc5"
      },
      "source": [
        "result3 = result2.loc[:,~result2.columns.duplicated()]\n",
        "result3=result3.drop_duplicates(subset=['ID_NIL'], keep='first')"
      ],
      "execution_count": 41,
      "outputs": []
    },
    {
      "cell_type": "code",
      "metadata": {
        "id": "nPFFUFvenKMs"
      },
      "source": [
        "result3 = DataFrame(result3,columns=['ID_NIL','restaurants_count','Population','Pricexm2'])"
      ],
      "execution_count": 43,
      "outputs": []
    },
    {
      "cell_type": "code",
      "metadata": {
        "id": "H60fzd-nzEB6"
      },
      "source": [
        "result4 = pd.merge(restloc, result3, on='ID_NIL')"
      ],
      "execution_count": 69,
      "outputs": []
    },
    {
      "cell_type": "code",
      "metadata": {
        "id": "-Wi1lOTbyA5-"
      },
      "source": [
        "df_cleaned = DataFrame(df_cleaned,columns=['Title','Reviews','Rating','Price','Revenue','Category'])"
      ],
      "execution_count": 72,
      "outputs": []
    },
    {
      "cell_type": "code",
      "metadata": {
        "id": "GGITndFf0SQe"
      },
      "source": [
        "df_cleaned = df_cleaned.reset_index()"
      ],
      "execution_count": 73,
      "outputs": []
    },
    {
      "cell_type": "code",
      "metadata": {
        "id": "FR5vu3Pf0L0L"
      },
      "source": [
        "result5 = pd.merge(df_cleaned, result4, on='restaurant_id')"
      ],
      "execution_count": 74,
      "outputs": []
    },
    {
      "cell_type": "code",
      "metadata": {
        "colab": {
          "base_uri": "https://localhost:8080/",
          "height": 395
        },
        "id": "PtbfiyLY0e_i",
        "outputId": "e4dd29e9-70bf-4233-fb66-01dc342cef47"
      },
      "source": [
        "result5.head()"
      ],
      "execution_count": 75,
      "outputs": [
        {
          "output_type": "execute_result",
          "data": {
            "text/html": [
              "<div>\n",
              "<style scoped>\n",
              "    .dataframe tbody tr th:only-of-type {\n",
              "        vertical-align: middle;\n",
              "    }\n",
              "\n",
              "    .dataframe tbody tr th {\n",
              "        vertical-align: top;\n",
              "    }\n",
              "\n",
              "    .dataframe thead th {\n",
              "        text-align: right;\n",
              "    }\n",
              "</style>\n",
              "<table border=\"1\" class=\"dataframe\">\n",
              "  <thead>\n",
              "    <tr style=\"text-align: right;\">\n",
              "      <th></th>\n",
              "      <th>restaurant_id</th>\n",
              "      <th>Title</th>\n",
              "      <th>Reviews</th>\n",
              "      <th>Rating</th>\n",
              "      <th>Price</th>\n",
              "      <th>Revenue</th>\n",
              "      <th>Category</th>\n",
              "      <th>ID_NIL</th>\n",
              "      <th>lat</th>\n",
              "      <th>lng</th>\n",
              "      <th>NIL</th>\n",
              "      <th>restaurants_count</th>\n",
              "      <th>Population</th>\n",
              "      <th>Pricexm2</th>\n",
              "      <th>Pricexm2a</th>\n",
              "    </tr>\n",
              "  </thead>\n",
              "  <tbody>\n",
              "    <tr>\n",
              "      <th>0</th>\n",
              "      <td>0</td>\n",
              "      <td>Mabuhay Restaurant</td>\n",
              "      <td>368.0</td>\n",
              "      <td>5.0</td>\n",
              "      <td>8.0</td>\n",
              "      <td>368.0</td>\n",
              "      <td>Filipino</td>\n",
              "      <td>2</td>\n",
              "      <td>45.47940</td>\n",
              "      <td>9.18209</td>\n",
              "      <td>BRERA</td>\n",
              "      <td>114</td>\n",
              "      <td>18492</td>\n",
              "      <td>6250</td>\n",
              "      <td>38.0</td>\n",
              "    </tr>\n",
              "    <tr>\n",
              "      <th>1</th>\n",
              "      <td>1</td>\n",
              "      <td>Star Zagros Kebabbar</td>\n",
              "      <td>236.0</td>\n",
              "      <td>5.0</td>\n",
              "      <td>NaN</td>\n",
              "      <td>236.0</td>\n",
              "      <td>Middle Eastern</td>\n",
              "      <td>26</td>\n",
              "      <td>45.46201</td>\n",
              "      <td>9.21903</td>\n",
              "      <td>XXII MARZO</td>\n",
              "      <td>89</td>\n",
              "      <td>31720</td>\n",
              "      <td>4100</td>\n",
              "      <td>26.0</td>\n",
              "    </tr>\n",
              "    <tr>\n",
              "      <th>2</th>\n",
              "      <td>2</td>\n",
              "      <td>Shabby Grill Restaurant</td>\n",
              "      <td>174.0</td>\n",
              "      <td>5.0</td>\n",
              "      <td>53.5</td>\n",
              "      <td>174.0</td>\n",
              "      <td>Italian</td>\n",
              "      <td>56</td>\n",
              "      <td>45.46848</td>\n",
              "      <td>9.12568</td>\n",
              "      <td>FORZE ARMATE</td>\n",
              "      <td>8</td>\n",
              "      <td>24871</td>\n",
              "      <td>1700</td>\n",
              "      <td>NaN</td>\n",
              "    </tr>\n",
              "    <tr>\n",
              "      <th>3</th>\n",
              "      <td>3</td>\n",
              "      <td>Il Panino del Laghetto</td>\n",
              "      <td>168.0</td>\n",
              "      <td>5.0</td>\n",
              "      <td>9.5</td>\n",
              "      <td>168.0</td>\n",
              "      <td>Italian</td>\n",
              "      <td>1</td>\n",
              "      <td>45.46162</td>\n",
              "      <td>9.19556</td>\n",
              "      <td>DUOMO</td>\n",
              "      <td>205</td>\n",
              "      <td>16765</td>\n",
              "      <td>4950</td>\n",
              "      <td>36.0</td>\n",
              "    </tr>\n",
              "    <tr>\n",
              "      <th>4</th>\n",
              "      <td>4</td>\n",
              "      <td>Panzarotti</td>\n",
              "      <td>665.0</td>\n",
              "      <td>5.0</td>\n",
              "      <td>11.5</td>\n",
              "      <td>665.0</td>\n",
              "      <td>Italian</td>\n",
              "      <td>5</td>\n",
              "      <td>45.45179</td>\n",
              "      <td>9.18687</td>\n",
              "      <td>PORTA VIGENTINA - PORTA LODOVICA</td>\n",
              "      <td>44</td>\n",
              "      <td>13686</td>\n",
              "      <td>3300</td>\n",
              "      <td>24.0</td>\n",
              "    </tr>\n",
              "  </tbody>\n",
              "</table>\n",
              "</div>"
            ],
            "text/plain": [
              "   restaurant_id                    Title  ...  Pricexm2  Pricexm2a\n",
              "0              0       Mabuhay Restaurant  ...      6250       38.0\n",
              "1              1     Star Zagros Kebabbar  ...      4100       26.0\n",
              "2              2  Shabby Grill Restaurant  ...      1700        NaN\n",
              "3              3   Il Panino del Laghetto  ...      4950       36.0\n",
              "4              4               Panzarotti  ...      3300       24.0\n",
              "\n",
              "[5 rows x 15 columns]"
            ]
          },
          "metadata": {},
          "execution_count": 75
        }
      ]
    },
    {
      "cell_type": "code",
      "metadata": {
        "colab": {
          "base_uri": "https://localhost:8080/"
        },
        "id": "q0lC0QzI0wvt",
        "outputId": "f88f8272-45a1-4a0f-9efa-9f929e5fb9f1"
      },
      "source": [
        "result5.info()"
      ],
      "execution_count": 79,
      "outputs": [
        {
          "output_type": "stream",
          "name": "stdout",
          "text": [
            "<class 'pandas.core.frame.DataFrame'>\n",
            "Int64Index: 2265 entries, 0 to 2264\n",
            "Data columns (total 15 columns):\n",
            " #   Column             Non-Null Count  Dtype  \n",
            "---  ------             --------------  -----  \n",
            " 0   restaurant_id      2265 non-null   int64  \n",
            " 1   Title              2265 non-null   object \n",
            " 2   Reviews            2169 non-null   float64\n",
            " 3   Rating             2265 non-null   float64\n",
            " 4   Price              2265 non-null   float64\n",
            " 5   Revenue            2265 non-null   float64\n",
            " 6   Category           2265 non-null   object \n",
            " 7   ID_NIL             2265 non-null   int64  \n",
            " 8   lat                2265 non-null   float64\n",
            " 9   lng                2265 non-null   float64\n",
            " 10  NIL                2265 non-null   object \n",
            " 11  restaurants_count  2265 non-null   int64  \n",
            " 12  Population         2265 non-null   int64  \n",
            " 13  Pricexm2           2265 non-null   int64  \n",
            " 14  Pricexm2a          1728 non-null   float64\n",
            "dtypes: float64(7), int64(5), object(3)\n",
            "memory usage: 283.1+ KB\n"
          ]
        }
      ]
    }
  ]
}